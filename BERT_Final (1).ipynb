{
  "cells": [
    {
      "cell_type": "markdown",
      "metadata": {
        "id": "L6f2b6ihdhIN"
      },
      "source": [
        "# BERT\n",
        "\n",
        "\n",
        "The BERT model was proposed in BERT: ***`Pre-training of Deep Bidirectional Transformers`*** *italicized text* for Language Understanding by Jacob Devlin, Ming-Wei Chang, Kenton Lee and Kristina Toutanova. It’s a bidirectional transformer pretrained using a combination of masked language modeling objective and next sentence prediction on a large corpus comprising the Toronto Book Corpus and Wikipedia."
      ]
    },
    {
      "cell_type": "markdown",
      "metadata": {
        "id": "Ufxe4p4Jecgr"
      },
      "source": [
        "# Importing Libraries\n",
        "\n",
        "This cell installs the necessary libraries for the project:\n",
        "\n",
        "`tensorflow pandas and numpy`, For Machine Learning and Data analysis.\n"
      ]
    },
    {
      "cell_type": "markdown",
      "metadata": {
        "id": "xm7TQXCVfdjG"
      },
      "source": [
        "# Transformers\n",
        "\n",
        "To use pretrained features we are deep diving into Transformers.\n",
        "\n",
        "**Transformers:**\n",
        "\n",
        "Transformers are a class of deep learning models that have revolutionized various **`natural language processing (NLP)`** tasks. Unlike traditional sequence models like **`recurrent neural networks (RNNs)`** or **`convolutional neural networks (CNNs)`**, transformers rely entirely on self-attention mechanisms to draw global dependencies between input and output tokens. Key components of transformers include:\n"
      ]
    },
    {
      "cell_type": "code",
      "execution_count": null,
      "metadata": {
        "id": "3TofUaTfo_P3"
      },
      "outputs": [],
      "source": [
        "import tensorflow as tf\n",
        "import pandas as pd\n",
        "import numpy as np\n",
        "\n",
        "from tqdm.auto import tqdm\n",
        "import tensorflow as tf\n",
        "\n",
        "# We imported BertTokenizer to tokenize our dataset\n",
        "from transformers import BertTokenizer"
      ]
    },
    {
      "cell_type": "markdown",
      "metadata": {
        "id": "Ng-7qHizpsqt"
      },
      "source": [
        "# Load Dataset\n",
        "\n",
        "Load the dataset locally or can be load from drive as well."
      ]
    },
    {
      "cell_type": "code",
      "execution_count": null,
      "metadata": {
        "id": "gTcnfzSnphQT"
      },
      "outputs": [],
      "source": [
        "df = pd.read_csv('/content/Train_image.csv')"
      ]
    },
    {
      "cell_type": "code",
      "execution_count": null,
      "metadata": {
        "colab": {
          "base_uri": "https://localhost:8080/",
          "height": 206
        },
        "id": "qynZvzrFpotb",
        "outputId": "45a9e783-9939-4e3d-87bf-019fa4a71879"
      },
      "outputs": [
        {
          "output_type": "execute_result",
          "data": {
            "text/plain": [
              "   Unnamed: 0.1  Unnamed: 0  \\\n",
              "0            77          77   \n",
              "1           183          86   \n",
              "2           276          88   \n",
              "3           124          27   \n",
              "4           133          36   \n",
              "\n",
              "                                      extracted_text  labels  \n",
              "0  SR CLIENT NAME: : VENDOR NAME: M/s DANGOTE OIL...       0  \n",
              "1  LIST OF RELATED DRAWINGS SR. NO. DRG. NO. REV....       2  \n",
              "2  1 2 3 4 5 6 7 8 9 10 \" 12 13 14 15 16 7 18 19 ...       1  \n",
              "3  1 BK 8 a NOZZLE SCHEDULE TABLE DESIGN DATA FLA...       2  \n",
              "4  EIL PR NO.: A545-101-EE-PR6170/5029 Rev.0 EQPT...       2  "
            ],
            "text/html": [
              "\n",
              "  <div id=\"df-d9e6a064-90e7-4abd-ba38-b80dc5d73655\" class=\"colab-df-container\">\n",
              "    <div>\n",
              "<style scoped>\n",
              "    .dataframe tbody tr th:only-of-type {\n",
              "        vertical-align: middle;\n",
              "    }\n",
              "\n",
              "    .dataframe tbody tr th {\n",
              "        vertical-align: top;\n",
              "    }\n",
              "\n",
              "    .dataframe thead th {\n",
              "        text-align: right;\n",
              "    }\n",
              "</style>\n",
              "<table border=\"1\" class=\"dataframe\">\n",
              "  <thead>\n",
              "    <tr style=\"text-align: right;\">\n",
              "      <th></th>\n",
              "      <th>Unnamed: 0.1</th>\n",
              "      <th>Unnamed: 0</th>\n",
              "      <th>extracted_text</th>\n",
              "      <th>labels</th>\n",
              "    </tr>\n",
              "  </thead>\n",
              "  <tbody>\n",
              "    <tr>\n",
              "      <th>0</th>\n",
              "      <td>77</td>\n",
              "      <td>77</td>\n",
              "      <td>SR CLIENT NAME: : VENDOR NAME: M/s DANGOTE OIL...</td>\n",
              "      <td>0</td>\n",
              "    </tr>\n",
              "    <tr>\n",
              "      <th>1</th>\n",
              "      <td>183</td>\n",
              "      <td>86</td>\n",
              "      <td>LIST OF RELATED DRAWINGS SR. NO. DRG. NO. REV....</td>\n",
              "      <td>2</td>\n",
              "    </tr>\n",
              "    <tr>\n",
              "      <th>2</th>\n",
              "      <td>276</td>\n",
              "      <td>88</td>\n",
              "      <td>1 2 3 4 5 6 7 8 9 10 \" 12 13 14 15 16 7 18 19 ...</td>\n",
              "      <td>1</td>\n",
              "    </tr>\n",
              "    <tr>\n",
              "      <th>3</th>\n",
              "      <td>124</td>\n",
              "      <td>27</td>\n",
              "      <td>1 BK 8 a NOZZLE SCHEDULE TABLE DESIGN DATA FLA...</td>\n",
              "      <td>2</td>\n",
              "    </tr>\n",
              "    <tr>\n",
              "      <th>4</th>\n",
              "      <td>133</td>\n",
              "      <td>36</td>\n",
              "      <td>EIL PR NO.: A545-101-EE-PR6170/5029 Rev.0 EQPT...</td>\n",
              "      <td>2</td>\n",
              "    </tr>\n",
              "  </tbody>\n",
              "</table>\n",
              "</div>\n",
              "    <div class=\"colab-df-buttons\">\n",
              "\n",
              "  <div class=\"colab-df-container\">\n",
              "    <button class=\"colab-df-convert\" onclick=\"convertToInteractive('df-d9e6a064-90e7-4abd-ba38-b80dc5d73655')\"\n",
              "            title=\"Convert this dataframe to an interactive table.\"\n",
              "            style=\"display:none;\">\n",
              "\n",
              "  <svg xmlns=\"http://www.w3.org/2000/svg\" height=\"24px\" viewBox=\"0 -960 960 960\">\n",
              "    <path d=\"M120-120v-720h720v720H120Zm60-500h600v-160H180v160Zm220 220h160v-160H400v160Zm0 220h160v-160H400v160ZM180-400h160v-160H180v160Zm440 0h160v-160H620v160ZM180-180h160v-160H180v160Zm440 0h160v-160H620v160Z\"/>\n",
              "  </svg>\n",
              "    </button>\n",
              "\n",
              "  <style>\n",
              "    .colab-df-container {\n",
              "      display:flex;\n",
              "      gap: 12px;\n",
              "    }\n",
              "\n",
              "    .colab-df-convert {\n",
              "      background-color: #E8F0FE;\n",
              "      border: none;\n",
              "      border-radius: 50%;\n",
              "      cursor: pointer;\n",
              "      display: none;\n",
              "      fill: #1967D2;\n",
              "      height: 32px;\n",
              "      padding: 0 0 0 0;\n",
              "      width: 32px;\n",
              "    }\n",
              "\n",
              "    .colab-df-convert:hover {\n",
              "      background-color: #E2EBFA;\n",
              "      box-shadow: 0px 1px 2px rgba(60, 64, 67, 0.3), 0px 1px 3px 1px rgba(60, 64, 67, 0.15);\n",
              "      fill: #174EA6;\n",
              "    }\n",
              "\n",
              "    .colab-df-buttons div {\n",
              "      margin-bottom: 4px;\n",
              "    }\n",
              "\n",
              "    [theme=dark] .colab-df-convert {\n",
              "      background-color: #3B4455;\n",
              "      fill: #D2E3FC;\n",
              "    }\n",
              "\n",
              "    [theme=dark] .colab-df-convert:hover {\n",
              "      background-color: #434B5C;\n",
              "      box-shadow: 0px 1px 3px 1px rgba(0, 0, 0, 0.15);\n",
              "      filter: drop-shadow(0px 1px 2px rgba(0, 0, 0, 0.3));\n",
              "      fill: #FFFFFF;\n",
              "    }\n",
              "  </style>\n",
              "\n",
              "    <script>\n",
              "      const buttonEl =\n",
              "        document.querySelector('#df-d9e6a064-90e7-4abd-ba38-b80dc5d73655 button.colab-df-convert');\n",
              "      buttonEl.style.display =\n",
              "        google.colab.kernel.accessAllowed ? 'block' : 'none';\n",
              "\n",
              "      async function convertToInteractive(key) {\n",
              "        const element = document.querySelector('#df-d9e6a064-90e7-4abd-ba38-b80dc5d73655');\n",
              "        const dataTable =\n",
              "          await google.colab.kernel.invokeFunction('convertToInteractive',\n",
              "                                                    [key], {});\n",
              "        if (!dataTable) return;\n",
              "\n",
              "        const docLinkHtml = 'Like what you see? Visit the ' +\n",
              "          '<a target=\"_blank\" href=https://colab.research.google.com/notebooks/data_table.ipynb>data table notebook</a>'\n",
              "          + ' to learn more about interactive tables.';\n",
              "        element.innerHTML = '';\n",
              "        dataTable['output_type'] = 'display_data';\n",
              "        await google.colab.output.renderOutput(dataTable, element);\n",
              "        const docLink = document.createElement('div');\n",
              "        docLink.innerHTML = docLinkHtml;\n",
              "        element.appendChild(docLink);\n",
              "      }\n",
              "    </script>\n",
              "  </div>\n",
              "\n",
              "\n",
              "<div id=\"df-ea20e799-fbad-49b8-b3e1-6feb12f7fa6f\">\n",
              "  <button class=\"colab-df-quickchart\" onclick=\"quickchart('df-ea20e799-fbad-49b8-b3e1-6feb12f7fa6f')\"\n",
              "            title=\"Suggest charts\"\n",
              "            style=\"display:none;\">\n",
              "\n",
              "<svg xmlns=\"http://www.w3.org/2000/svg\" height=\"24px\"viewBox=\"0 0 24 24\"\n",
              "     width=\"24px\">\n",
              "    <g>\n",
              "        <path d=\"M19 3H5c-1.1 0-2 .9-2 2v14c0 1.1.9 2 2 2h14c1.1 0 2-.9 2-2V5c0-1.1-.9-2-2-2zM9 17H7v-7h2v7zm4 0h-2V7h2v10zm4 0h-2v-4h2v4z\"/>\n",
              "    </g>\n",
              "</svg>\n",
              "  </button>\n",
              "\n",
              "<style>\n",
              "  .colab-df-quickchart {\n",
              "      --bg-color: #E8F0FE;\n",
              "      --fill-color: #1967D2;\n",
              "      --hover-bg-color: #E2EBFA;\n",
              "      --hover-fill-color: #174EA6;\n",
              "      --disabled-fill-color: #AAA;\n",
              "      --disabled-bg-color: #DDD;\n",
              "  }\n",
              "\n",
              "  [theme=dark] .colab-df-quickchart {\n",
              "      --bg-color: #3B4455;\n",
              "      --fill-color: #D2E3FC;\n",
              "      --hover-bg-color: #434B5C;\n",
              "      --hover-fill-color: #FFFFFF;\n",
              "      --disabled-bg-color: #3B4455;\n",
              "      --disabled-fill-color: #666;\n",
              "  }\n",
              "\n",
              "  .colab-df-quickchart {\n",
              "    background-color: var(--bg-color);\n",
              "    border: none;\n",
              "    border-radius: 50%;\n",
              "    cursor: pointer;\n",
              "    display: none;\n",
              "    fill: var(--fill-color);\n",
              "    height: 32px;\n",
              "    padding: 0;\n",
              "    width: 32px;\n",
              "  }\n",
              "\n",
              "  .colab-df-quickchart:hover {\n",
              "    background-color: var(--hover-bg-color);\n",
              "    box-shadow: 0 1px 2px rgba(60, 64, 67, 0.3), 0 1px 3px 1px rgba(60, 64, 67, 0.15);\n",
              "    fill: var(--button-hover-fill-color);\n",
              "  }\n",
              "\n",
              "  .colab-df-quickchart-complete:disabled,\n",
              "  .colab-df-quickchart-complete:disabled:hover {\n",
              "    background-color: var(--disabled-bg-color);\n",
              "    fill: var(--disabled-fill-color);\n",
              "    box-shadow: none;\n",
              "  }\n",
              "\n",
              "  .colab-df-spinner {\n",
              "    border: 2px solid var(--fill-color);\n",
              "    border-color: transparent;\n",
              "    border-bottom-color: var(--fill-color);\n",
              "    animation:\n",
              "      spin 1s steps(1) infinite;\n",
              "  }\n",
              "\n",
              "  @keyframes spin {\n",
              "    0% {\n",
              "      border-color: transparent;\n",
              "      border-bottom-color: var(--fill-color);\n",
              "      border-left-color: var(--fill-color);\n",
              "    }\n",
              "    20% {\n",
              "      border-color: transparent;\n",
              "      border-left-color: var(--fill-color);\n",
              "      border-top-color: var(--fill-color);\n",
              "    }\n",
              "    30% {\n",
              "      border-color: transparent;\n",
              "      border-left-color: var(--fill-color);\n",
              "      border-top-color: var(--fill-color);\n",
              "      border-right-color: var(--fill-color);\n",
              "    }\n",
              "    40% {\n",
              "      border-color: transparent;\n",
              "      border-right-color: var(--fill-color);\n",
              "      border-top-color: var(--fill-color);\n",
              "    }\n",
              "    60% {\n",
              "      border-color: transparent;\n",
              "      border-right-color: var(--fill-color);\n",
              "    }\n",
              "    80% {\n",
              "      border-color: transparent;\n",
              "      border-right-color: var(--fill-color);\n",
              "      border-bottom-color: var(--fill-color);\n",
              "    }\n",
              "    90% {\n",
              "      border-color: transparent;\n",
              "      border-bottom-color: var(--fill-color);\n",
              "    }\n",
              "  }\n",
              "</style>\n",
              "\n",
              "  <script>\n",
              "    async function quickchart(key) {\n",
              "      const quickchartButtonEl =\n",
              "        document.querySelector('#' + key + ' button');\n",
              "      quickchartButtonEl.disabled = true;  // To prevent multiple clicks.\n",
              "      quickchartButtonEl.classList.add('colab-df-spinner');\n",
              "      try {\n",
              "        const charts = await google.colab.kernel.invokeFunction(\n",
              "            'suggestCharts', [key], {});\n",
              "      } catch (error) {\n",
              "        console.error('Error during call to suggestCharts:', error);\n",
              "      }\n",
              "      quickchartButtonEl.classList.remove('colab-df-spinner');\n",
              "      quickchartButtonEl.classList.add('colab-df-quickchart-complete');\n",
              "    }\n",
              "    (() => {\n",
              "      let quickchartButtonEl =\n",
              "        document.querySelector('#df-ea20e799-fbad-49b8-b3e1-6feb12f7fa6f button');\n",
              "      quickchartButtonEl.style.display =\n",
              "        google.colab.kernel.accessAllowed ? 'block' : 'none';\n",
              "    })();\n",
              "  </script>\n",
              "</div>\n",
              "    </div>\n",
              "  </div>\n"
            ],
            "application/vnd.google.colaboratory.intrinsic+json": {
              "type": "dataframe",
              "variable_name": "df",
              "summary": "{\n  \"name\": \"df\",\n  \"rows\": 284,\n  \"fields\": [\n    {\n      \"column\": \"Unnamed: 0.1\",\n      \"properties\": {\n        \"dtype\": \"number\",\n        \"std\": 82,\n        \"min\": 0,\n        \"max\": 284,\n        \"num_unique_values\": 284,\n        \"samples\": [\n          11,\n          165,\n          186\n        ],\n        \"semantic_type\": \"\",\n        \"description\": \"\"\n      }\n    },\n    {\n      \"column\": \"Unnamed: 0\",\n      \"properties\": {\n        \"dtype\": \"number\",\n        \"std\": 27,\n        \"min\": 0,\n        \"max\": 96,\n        \"num_unique_values\": 97,\n        \"samples\": [\n          80,\n          61,\n          74\n        ],\n        \"semantic_type\": \"\",\n        \"description\": \"\"\n      }\n    },\n    {\n      \"column\": \"extracted_text\",\n      \"properties\": {\n        \"dtype\": \"string\",\n        \"num_unique_values\": 243,\n        \"samples\": [\n          \"STEAM INLET STEAM EXHAUST WITHIN CONFINES OF COMPRESSOR UNIT START A PERMISSIVE\\u201c 0 SUCTION DISCHARGE | ie THIS DOCUMENT IS REVISED B\\u00a5_ JEC JEGMEC) _ . fE ALA PERMISSIVE ag PER Moc _JGE12012JFCC001 ; Ag <> _ ah) OF WARK UP RECEIVED FROM A AFTER GECHTEL TIRNOVER OF JERP. 1083/08/13 _RA 08/08/13 PREPARED) pave [cHecKen| are |appRoveD| DATE ME CANT CAT AeA eT EMERGENCY oe t eae a eS)\\\" |REASON FOR ISSUE: : 4 SG : Jo8/08/43[_ } | L TURNING > | OF a Ne PURGE AQlL PURIFIER 3/4\\\" ><EL LUBE OIL RUNDOWN TANK TO O'L TANK STEAM INLET ate A FO ZiNoos MOC: JGE12012JFCC001 | | | | He Gy 3/4\\\" AN ce A 3/4\\\" : 3 ELECTRIC HEATER c EARTH LUG | | AC415V>~----- | 3 Ay A oe Cp | LUBE OIL TANK EARTH LUG \\\\ SEE DETAIL *A\\u201d \\u00bb \\u2122 \\\\ f \\\\ MAIN LUBE O1L PUMP TURBINE ML al ay Loy AIAN (B&F PP) (PB) (PB) REMARKS LY MARKS SHOW THE DIVISION OF SUPPLY. : WITHIN CONFINES OF OIL CONSOLE \\\\ 602) a CoOL ING ene ao \\\\005/ \\\\006/ CUSTOMER Y MHI ee wn MOTT IGE12012JFCCO01 2.\\u20ac3 SHOWS INSTRUMENT ON LOCAL GAUGE BOARD. | / ns rT caer : A 9. UNIT CO1/C51 TAG NUMBERS WILL BE PREFIXED I ia Wozeue Kos To BE \\u2014 < ; p13. 'S TO BE pREFIXED WITH: 4.3 SHOWS INSTRUMENT ON \\\"DCS BY 4DA/4DB. 9 FOR COI | | \\\\ -CO a 6 sHeWs PLE BN THE Use A 10, CONTROL INSTRUMENTATION FOR COMPRESSER DRIVE TURBINE re, Yeas rene \\u201c 1S SHOWN ON \\\"P&ID FOR CONTROL OIL\\\":M2-U0408_ - SS FORCSI } c 6.2 SHOWS INSTRUMENT ON,OR INSIDE CABINET(UCP) = 4; Try OF OIL PUMP DRIVE TUBINE 1S mS | Aart | WITHIN PIB. DESIGNED TO BE OPERATED BY HAND 14, READ TAG NUMBERS OF PT AS, T UNAGAR PROJECT 7 --- HARD LINK 12. TANK HEATER HAS INTEGRAL CONTROL THERMOSTAT AND SAFETY tia pyaye rons nescon NOB NO. BDS66 A 8.-e SERIAL LINK TO/FROM DCS ESI 0 eT Tne belies = EQ NO.MC-RF414-CO1/C51 EER SS AT USS BS a ee ee ee ee ee ee BECHTEL 6-262475 rR REL TANCE |~ SPaR SPARE} #OSK ING 1 Ey OWNER FORM NO.A3 Surf . ms TEs peetees jrd ANGLE PROJECTION rian FORD t ae sAMEND AS CUSTOMER\\u2019S COMMENT. smi la eee oe] Le ISOM SCREW THREADS AMEND ALL INSTRUMENTS? R-4:AMEND AS CUSTMER\\u2019S COMMENT. TAG NO AMEND INSTRUMENTS\\u2019 TAG.NO, JUN.13\\u00b097 T.H T.Y OCT.6\\u00b097 =. T.H R-2:AMEND INSTRUMENTS\\u2019 TAG NO, eS SLAMENDED DEC. 4 Olle CHANGE AUX. PUMP DRIVER. - BTAMENDES. \\u201cJan.24'e) Rae PN JUL.9'97 TY TAH a STEAM TURB UNG ce le 3:CHANGE AUX PUMP DRIVER. ( si BE MAIN LUBE OIL PUMP AUG,7\\u00b097. T.Y T.H AN STEAM EXHAUST 3/a\\u00b0 | LUBE OIL FILTER >< Bechtel By: ~ URBINE ENG! eae i aE eDEPA ARTMENT OMPRESSOR CECH lel are TRB WE. DESH HG 3) Sect FON \\u2018| Ban \\u2014 y APPROVED DRAWN 7 \\\\ Zens Fond Permissicn to Proceed does not constitute acceptance or approval of design detail, Calculations,analysis,test methods or matertals developed or selected by supplier and does not relieve supplier from fuli comPliance with contractual obligations, \\u201cPofag | 1WORK way PRoceeD [| 5.FoR IWeorMar tan OnLy REVISE_AND RESUBMIT. WORK MAY PROCEED [| 2. SUBJECT TO TNCORPORATION OF CHANGES [] 8. canceLLeo/surercenen [| 3.ReviSE AND at work ay nor PRoceeD [| F. BINAL-CERTIFIED ONLY-HORK MAY Be [| 4.re Lew Nor ie WORK may PROGEED E DRAIN Rettance Petroleum Lim!ted-Jamnogar Refinery Complex Supplier Document Review eon Ep pron (aren Job No, PO No, to cat.No, | Seg.Na. Rev, 22960 [Miclofolo[| | ' [olofs} | [o]\\u00e9}+-RRo SPARE |f DESCRIPTION | MATERIAL. |S\\\" ARRANGE WORKING] SPARE [pen pce TOTAL] SEUNeKe PIEOE} \\u201cMENTS | QUANTITY PER SET| WEIGHT (Kg) A WET GAS COMPRESSOR LUBE OIL SYSTEM \\u00bb Seen HEAVY INDUSTRIES,LTB 3 TAKASAGO MACHINERY WORKS DRAWN C,CODE | C75-A10-101 TC | Cc | HO,10.7 \\u201cON ONIMVUA ZO jx l 2 O> 2 \\u00b0 oO = a ax H9.7.10 H9.4,17 R-0 R-2 . 6-262475 H9.6, 16 ORDER OR R No PHOTO, DATE a8 ae fe a 3 ann eae UE t OR\",\n          \"e \\u2019 A A ~3240 OVERAL LENGTH. ne A F |~2800 FOR 267 229 563 500 500 _ 352 A 506 156 BUNDLE REMOVE 426 A 177 A a wnt) & (a a ee i+ \\\\ 4! ws =e C.G. FOR EMPTY 3 NOS SPACER WN A OUTER PIPE FOQUl SPACE (A) Te | || A 5 (ENB x SOHO Nig A A % Py jo 5 ee eS Ct SA = 3 Fs Pa o = PE Ee) AO) SBP & El x so ee ee a Paes ok \\u2014 WS Y a E \\u00a9 LTT _| E+ E4 4 Rt oo| A H= = 270\\u00b0 L ETS 5 1 3S A Tt 2 oc 4 N O = \\u2014 = U \\u201cP . [ref 3. 7 a yi Zk eee) + Sh @ : WZ, o a N -_\\u2014\\u2014\\u2014y C7 HI E+ | SAS4 ra | \\u2014~| = = TL ! 7 5 Lui. @ = 40 THK z NAME PLATE os = INSULATION Bs INNER PIPE 2 Ie 40 THK | | A X hy y aig BY OTHERS \\\\ | 1.5\\u00b0NB x SCH.80 6] INSULATION | MVE L wly 3/5 BY OTHERS EARTHING LUG uP?) s REFER DIL\\u2014\\u2018Y\\u2019| \\u2014|<= 4i0 A 0 TPE891\\u20141225-\\u201402 | tm (D) _ TT \\u201cA FOR M\\u201424 BOLTS FOR M\\u201424 BOLTS (SCALE - 1 : 8) VIEW FROM \\u2018A-A\\u2019 X DENOTES APPLICABILITY REFERENCE DRAWINGS & STANDARDS GENERAL NOTES: = : ee LG. AA FIL STANDARDS & SPECS 1, ALL DIMENSIONS ARE IN mm, UNLESS OTHERWISE STATED. DESIGN CODE : ; 2, NOZZLE FLANGE BOLT HOLES SHALL BE STRADDLE PRINCIPAL CENTERLINE. ASME SECT. VIIl=DIV.1\\u2014 2015 ED. NO: DESCRIPTION NO: DESCRIPTION 3, FOR NOZZLES ON SHELL, PROJECTIONS ARE REFERRED TO FROM EQUIP. TEMA CLASS TEMA CLASS 'R\\u2019 2007 EDITION. X [7-15-0001] PART DETAILS X |7\\u201415-0014]/PIPE DAVIT (GUIDANCE) A CENTER LINE TO FLANGE CONTACT FACE. A SHELL SIDE | TUBE SIDE 4. ALL BUTT WELDS SHALL BE FULL PENETRATION WELDS, WHEREVER BACK CHIP 7-15-0013] LIFTING LUG DETAIL X | 4-12-8 x Sy, : | Te | nx PT] Av = H = Tt ne | oct \\u2014 in ee CT LT 1400 SUPPORT C/C (N2) A C.L. SLIDING END C.L. FIXED END 664 ED 2 NOS S0x60 ELEVATION 2 NOS. 30\\u00a2 HOLES =D (N2X D ) a lu Yn oO a] Do a uJ 5 Sl [x [7-15-0010] uAcK SCREW TAPPING RA AN) HAIR PIN TYPE 5. ALL TOLERANCES SHALL BE AS PER TEMA AND EIL STD. 7-15-0019. 02 OE CN TEMPERATURE (INT/EXT) eo 5 20/1 20 12077 4 Zs 6. FLANGE GASKET FACE SMOOTH FINISH TO 125-250 AARH. g/em2 (g Ee) (A 2AIB 0076) FARTBING [U6 x |121-976461\\u2014| LICENSOR STD FOR TUBE TO TUBE \\u201c7 04; WORKING TEMPERATURE (IN/OUT) \\u201cc |170.0/151.3 | __37.8/46.1 Bel Mc l7ciScO0T7/NAME PLATE S04 TSHT. | SHEET JOINT REQUIREMENT 7. \\u2018T\\u2019MATCH MARK FOR ASSY SHALL BE PUNCHED ON ALL GIRTH FLANGES Tae - - BAFFLE &TUBESHEET. O5| HYDROSTATIC TEST PR. (SHOP) Kg ema g 13 D =] |X |7\\u201415\\u2014O079]TOLERANCE FOR SHELL&TUBE HEAT EXCH. | PRESSURE VESSEL MONEL 8, SPARES :- FASTENERS 20% (MIN. FOUR NOS.) AND GASKET 400%. 06 MIN DESIGN METAL TEMP (MDMT S}_ |X |7-15-001 9|TOLERANCE FOR SHELLATUBE HEAT EXCH. | X |3 Ri) (SEPARATE SPARE PART DOCUMENT WILL BE SUBMITTED) MAWP(CORRODED /NEW Kg/ 9) AD e X |6-15\\u20140006/STD. SPEC. FOR U-TUBES. A\\\\ |X |3-11-8 | PRESSURE VESSEL CARBON STEEL g/em a 12 ake : ; DO Oe ee eee a enue tee tee OBTLIMITING COMPONENT (CORR/NEW) \\u00b0C /\\\\| BONNET FLG. | REDUCING FucAy 5 o X |A545\\u2014-103-02\\u2014DS\\u2014401\\u2014EU\\u20141002 FOR CAUSTIC HEADER\\u2014R3 B16.20. . . 091 CORROSION ALLOWANCE mm 3.00 3. 00(CS) C : a A R3} 10. PWHT CYCLE: (TUBE SIDE) 635+14\\u00b0C FOR 1 HR, ROC/ROH:100\\u00b0C/hr. 10| RADIOGRAPHY 100% 100% A > BR ALLOWABLE NOZZLE LOADS 11. PAINTING: ALL EXTERNAL UNMACHINED SURFACE SHALL BE SHOT BLASTED 11{POST WELD HEAT TREATMENT NIL YES (CS_ONLY)NOTE=10| \\u201cAy oy TO SA 2 V2 AND APPLY. 1 [| FORMING HEAT TREATMENT NIL NIL S6 NOZZLE| SIZE FORCE re MOMENT aa SHELL SIDE: PRIMER PAINT: ONE COAT OF INORGANIC ZINC SILICATE 13] FLUID LP STEAM 114.3 wt% CAUSTIC \\u00a9 \\u2018iB COATING (F9) @ 75 MICRONS DFT. PER COAT. {alNO, OF BESSES BNE NE no MARK | (NB) FINISH PAINT: 3 COATS OF HEAT RESISTANCE SILICONE ALUMINIUM PAINT \\u2014 Ur. Fwy (F12) @20MICRONS DFT. TOTAL DFT PER COAT. TOTAL FINAL DFT:135 5 INSULATION \\u00a2 5 iH A A Oz MICRONS 16] INSULATION (BY OTHERS 40 40 wr A TUBE SIDE: PRIMER PAINT: 1 COAT OF ea ZINC SILICATE . \\\"EN-1991-1-4:2010 ED., BASIC WIND 0 COATING (F9) @ 65-75 MICRONS DFT. PER COA Z| WIND SPECIFICATION A\\\\ |speep: 33.5M/S (FOR 10 MIN. DURATION ne INTERMEDIATE PRIMER PAINT: ONE COAT OF EPOXY ZINC PHOSPHATE O PRIMER CURED WITH POLAMINE HARDENER (P6) @ 40 MICRON DFT/COAT. 48 | SEISMIC SEISMIC FORCE CORRESPONDING 10 oO FINISH PAINT: TWO COAT OF HIGH BUILT EPOXY FINISH COATING CURED HORIZONTAL ACCELERATION OF 0.05G\\\\ eT WITH POLYAMIDE HARDENER (F-6A) @ 100 MICRON DFT/COAT + 1 COAT OF 13 EMPTY WEIGHT Kg | 630 A of FOUNDATION LOADING DATA PER SADDLE MICRON DPT) COAT (100240 = S40) NTE @ A O| WEIGHT WITH FULL OF WATER Kg _| 670 z\\u00a5 345. a TOTAL SURFACE AREA ((EFFECTIVE) m2 | 0.681 EIL PR. NO: A545-151-EE-PR-6140-5384 =z TYPE | SHEAR (Kgs)} MOMMENT (Kg\\u2014m) TOTAL FINAL DFT : 345-355 MICRONS. 7 \\u2014 OQ Cwino 7075 12. ALTERNATE DESIGN STEAM CONDITIONS AT EXCHANGER INLET IS 5.5 22|HEAT EXCHANGED 0.04294 1076.kcal/h__ AN CLIENT: A e 47 505 r3|_- Kg/om2 (g) AT 190\\u00b0C. SATURATED TEMPERATURE IS 161\\u00b0C. 23|MFGRS. SERIAL NO. (MSN) ~\\u2014~S~*~C\\u201c\\u00ab*~\\u201cC*\\u00ab~SYS:C<CTPESQI\\u2014-OD\\u2014C\\u201ddsd\\u00abs\\u00e9i\\u00abC(\\u2018CNTC\\u2018id Zz LSEISMIC 124 ; 13. HARDNESS FOR ALL CS MATERIAL IN CONTANT WITH TUBE SIDE FLUID SR DANGOTE PETROLEUM REFINERY AND PETROCHEMICALS (FZE) SE A R3| SHALL BE LIMITED TO 200BHN AFTER PWHT. eg A pq 14 NON- FERROUS U-BENDS SHALL BE STRESS RELIVED AFTER BENDING. DANGOTE| PROJECT : DANGOTE REFINERY & PETROCHEMICALS 3 PROJECT (FZE) A ~ be TUBE SIDE OF THIS EXCHANGER| A Suse, aNeuaeua eT 1S IN CAUSTIC SERVICE ENGINEERS INDIA LIMITED, NEW DELHI wu \\u00a9 (A Govt. of India Undertaking) EE E.I.L. JOB NO. :\\u2014 A545 = a MANUFACTURED BY : az . Zz 4 TECHNO PROCESS Equipments (I) Pvt. Ltd. a& A A As AN ISO 9001 CERTIFIED COMPANY. Ea Vi SHANHEL VENT | 1] 3/4\\\" [SCH.XXS|300#/ASME B16.5 WNRF [SEE DRG] _ | BF. cgay ed | ENGG/ADMIN: R-261, MIDC RABALE, THANE-BELAPUR ROAD, NAVI MUMBAI-400 701 INDIA. wm} [Vv [VENT Ss 1\\u2018 |_ 1.5\\u201d [SCH.160[300#/7ASME B16.5 WNRF et tee Pe a TLE: @) PoC LDRAINIEW DETAIL |_1.5\\u201d [SCH.160|3002/7ASME B16.5 WNRF_ | 310 | | 6 [REVISED AS PER COMMENTS 17.12.2019 GENERAL ASSEMBLY & NOTES FOR MPT<MP4T MP VIEW DETAILS 5\\u201d [SCH.160|300#/ASME B16.5 WNRF aie sp PER COMMENT 11. Np Comme? [CHANNEL OUTLET a SCH.160|300#/ASME _B16.5 WNRF [SEE DRG. Dis 1D PER COMMENTS 08. CAUSTIC HEATER lal ey clases | 1 | |2\\u201d |SCH.160|300#/ASME B16.5 WNRF |SEE DRG. at 2.85 lO PER COMMENTS .O5. ITEM NO: 103\\u2014-EU\\u2014-1002 heat NZ noe L Std not | 2\\u201d |SCH.160|300#/ASME_B16.5_WNRF 120x12THK [42.85 _1D a PER COMMENTS DI, A meds Hebube SHelelv. INLET sen SCH.160[300#/ASME B16.5 WNRF 120x12THK {42.85 DJ TPE891\\u2014SPL SPARE PART LIST A\\\\ PER COMMENTS \\u00e9 DATE\\u201411.10.2017 |SCALE \\u2014 AS SHOWN tae aca DESIGN? ae SCH/THK| TYPE/FACING & RATING| PROJ. |0.D xT ees TPE891-\\u20141225-\\u201403 DAVIT DETAILS AN ISSUED FOR APPROVAL 22. 11. \\u20182017 DRAWING No. Sine With Dat 49-DEC | NOZZLES (NB FLANGES NOZzZ. |R.F. PAD TPE891 = 1225-02 DESCRIPTION TPF891\\u2014-1225-01 \\u2018ores viewer oAWANNCUMAR MAME O77 NOZZLE SCHEDULE \\u2014_ \\u2014_ toeg KS\",\n          \"\\u2018A545-101-EE -PR6170/5029 Rev.0 EQPT NAME : CRUDE/CRUDE COLUMN VAPOR EXCHANGER EQPT NO : 101-EE-1001A GODREJ PROJECT NO: 131299 raz 7 z 3 z 5 z 7 a a 70 I Ti T 7 3 = LL. = 6 NOTES: oe a an aa A &) NOTE ac ary Maal ae a Oe) 1 |aeaSeene SA Pa EEE OTHERS SR seen yer uy cht Lio 1+ _ | Eaur-secp, ror expansion 3. ror Scrat or TUDE BUNDLE AGSCMOLY REFER TO SHIECT NO. 2 OF 6. a) |) a on 4. FLOATING HEAD FASTENERS iT. NOS. 307 SHALL HAVE GROOVES OF 2mm WIDE x 0.5mm DEEP GROOVE AT co DOATON RESERORCATATON Eon Foe TO FREVENT DUD wi SEL Gowen FASTEN, | 229 | ; |= 5. GASKET TYPE/MATERL OF fT. NO. 314 SHALL BE AS PER ASVE 816.20 \\u20ac0-2012, OCTAGONAL TYPE RING GASKET ' 33g i ot Z 1 gl A (GOFT IRON, 90 BHN WAX. HARDNESS) a7 8 | 4... i i i \\u00a5 AS EMO. $10,520,521335,544,345,348 SHALL BE SUPPLED TO EXPANSION BELLOW MANUFACTURER AS FREE ISSUE i = i Ey ee 7. BASED ON THE AVALABIUTY OF THE PLATE MATERIAL, LONG. SEAM WIDTH CAN BE ADJUSTED FOR IT. NO, 322. A | | \\u00a5 | ze it] x ZX 8. ALL CS MATERIALS IN CONTACT Witt! TUBE SIDE FLUD SHALL GE COMPLIED WITH MRDIOS.& SPO472. i i | 3 hoy 7 (397) 8, INCREMENTAL/DECREMENTAL IN THE LENGTH OF CONE JT. NO. 326 SHALL BE ACCOMMODATED IN STUB SHELL | ee | aI ii} - 3 INO. 332. HOWEVER THE OVERALL LENGTH OF 1168 TO BE MAINTAINED. TT} 305) }4 _____\\u2014_] 10. AFTER ASSEMBLY, DIMENSION BETWEEN THE COLLAR ON SLEEVE (If. NO. 323) ANO GASKET FACE OF FLaNce | | 1338 | g (T..NO. 313) 1S TO. BE MEASURED THROUGH 3 HOLES 120 DEG. APART TO ENSURE THE ADEOUATE SPACE IS i 18548 H {ft & SVALAGLE FOR EXPECTED EXPANSION\\u2019 AND \\u2018CONTRACTION. | g g = | 15. i e 4 py } A 5 2 Baal A 1 1 No. 800 woue | . ERI, OFF CS so i 1 For 27 sTU0s ! [S303 | i -SEE_NOTE 6_ 3I ON ! | a REF. SHT HO. (eojeeusome 3 FLANGE sero 8) | eo y - A | | 2 A _ BOLT TORQUE _ 8 | ORIENTATION OF L$301,302,303 ieee ped. 1 o oly 4] TEM NO. \\u2018SIZE MATERIAL BOLT TORQUE | MINOR DIA. (cm) | ROOT,AREA (em?) 8 3 3 Borat PROUECT NO. 131200:302 : veo | 3) OI ty y ~J _ fect fos en Oe 2) os nr 2 68 NO. 386 HOLES, cou-seco, | | | ELEVATION A Mi & me \\u00ab(uss x | SNBS GBH | 1180 $1985 01987 a OFF CIRS. FOR USB STUDS \\\" ' ELEVATION sa94 Gein ore I | | DETAILS OF TAILING LUG. a wa7 x 3\\u00b0] SAI9S GBT 410 22055 413857 Sx 4s i SEE NOTE 6 i 194 or.2H oe ! BEE SHT NO. 6 } 16 & Si musa en iaaT : al peels cota oe epson HERTS We HF SAT Cay 780 85s 3 ! : z SLOTS OW ANGLE BELLOW (TOP SE) | sai9e crate I | I 3 ae EE ON 8 aa a u 3 ' ' | 2 A el 140 ! | ales a 8 sap i 2s}, 90 al oe | glue8 A= A rh I e100 ft M30_x 3 THOS. (24a)-\\u00a2 HOS. -18t-f < it ! akea8 | mo weet} 1502 eae ASME CERTIFICATION MARK WITH U-DESIGNATOR+NATIONAL BOARD REGISTRATION we Algo cn Ee Severe 3 @29)57 Th [ ' ee 3 Ae 3 Gan) a - \\u2018 ATS ae N | ! \\u2018TUBE SIDE \\u2014 WET H,S SERVICE#A / d 2 suetve : 30 x 5\\u00b0 HWY, HEX 2 n05. 19+ 30 we 13) SEE DETAR | i} SoS as Siors OW EH CLEATS 3 3 ' q YP. 3 a TI cae pongo 6) @) Lm y i BELLOW (BTM. SIDE \\u201c \\u00bb iss E170 ; ae ee \\u201c8 aas|4 / i Tso se ve M68) | caus o ennco he $ ee a Ae parson ~ ys \\u2018 Al AEA oF 28s [36 L. g | } atuLow R Gams a # Se\\\" [sla a8 ; \\u2014 oO Fle | Ee blSz | res 346, | LOCK NUTS. ~ [SA 194 GR au] 12 [M30 x 3P STD. = 2) PS jes. alae 3 ' = =a a ad ow [_ [ase5._ [Heavy HEX. NUTS [SA 194 GR. en] 24 [M30 x 3P STO = \\u00a7) 8 Bs | 325 al? 8 Gas | PLAN OF CLEATS FOR GUIDE OF EXPANSION BELLOW 44, | UmiT ROD FOR EXPANSION BELLOW [AIS B17L 6 [M30 x 3P x 63016. SEE-DETAL | \\u2014 | a 83 |g. elas | Ay DETAILS OF GUIDE DEVICE [As45, [stud +2 NUT ___|ssiaawsinaau| arava] wi6 x 2P x 90 LG = B) 2 3B\\\" g129 (24d) i DETAILS OF LIMIT RODS FOR EXPANSION BELLOW. A\\\\ \\\\as42_[cuine oevice fsa516 Gr70 | 4 [830 x 140 x 16 THK SEE DETAL | 56 S| os ASSEMBLY OF BELLOW ae 4 ae \\\" [Asay [cteats [sa516 Gr.70 | 4 |170 x 81 x 16 THK. 6.91 3) 8 gi53 | [Aso [PLATE FOR LIFTING TR SA516 Gr.70_| 2 [530 DIA x 30 THK. 104 | y ~ me i 25 nik Hi ME, 200 [aose [rere For uring sasie or70 | 2 | 197 eve. x 293 x 23 wR See OETA] 130] \\u201d == ro 338) (0) [A336 [PAD FOR LIFTING TRUNNION [SA516 Gr.70 2 [900 x 900 x 25 THK. SEE DETAL | 318 *6. ' [A337 [TANG Luc 'SA516 Gr.60 1 [500 x 280 x 90 THK. SEE DETAL | 65 g mo S60 On 21 | A336 | GUSSET FOR LIFTING LUG _|SAS16 Gr.70 | 16 [422 x 272 x 25 THK. SEE OETAL | 182 Je 0 eet 35 [PLATE FOR LIFTING LUG |SA516 Gr.60 | 4 [567 x 215 x 45 THK. SEE OETAL | 172 3s ae (UPTO BUTTERNG || |As34. [ANGLE (LOOSE SUPPLY) 15:2062 GR.A/B| 4 | ISA 75 x 75 x BTHK. x 778 LG 2 g : ' CuEATS sasi6 Gr70 | 4 [119 x 88 x 25 THK SEE DETAL [6.22 A 692.19 P.C.0. 28 sar. aN 4 I DELETED = - DETAIL \\u201cD2 | 3 DELETED = ! gl DELETED = + iol FUG. I 2 tS wilt Emenee | : 3 DeveteD \\u2014t = 957.00 8 3 DELETED = esti. | 3 CONE S16 Ge60_| 1 | 57 (NOW) AS PER OEY. Tai E DETAIL - D1 | i STUB SHELL 'SA516 Gr.60 1 [5325 + 171 circ. x 150 x 57 THK.| 357 Dave t | i SQ. HEADED STUD + 1 NUT [smumvisiwom|are+e| M36 x 3P__SEE OETAL 34 = ff ansicdt | Has | { i SLEEVE RING sa2v0 Grint] 1 [670 0/0 x 503 os 05 WR ME DE] 2 i . 36 DEEP TAPPED FOE || a | mene SLEEVE $a240 Gr3t7| 1 | 1720 circ. x 1095 x 65 THK. 28 og Hi 1638 10. A th 2 FOR sTUDS: i Stes ; ice ean Le [Axs21_ [STUB SHELL FOR EXPANSION BELLOW [A516 Gr.60 1 [1838 cire.. x 300+25 x 25 THK. | 108 4 wo fe }j-\\u2014saseren \\\\ are] 320 _| STUB SHELL FOR ExPMON BELLOW|SASTE Gr.60 | 1 [1838 cire. x 250 x 25 THK 30.1 ' i 2 so yo ne wowes Lt gape i (Asis. [stuo + 1 Nur a caw sew cau See804| 24 x 3P x 170 LG 3 i f 8 32.NO._270 HOLES, ann z x \\u00a2 4 ! i Bi ee ARS I i ins 318._| FLANGE \\u2018SAZ66 Gr.2 1 [960 0/0 x 560 1/0 x 128 THK; SEE oeraL | 32: 4 i | ' \\u2018 OFF CTRS. i =\\u2014s 787\\\" ZY DETAIL OF LIFTING TRUNNION. (ros omenrarion [As17. | caser SEE NOTE NO. 94[1+4+1[ 4.5 THK, SEE DETAIL = 403)-1h) | # ar | ee (Asie. [stuo + 1 NUT i BM in Gow] S2v7\\u00a54 [M24 x SP x 285 LG 30 8 ia | 3 | \\u2014_ ee oc. -v \\u00ab a = 15._ [INTERNAL FLANGE SA266 Gr.2 1 | 960 0/0 x 560 1/0 x 256 THK; Set DETAL| 903 TAPPED HOLES. \\u00a5 AA A i 3 d e al \\u00a2 on fe [oe Lae foe | soe 14. [ GASKET SOFT IRON _|14441| OCTAGONAL RING NO. 77 (SEE NOTE 5)| \\u2014 DETAIL OF CONNECTING PIECE ia, =| 3 THK, (MIN), anes fone \\u2018ALOY 825 avr 313. | INTERNAL FLANGE SA266 Gr.2 1 750 0/0 x 560 \\\\/D x 124 THK; SEE DETAIL] 225 EE. FLOATING HEAD ASSEMBLY wio- 3 5 UA I SR curren \\u2014 IA OS\\\" % 270): DETAIL OF GASKET ae | & \\u201cHID 62s puritans \\u201c7 i oy [As12. [EXPANSION BELLOWS [S-M) Ri WS n\\u00e9Gs] 1 | SEE ORAWING 131209-302-OWG-ExB| \\u2014 : as = 575 A I 2 te oo INSOE ele RTP, 5g Le 31s, [stud + 2 NUTS i GBM + 8 GN | 28+644 [M27 x SP x 260 48 ae i 3| exe rr. =F 4 ( ) \\u2018310. | INTERNAL FLANGE 'SA266 Gr.2 1 [770 0/0 x 560 1/0 x 126 THK; SEE DETAL| 165 | \\u2014 ae Ht! Ee 27a] or (aur 5 He, (soo. [caseer SEE NOTE NODA] T441[ 45 TH, SEE DETAL S f= =e et @ k A 7 | ae (eos inn veo pera west tin [wena Gene | Tg Yo WE Ts q ' le src aor HO aw x05 \\\\wss ele ale ree stus SI I WEL 307, [stud 1 2 NUTS fom oan a Gow] cor 12ie | MSS \\u00ab SP x S75 UG. 347 we se BEEP cro ROS jo} i ewe \\u20183 SUTTERROANDUELDOVERAY Cosson\\u00bb isso) 06. | case SEE NOTE nos0] +441] 6.35 THK, SEE DETAL T= TH TP. Tee ga I (By GoDRE) 3 BUTTERING AND WELD OVERLAY ITEM NO, 322 (SLEEVE) e& : (pan OF SQ. END STUD DETAIL OF STUD i olZ \\u2018 3 a) = 305 _| CONNECTING PIECE SA516 Gr.70 | 2 | 36 THK. SEE DETAL 27 | E A 36-NO. M24 x 3P_x_/ 5 \\u2014 \\u2018D | 304. | BACKING RING SA266_Gr.2 1 1932 OD x 1637 ID x 270 THK. 1782 36-DeEP TAPED HOE a2 | = DA dayrstan or cr sense\\u201d oie . j \\u2018303, | FLOATING HEAD FLANGE [A266 Gr.2 1 [1982 0/0 x 1686 1/0 x 267 THK; SEE OETA | 1406 i vee s1U0s : Bu TE } DELETED = 704K, (Now) io | ex UO \\u201c ; seme [| | an CHINN REQURED IN TS RANGE ONLY sor joe Eres = DETAIL OF SLEEVE uo ia w AAXDETAIL \\u201cD4! 7 eta SeorETON marerial | @1Y.[~] DIMENSIONS: (ue) ae lo sli} Stn 58 soowo. aurremne usr wao nuvace fae BILL OF MATERIALS poate waza, OM MRO? ele (BEFORE PUNT > wse = a ; a . dwr\\\\ THE ORANG FRE TE COPTRENTED WOR OF COORE) & BOYCE WEE CO. 1, CODREY & BOYCE W5G_O LD, RESERES \\u00a2 731 (yee - ALL RIGHTS. WHATSOEVER IN THE. DRAWINGS, \\u201cGODREJ &e BOYCE MEG. CO. LID. ASSERTS ITS RIGHTS OVER THE ORAWINGS THAT |G ol | (GETER Punt) eta HAVE BEEN CONCENED BY THE OINT OF ITS EFFORTS AND ALSO VIEWS REPROOUCTION OF THE DRAWINGS, AS 1S OR BY MAKING 9) Q o =] COSMETIC OR OTHER CHANGES, AS A VIOLATION OF ITS COPYRIGHT. NO PART OF THE DRAWINGS SHALL BE COPIED OR met (Maz o7-orzald Mate REPRODUCED WIHOUT THE WRITTEN APPROVAL OF GOORE a BOYCE MFG, CO. LID. j 8 J | ry Be eaeed c 4 8 | 8 8 |S alg ; FoR GODRE For TI yg WYER / zee BS) 8} gle &] 5) 8] gel slg 36_NO._278 HOLES, 7 i TRIMMING (499 sol 3} gle \\u201clle lel | aia THRU,_EQUI-SPACED ly L a) =lelz z| 5ldlg| 21g Suetve = Gy 2/218] G) 2) re) Pre pe, a ane al gee) le sos son oF nozzie eo. Godrej & Boyce Mfg. Co. Ltd. 13 = 3 rene alt OF GIRTH FLANGE 's 560 7 2 Process Equipment Division | TARE a @) DETAIL OF GASKET 2 wee SANS DETAIL D3\\\" MACHINING SYWBOL REMOVED ON IT. NO. 325. DORE BOC. NO. ADDED. DETAIL \\\"D3\\\" 5 [ovroxraor|imcinee, seve seuow 323. 0 wn (FRA PS | wrote, DETAILS OF TUBESHEET & FLOATING \\u2014 | pQPT. NO. 101-E5-1001 aD 5 \\u00a5 z ra u \\u00a2 24 NSE TONG. SEA ORETATON OF TSSOT IDE IOS PODED, WELD DETAIL\\\" WIO FOR HEAD_ASSLY. ee 3 2 | : y=80r Iho, 385 REVISED, HOLE. Di OF yi, SET REGED. BOLT TORQUE TAKE art \\u201cRUDE TY: 4 NO. \\u00a30PT. i 8 {| soma \\u2014 sore 4 {oayr1/2016} FeO. $35, REVSED, HOLE, DA. OF at ran | RAW M_| EQPT. NAME: CRUDE/CRUDE COLUMN VAPOR BXCHANGER| QUANTITY: No. 0H 8 i * ; = \\u201cJ TWATERDL OF T. NO. 337\\u00b0 REVISED\\u201d DETAIS OF EXPANSION BELLOW OMT RODS ine = : a a ae a aa] A tle Le Vv val POU. Mo. Ste oe A0RD, REECE Ne, TOR EAE CT, 5.0. NO.: 650691 | P.O. NO.: AGREEMENT DATED 04/11/2015] BIL JOB NO.: A545 A [1s taper \\\\unsioe, ie 7 _ _ a Noe RewSeD, AND NOTE QO. 7 ACDED. THLE FOR iT, NO. Sez REVSED. raw | ean | mw [CLIENT: DANGOTE PETROLEUM REFINERY AND PETROCHEMICALS FZEA\\\\| uN: RYO, O'S) 4 wnsioe vr Zi SS 7 \\\" j 3 [01/05/2016] ec. REGED AS MARRED, a PROLENM Unit (01) . bE Me q it i 3 RIENTATION OF TORESHEETS REVSED. THK. OF 17 NO. 326 REWSED. LG. OF CONSULTANT: UOP/EI IL PR NO:A545~L01-EE-PR~6170/5029 REV.O DT.16/10/2015 WELD DETAIL Wt\\\" 3 S \\u00a2 _ | | Siva Sut no. $39 neveeD. Tr non 301 sua wowta.70 sar? &?, CONSULTANT: UOP/EE) ___ - i A, WELD DETAIL 'W2\\\" al | ao \\\\ueon ||2 aera] Ry Magar ee ORLETED. TO, 535-3435 ADOED. ORG. REVISED: ran | RaW tw [INSPECTION AGENCY: LRA A\\\\|DORC DOC. NO.: A545-6170~-5029-VD-101-EE~1001.4~ D-003-5 WELD DETAIL 'W3\\\" = = INsiDe | ee ce oe = zZ : See % \\\\ A insive INSIDE A se aonel ND, 80351, DELETED, MN 399 500514.316.317.10.520-97 500-8 [oe Tay GODREJ g Is OF IREV 2 a WELD_DETAIL We\\\" 25/2 Une ee AS ASE, 02/01/2016] PROJECT NO. DRG. NO. _|SHT.) OF |REV [CHIP BACK TO SOUND METAL AND WELD DETAIL \\u2018WS! \\u2014 ==! WELD DETAIL'Wwe | 0 [xx/a/z016|iSSUED FoR APPROVAL pan [ ate 02/01/2016 = | REWELD ir y ul eee 2/01/2018 a % WEL WELD DETAIL 'W4' ev! DATE DESCRIPTION \\u2018auto. | cHKD. o2/or/aore| 131299302 AHE-E-848 | 3 1 I 2 3 I & 5 7 l 38 = 10 iz 14 5 16\"\n        ],\n        \"semantic_type\": \"\",\n        \"description\": \"\"\n      }\n    },\n    {\n      \"column\": \"labels\",\n      \"properties\": {\n        \"dtype\": \"number\",\n        \"std\": 0,\n        \"min\": 0,\n        \"max\": 2,\n        \"num_unique_values\": 3,\n        \"samples\": [\n          0,\n          2,\n          1\n        ],\n        \"semantic_type\": \"\",\n        \"description\": \"\"\n      }\n    }\n  ]\n}"
            }
          },
          "metadata": {},
          "execution_count": 5
        }
      ],
      "source": [
        "df.head()"
      ]
    },
    {
      "cell_type": "code",
      "execution_count": null,
      "metadata": {
        "colab": {
          "base_uri": "https://localhost:8080/"
        },
        "id": "yW0ZSreXsRZz",
        "outputId": "56836286-6ac3-492d-8ece-b340ddb62afd"
      },
      "outputs": [
        {
          "output_type": "stream",
          "name": "stdout",
          "text": [
            "<class 'pandas.core.frame.DataFrame'>\n",
            "RangeIndex: 284 entries, 0 to 283\n",
            "Data columns (total 4 columns):\n",
            " #   Column          Non-Null Count  Dtype \n",
            "---  ------          --------------  ----- \n",
            " 0   Unnamed: 0.1    284 non-null    int64 \n",
            " 1   Unnamed: 0      284 non-null    int64 \n",
            " 2   extracted_text  284 non-null    object\n",
            " 3   labels          284 non-null    int64 \n",
            "dtypes: int64(3), object(1)\n",
            "memory usage: 9.0+ KB\n"
          ]
        }
      ],
      "source": [
        "df.info()"
      ]
    },
    {
      "cell_type": "markdown",
      "metadata": {
        "id": "iyoWALb2p55b"
      },
      "source": [
        "We can drop the clumns which are not required for training as a step of data visualization.\n",
        "\n",
        "`axis=1` represent Columns."
      ]
    },
    {
      "cell_type": "code",
      "execution_count": null,
      "metadata": {
        "id": "EtFr9KBspxGm"
      },
      "outputs": [],
      "source": [
        "df = df.drop(['Unnamed: 0.1','Unnamed: 0'],axis = 1)"
      ]
    },
    {
      "cell_type": "code",
      "execution_count": null,
      "metadata": {
        "colab": {
          "base_uri": "https://localhost:8080/",
          "height": 206
        },
        "id": "iCly_1H_p1Ff",
        "outputId": "e0faf45d-5b1b-4804-b99e-0ae4f0dcd915"
      },
      "outputs": [
        {
          "output_type": "execute_result",
          "data": {
            "text/plain": [
              "                                      extracted_text  labels\n",
              "0  SR CLIENT NAME: : VENDOR NAME: M/s DANGOTE OIL...       0\n",
              "1  LIST OF RELATED DRAWINGS SR. NO. DRG. NO. REV....       2\n",
              "2  1 2 3 4 5 6 7 8 9 10 \" 12 13 14 15 16 7 18 19 ...       1\n",
              "3  1 BK 8 a NOZZLE SCHEDULE TABLE DESIGN DATA FLA...       2\n",
              "4  EIL PR NO.: A545-101-EE-PR6170/5029 Rev.0 EQPT...       2"
            ],
            "text/html": [
              "\n",
              "  <div id=\"df-8db09acd-5d52-461e-be27-ab8a5848db3d\" class=\"colab-df-container\">\n",
              "    <div>\n",
              "<style scoped>\n",
              "    .dataframe tbody tr th:only-of-type {\n",
              "        vertical-align: middle;\n",
              "    }\n",
              "\n",
              "    .dataframe tbody tr th {\n",
              "        vertical-align: top;\n",
              "    }\n",
              "\n",
              "    .dataframe thead th {\n",
              "        text-align: right;\n",
              "    }\n",
              "</style>\n",
              "<table border=\"1\" class=\"dataframe\">\n",
              "  <thead>\n",
              "    <tr style=\"text-align: right;\">\n",
              "      <th></th>\n",
              "      <th>extracted_text</th>\n",
              "      <th>labels</th>\n",
              "    </tr>\n",
              "  </thead>\n",
              "  <tbody>\n",
              "    <tr>\n",
              "      <th>0</th>\n",
              "      <td>SR CLIENT NAME: : VENDOR NAME: M/s DANGOTE OIL...</td>\n",
              "      <td>0</td>\n",
              "    </tr>\n",
              "    <tr>\n",
              "      <th>1</th>\n",
              "      <td>LIST OF RELATED DRAWINGS SR. NO. DRG. NO. REV....</td>\n",
              "      <td>2</td>\n",
              "    </tr>\n",
              "    <tr>\n",
              "      <th>2</th>\n",
              "      <td>1 2 3 4 5 6 7 8 9 10 \" 12 13 14 15 16 7 18 19 ...</td>\n",
              "      <td>1</td>\n",
              "    </tr>\n",
              "    <tr>\n",
              "      <th>3</th>\n",
              "      <td>1 BK 8 a NOZZLE SCHEDULE TABLE DESIGN DATA FLA...</td>\n",
              "      <td>2</td>\n",
              "    </tr>\n",
              "    <tr>\n",
              "      <th>4</th>\n",
              "      <td>EIL PR NO.: A545-101-EE-PR6170/5029 Rev.0 EQPT...</td>\n",
              "      <td>2</td>\n",
              "    </tr>\n",
              "  </tbody>\n",
              "</table>\n",
              "</div>\n",
              "    <div class=\"colab-df-buttons\">\n",
              "\n",
              "  <div class=\"colab-df-container\">\n",
              "    <button class=\"colab-df-convert\" onclick=\"convertToInteractive('df-8db09acd-5d52-461e-be27-ab8a5848db3d')\"\n",
              "            title=\"Convert this dataframe to an interactive table.\"\n",
              "            style=\"display:none;\">\n",
              "\n",
              "  <svg xmlns=\"http://www.w3.org/2000/svg\" height=\"24px\" viewBox=\"0 -960 960 960\">\n",
              "    <path d=\"M120-120v-720h720v720H120Zm60-500h600v-160H180v160Zm220 220h160v-160H400v160Zm0 220h160v-160H400v160ZM180-400h160v-160H180v160Zm440 0h160v-160H620v160ZM180-180h160v-160H180v160Zm440 0h160v-160H620v160Z\"/>\n",
              "  </svg>\n",
              "    </button>\n",
              "\n",
              "  <style>\n",
              "    .colab-df-container {\n",
              "      display:flex;\n",
              "      gap: 12px;\n",
              "    }\n",
              "\n",
              "    .colab-df-convert {\n",
              "      background-color: #E8F0FE;\n",
              "      border: none;\n",
              "      border-radius: 50%;\n",
              "      cursor: pointer;\n",
              "      display: none;\n",
              "      fill: #1967D2;\n",
              "      height: 32px;\n",
              "      padding: 0 0 0 0;\n",
              "      width: 32px;\n",
              "    }\n",
              "\n",
              "    .colab-df-convert:hover {\n",
              "      background-color: #E2EBFA;\n",
              "      box-shadow: 0px 1px 2px rgba(60, 64, 67, 0.3), 0px 1px 3px 1px rgba(60, 64, 67, 0.15);\n",
              "      fill: #174EA6;\n",
              "    }\n",
              "\n",
              "    .colab-df-buttons div {\n",
              "      margin-bottom: 4px;\n",
              "    }\n",
              "\n",
              "    [theme=dark] .colab-df-convert {\n",
              "      background-color: #3B4455;\n",
              "      fill: #D2E3FC;\n",
              "    }\n",
              "\n",
              "    [theme=dark] .colab-df-convert:hover {\n",
              "      background-color: #434B5C;\n",
              "      box-shadow: 0px 1px 3px 1px rgba(0, 0, 0, 0.15);\n",
              "      filter: drop-shadow(0px 1px 2px rgba(0, 0, 0, 0.3));\n",
              "      fill: #FFFFFF;\n",
              "    }\n",
              "  </style>\n",
              "\n",
              "    <script>\n",
              "      const buttonEl =\n",
              "        document.querySelector('#df-8db09acd-5d52-461e-be27-ab8a5848db3d button.colab-df-convert');\n",
              "      buttonEl.style.display =\n",
              "        google.colab.kernel.accessAllowed ? 'block' : 'none';\n",
              "\n",
              "      async function convertToInteractive(key) {\n",
              "        const element = document.querySelector('#df-8db09acd-5d52-461e-be27-ab8a5848db3d');\n",
              "        const dataTable =\n",
              "          await google.colab.kernel.invokeFunction('convertToInteractive',\n",
              "                                                    [key], {});\n",
              "        if (!dataTable) return;\n",
              "\n",
              "        const docLinkHtml = 'Like what you see? Visit the ' +\n",
              "          '<a target=\"_blank\" href=https://colab.research.google.com/notebooks/data_table.ipynb>data table notebook</a>'\n",
              "          + ' to learn more about interactive tables.';\n",
              "        element.innerHTML = '';\n",
              "        dataTable['output_type'] = 'display_data';\n",
              "        await google.colab.output.renderOutput(dataTable, element);\n",
              "        const docLink = document.createElement('div');\n",
              "        docLink.innerHTML = docLinkHtml;\n",
              "        element.appendChild(docLink);\n",
              "      }\n",
              "    </script>\n",
              "  </div>\n",
              "\n",
              "\n",
              "<div id=\"df-7d2de69c-4258-472f-9c26-c3552ceb3f84\">\n",
              "  <button class=\"colab-df-quickchart\" onclick=\"quickchart('df-7d2de69c-4258-472f-9c26-c3552ceb3f84')\"\n",
              "            title=\"Suggest charts\"\n",
              "            style=\"display:none;\">\n",
              "\n",
              "<svg xmlns=\"http://www.w3.org/2000/svg\" height=\"24px\"viewBox=\"0 0 24 24\"\n",
              "     width=\"24px\">\n",
              "    <g>\n",
              "        <path d=\"M19 3H5c-1.1 0-2 .9-2 2v14c0 1.1.9 2 2 2h14c1.1 0 2-.9 2-2V5c0-1.1-.9-2-2-2zM9 17H7v-7h2v7zm4 0h-2V7h2v10zm4 0h-2v-4h2v4z\"/>\n",
              "    </g>\n",
              "</svg>\n",
              "  </button>\n",
              "\n",
              "<style>\n",
              "  .colab-df-quickchart {\n",
              "      --bg-color: #E8F0FE;\n",
              "      --fill-color: #1967D2;\n",
              "      --hover-bg-color: #E2EBFA;\n",
              "      --hover-fill-color: #174EA6;\n",
              "      --disabled-fill-color: #AAA;\n",
              "      --disabled-bg-color: #DDD;\n",
              "  }\n",
              "\n",
              "  [theme=dark] .colab-df-quickchart {\n",
              "      --bg-color: #3B4455;\n",
              "      --fill-color: #D2E3FC;\n",
              "      --hover-bg-color: #434B5C;\n",
              "      --hover-fill-color: #FFFFFF;\n",
              "      --disabled-bg-color: #3B4455;\n",
              "      --disabled-fill-color: #666;\n",
              "  }\n",
              "\n",
              "  .colab-df-quickchart {\n",
              "    background-color: var(--bg-color);\n",
              "    border: none;\n",
              "    border-radius: 50%;\n",
              "    cursor: pointer;\n",
              "    display: none;\n",
              "    fill: var(--fill-color);\n",
              "    height: 32px;\n",
              "    padding: 0;\n",
              "    width: 32px;\n",
              "  }\n",
              "\n",
              "  .colab-df-quickchart:hover {\n",
              "    background-color: var(--hover-bg-color);\n",
              "    box-shadow: 0 1px 2px rgba(60, 64, 67, 0.3), 0 1px 3px 1px rgba(60, 64, 67, 0.15);\n",
              "    fill: var(--button-hover-fill-color);\n",
              "  }\n",
              "\n",
              "  .colab-df-quickchart-complete:disabled,\n",
              "  .colab-df-quickchart-complete:disabled:hover {\n",
              "    background-color: var(--disabled-bg-color);\n",
              "    fill: var(--disabled-fill-color);\n",
              "    box-shadow: none;\n",
              "  }\n",
              "\n",
              "  .colab-df-spinner {\n",
              "    border: 2px solid var(--fill-color);\n",
              "    border-color: transparent;\n",
              "    border-bottom-color: var(--fill-color);\n",
              "    animation:\n",
              "      spin 1s steps(1) infinite;\n",
              "  }\n",
              "\n",
              "  @keyframes spin {\n",
              "    0% {\n",
              "      border-color: transparent;\n",
              "      border-bottom-color: var(--fill-color);\n",
              "      border-left-color: var(--fill-color);\n",
              "    }\n",
              "    20% {\n",
              "      border-color: transparent;\n",
              "      border-left-color: var(--fill-color);\n",
              "      border-top-color: var(--fill-color);\n",
              "    }\n",
              "    30% {\n",
              "      border-color: transparent;\n",
              "      border-left-color: var(--fill-color);\n",
              "      border-top-color: var(--fill-color);\n",
              "      border-right-color: var(--fill-color);\n",
              "    }\n",
              "    40% {\n",
              "      border-color: transparent;\n",
              "      border-right-color: var(--fill-color);\n",
              "      border-top-color: var(--fill-color);\n",
              "    }\n",
              "    60% {\n",
              "      border-color: transparent;\n",
              "      border-right-color: var(--fill-color);\n",
              "    }\n",
              "    80% {\n",
              "      border-color: transparent;\n",
              "      border-right-color: var(--fill-color);\n",
              "      border-bottom-color: var(--fill-color);\n",
              "    }\n",
              "    90% {\n",
              "      border-color: transparent;\n",
              "      border-bottom-color: var(--fill-color);\n",
              "    }\n",
              "  }\n",
              "</style>\n",
              "\n",
              "  <script>\n",
              "    async function quickchart(key) {\n",
              "      const quickchartButtonEl =\n",
              "        document.querySelector('#' + key + ' button');\n",
              "      quickchartButtonEl.disabled = true;  // To prevent multiple clicks.\n",
              "      quickchartButtonEl.classList.add('colab-df-spinner');\n",
              "      try {\n",
              "        const charts = await google.colab.kernel.invokeFunction(\n",
              "            'suggestCharts', [key], {});\n",
              "      } catch (error) {\n",
              "        console.error('Error during call to suggestCharts:', error);\n",
              "      }\n",
              "      quickchartButtonEl.classList.remove('colab-df-spinner');\n",
              "      quickchartButtonEl.classList.add('colab-df-quickchart-complete');\n",
              "    }\n",
              "    (() => {\n",
              "      let quickchartButtonEl =\n",
              "        document.querySelector('#df-7d2de69c-4258-472f-9c26-c3552ceb3f84 button');\n",
              "      quickchartButtonEl.style.display =\n",
              "        google.colab.kernel.accessAllowed ? 'block' : 'none';\n",
              "    })();\n",
              "  </script>\n",
              "</div>\n",
              "    </div>\n",
              "  </div>\n"
            ],
            "application/vnd.google.colaboratory.intrinsic+json": {
              "type": "dataframe",
              "variable_name": "df",
              "summary": "{\n  \"name\": \"df\",\n  \"rows\": 284,\n  \"fields\": [\n    {\n      \"column\": \"extracted_text\",\n      \"properties\": {\n        \"dtype\": \"string\",\n        \"num_unique_values\": 243,\n        \"samples\": [\n          \"STEAM INLET STEAM EXHAUST WITHIN CONFINES OF COMPRESSOR UNIT START A PERMISSIVE\\u201c 0 SUCTION DISCHARGE | ie THIS DOCUMENT IS REVISED B\\u00a5_ JEC JEGMEC) _ . fE ALA PERMISSIVE ag PER Moc _JGE12012JFCC001 ; Ag <> _ ah) OF WARK UP RECEIVED FROM A AFTER GECHTEL TIRNOVER OF JERP. 1083/08/13 _RA 08/08/13 PREPARED) pave [cHecKen| are |appRoveD| DATE ME CANT CAT AeA eT EMERGENCY oe t eae a eS)\\\" |REASON FOR ISSUE: : 4 SG : Jo8/08/43[_ } | L TURNING > | OF a Ne PURGE AQlL PURIFIER 3/4\\\" ><EL LUBE OIL RUNDOWN TANK TO O'L TANK STEAM INLET ate A FO ZiNoos MOC: JGE12012JFCC001 | | | | He Gy 3/4\\\" AN ce A 3/4\\\" : 3 ELECTRIC HEATER c EARTH LUG | | AC415V>~----- | 3 Ay A oe Cp | LUBE OIL TANK EARTH LUG \\\\ SEE DETAIL *A\\u201d \\u00bb \\u2122 \\\\ f \\\\ MAIN LUBE O1L PUMP TURBINE ML al ay Loy AIAN (B&F PP) (PB) (PB) REMARKS LY MARKS SHOW THE DIVISION OF SUPPLY. : WITHIN CONFINES OF OIL CONSOLE \\\\ 602) a CoOL ING ene ao \\\\005/ \\\\006/ CUSTOMER Y MHI ee wn MOTT IGE12012JFCCO01 2.\\u20ac3 SHOWS INSTRUMENT ON LOCAL GAUGE BOARD. | / ns rT caer : A 9. UNIT CO1/C51 TAG NUMBERS WILL BE PREFIXED I ia Wozeue Kos To BE \\u2014 < ; p13. 'S TO BE pREFIXED WITH: 4.3 SHOWS INSTRUMENT ON \\\"DCS BY 4DA/4DB. 9 FOR COI | | \\\\ -CO a 6 sHeWs PLE BN THE Use A 10, CONTROL INSTRUMENTATION FOR COMPRESSER DRIVE TURBINE re, Yeas rene \\u201c 1S SHOWN ON \\\"P&ID FOR CONTROL OIL\\\":M2-U0408_ - SS FORCSI } c 6.2 SHOWS INSTRUMENT ON,OR INSIDE CABINET(UCP) = 4; Try OF OIL PUMP DRIVE TUBINE 1S mS | Aart | WITHIN PIB. DESIGNED TO BE OPERATED BY HAND 14, READ TAG NUMBERS OF PT AS, T UNAGAR PROJECT 7 --- HARD LINK 12. TANK HEATER HAS INTEGRAL CONTROL THERMOSTAT AND SAFETY tia pyaye rons nescon NOB NO. BDS66 A 8.-e SERIAL LINK TO/FROM DCS ESI 0 eT Tne belies = EQ NO.MC-RF414-CO1/C51 EER SS AT USS BS a ee ee ee ee ee ee BECHTEL 6-262475 rR REL TANCE |~ SPaR SPARE} #OSK ING 1 Ey OWNER FORM NO.A3 Surf . ms TEs peetees jrd ANGLE PROJECTION rian FORD t ae sAMEND AS CUSTOMER\\u2019S COMMENT. smi la eee oe] Le ISOM SCREW THREADS AMEND ALL INSTRUMENTS? R-4:AMEND AS CUSTMER\\u2019S COMMENT. TAG NO AMEND INSTRUMENTS\\u2019 TAG.NO, JUN.13\\u00b097 T.H T.Y OCT.6\\u00b097 =. T.H R-2:AMEND INSTRUMENTS\\u2019 TAG NO, eS SLAMENDED DEC. 4 Olle CHANGE AUX. PUMP DRIVER. - BTAMENDES. \\u201cJan.24'e) Rae PN JUL.9'97 TY TAH a STEAM TURB UNG ce le 3:CHANGE AUX PUMP DRIVER. ( si BE MAIN LUBE OIL PUMP AUG,7\\u00b097. T.Y T.H AN STEAM EXHAUST 3/a\\u00b0 | LUBE OIL FILTER >< Bechtel By: ~ URBINE ENG! eae i aE eDEPA ARTMENT OMPRESSOR CECH lel are TRB WE. DESH HG 3) Sect FON \\u2018| Ban \\u2014 y APPROVED DRAWN 7 \\\\ Zens Fond Permissicn to Proceed does not constitute acceptance or approval of design detail, Calculations,analysis,test methods or matertals developed or selected by supplier and does not relieve supplier from fuli comPliance with contractual obligations, \\u201cPofag | 1WORK way PRoceeD [| 5.FoR IWeorMar tan OnLy REVISE_AND RESUBMIT. WORK MAY PROCEED [| 2. SUBJECT TO TNCORPORATION OF CHANGES [] 8. canceLLeo/surercenen [| 3.ReviSE AND at work ay nor PRoceeD [| F. BINAL-CERTIFIED ONLY-HORK MAY Be [| 4.re Lew Nor ie WORK may PROGEED E DRAIN Rettance Petroleum Lim!ted-Jamnogar Refinery Complex Supplier Document Review eon Ep pron (aren Job No, PO No, to cat.No, | Seg.Na. Rev, 22960 [Miclofolo[| | ' [olofs} | [o]\\u00e9}+-RRo SPARE |f DESCRIPTION | MATERIAL. |S\\\" ARRANGE WORKING] SPARE [pen pce TOTAL] SEUNeKe PIEOE} \\u201cMENTS | QUANTITY PER SET| WEIGHT (Kg) A WET GAS COMPRESSOR LUBE OIL SYSTEM \\u00bb Seen HEAVY INDUSTRIES,LTB 3 TAKASAGO MACHINERY WORKS DRAWN C,CODE | C75-A10-101 TC | Cc | HO,10.7 \\u201cON ONIMVUA ZO jx l 2 O> 2 \\u00b0 oO = a ax H9.7.10 H9.4,17 R-0 R-2 . 6-262475 H9.6, 16 ORDER OR R No PHOTO, DATE a8 ae fe a 3 ann eae UE t OR\",\n          \"e \\u2019 A A ~3240 OVERAL LENGTH. ne A F |~2800 FOR 267 229 563 500 500 _ 352 A 506 156 BUNDLE REMOVE 426 A 177 A a wnt) & (a a ee i+ \\\\ 4! ws =e C.G. FOR EMPTY 3 NOS SPACER WN A OUTER PIPE FOQUl SPACE (A) Te | || A 5 (ENB x SOHO Nig A A % Py jo 5 ee eS Ct SA = 3 Fs Pa o = PE Ee) AO) SBP & El x so ee ee a Paes ok \\u2014 WS Y a E \\u00a9 LTT _| E+ E4 4 Rt oo| A H= = 270\\u00b0 L ETS 5 1 3S A Tt 2 oc 4 N O = \\u2014 = U \\u201cP . [ref 3. 7 a yi Zk eee) + Sh @ : WZ, o a N -_\\u2014\\u2014\\u2014y C7 HI E+ | SAS4 ra | \\u2014~| = = TL ! 7 5 Lui. @ = 40 THK z NAME PLATE os = INSULATION Bs INNER PIPE 2 Ie 40 THK | | A X hy y aig BY OTHERS \\\\ | 1.5\\u00b0NB x SCH.80 6] INSULATION | MVE L wly 3/5 BY OTHERS EARTHING LUG uP?) s REFER DIL\\u2014\\u2018Y\\u2019| \\u2014|<= 4i0 A 0 TPE891\\u20141225-\\u201402 | tm (D) _ TT \\u201cA FOR M\\u201424 BOLTS FOR M\\u201424 BOLTS (SCALE - 1 : 8) VIEW FROM \\u2018A-A\\u2019 X DENOTES APPLICABILITY REFERENCE DRAWINGS & STANDARDS GENERAL NOTES: = : ee LG. AA FIL STANDARDS & SPECS 1, ALL DIMENSIONS ARE IN mm, UNLESS OTHERWISE STATED. DESIGN CODE : ; 2, NOZZLE FLANGE BOLT HOLES SHALL BE STRADDLE PRINCIPAL CENTERLINE. ASME SECT. VIIl=DIV.1\\u2014 2015 ED. NO: DESCRIPTION NO: DESCRIPTION 3, FOR NOZZLES ON SHELL, PROJECTIONS ARE REFERRED TO FROM EQUIP. TEMA CLASS TEMA CLASS 'R\\u2019 2007 EDITION. X [7-15-0001] PART DETAILS X |7\\u201415-0014]/PIPE DAVIT (GUIDANCE) A CENTER LINE TO FLANGE CONTACT FACE. A SHELL SIDE | TUBE SIDE 4. ALL BUTT WELDS SHALL BE FULL PENETRATION WELDS, WHEREVER BACK CHIP 7-15-0013] LIFTING LUG DETAIL X | 4-12-8 x Sy, : | Te | nx PT] Av = H = Tt ne | oct \\u2014 in ee CT LT 1400 SUPPORT C/C (N2) A C.L. SLIDING END C.L. FIXED END 664 ED 2 NOS S0x60 ELEVATION 2 NOS. 30\\u00a2 HOLES =D (N2X D ) a lu Yn oO a] Do a uJ 5 Sl [x [7-15-0010] uAcK SCREW TAPPING RA AN) HAIR PIN TYPE 5. ALL TOLERANCES SHALL BE AS PER TEMA AND EIL STD. 7-15-0019. 02 OE CN TEMPERATURE (INT/EXT) eo 5 20/1 20 12077 4 Zs 6. FLANGE GASKET FACE SMOOTH FINISH TO 125-250 AARH. g/em2 (g Ee) (A 2AIB 0076) FARTBING [U6 x |121-976461\\u2014| LICENSOR STD FOR TUBE TO TUBE \\u201c7 04; WORKING TEMPERATURE (IN/OUT) \\u201cc |170.0/151.3 | __37.8/46.1 Bel Mc l7ciScO0T7/NAME PLATE S04 TSHT. | SHEET JOINT REQUIREMENT 7. \\u2018T\\u2019MATCH MARK FOR ASSY SHALL BE PUNCHED ON ALL GIRTH FLANGES Tae - - BAFFLE &TUBESHEET. O5| HYDROSTATIC TEST PR. (SHOP) Kg ema g 13 D =] |X |7\\u201415\\u2014O079]TOLERANCE FOR SHELL&TUBE HEAT EXCH. | PRESSURE VESSEL MONEL 8, SPARES :- FASTENERS 20% (MIN. FOUR NOS.) AND GASKET 400%. 06 MIN DESIGN METAL TEMP (MDMT S}_ |X |7-15-001 9|TOLERANCE FOR SHELLATUBE HEAT EXCH. | X |3 Ri) (SEPARATE SPARE PART DOCUMENT WILL BE SUBMITTED) MAWP(CORRODED /NEW Kg/ 9) AD e X |6-15\\u20140006/STD. SPEC. FOR U-TUBES. A\\\\ |X |3-11-8 | PRESSURE VESSEL CARBON STEEL g/em a 12 ake : ; DO Oe ee eee a enue tee tee OBTLIMITING COMPONENT (CORR/NEW) \\u00b0C /\\\\| BONNET FLG. | REDUCING FucAy 5 o X |A545\\u2014-103-02\\u2014DS\\u2014401\\u2014EU\\u20141002 FOR CAUSTIC HEADER\\u2014R3 B16.20. . . 091 CORROSION ALLOWANCE mm 3.00 3. 00(CS) C : a A R3} 10. PWHT CYCLE: (TUBE SIDE) 635+14\\u00b0C FOR 1 HR, ROC/ROH:100\\u00b0C/hr. 10| RADIOGRAPHY 100% 100% A > BR ALLOWABLE NOZZLE LOADS 11. PAINTING: ALL EXTERNAL UNMACHINED SURFACE SHALL BE SHOT BLASTED 11{POST WELD HEAT TREATMENT NIL YES (CS_ONLY)NOTE=10| \\u201cAy oy TO SA 2 V2 AND APPLY. 1 [| FORMING HEAT TREATMENT NIL NIL S6 NOZZLE| SIZE FORCE re MOMENT aa SHELL SIDE: PRIMER PAINT: ONE COAT OF INORGANIC ZINC SILICATE 13] FLUID LP STEAM 114.3 wt% CAUSTIC \\u00a9 \\u2018iB COATING (F9) @ 75 MICRONS DFT. PER COAT. {alNO, OF BESSES BNE NE no MARK | (NB) FINISH PAINT: 3 COATS OF HEAT RESISTANCE SILICONE ALUMINIUM PAINT \\u2014 Ur. Fwy (F12) @20MICRONS DFT. TOTAL DFT PER COAT. TOTAL FINAL DFT:135 5 INSULATION \\u00a2 5 iH A A Oz MICRONS 16] INSULATION (BY OTHERS 40 40 wr A TUBE SIDE: PRIMER PAINT: 1 COAT OF ea ZINC SILICATE . \\\"EN-1991-1-4:2010 ED., BASIC WIND 0 COATING (F9) @ 65-75 MICRONS DFT. PER COA Z| WIND SPECIFICATION A\\\\ |speep: 33.5M/S (FOR 10 MIN. DURATION ne INTERMEDIATE PRIMER PAINT: ONE COAT OF EPOXY ZINC PHOSPHATE O PRIMER CURED WITH POLAMINE HARDENER (P6) @ 40 MICRON DFT/COAT. 48 | SEISMIC SEISMIC FORCE CORRESPONDING 10 oO FINISH PAINT: TWO COAT OF HIGH BUILT EPOXY FINISH COATING CURED HORIZONTAL ACCELERATION OF 0.05G\\\\ eT WITH POLYAMIDE HARDENER (F-6A) @ 100 MICRON DFT/COAT + 1 COAT OF 13 EMPTY WEIGHT Kg | 630 A of FOUNDATION LOADING DATA PER SADDLE MICRON DPT) COAT (100240 = S40) NTE @ A O| WEIGHT WITH FULL OF WATER Kg _| 670 z\\u00a5 345. a TOTAL SURFACE AREA ((EFFECTIVE) m2 | 0.681 EIL PR. NO: A545-151-EE-PR-6140-5384 =z TYPE | SHEAR (Kgs)} MOMMENT (Kg\\u2014m) TOTAL FINAL DFT : 345-355 MICRONS. 7 \\u2014 OQ Cwino 7075 12. ALTERNATE DESIGN STEAM CONDITIONS AT EXCHANGER INLET IS 5.5 22|HEAT EXCHANGED 0.04294 1076.kcal/h__ AN CLIENT: A e 47 505 r3|_- Kg/om2 (g) AT 190\\u00b0C. SATURATED TEMPERATURE IS 161\\u00b0C. 23|MFGRS. SERIAL NO. (MSN) ~\\u2014~S~*~C\\u201c\\u00ab*~\\u201cC*\\u00ab~SYS:C<CTPESQI\\u2014-OD\\u2014C\\u201ddsd\\u00abs\\u00e9i\\u00abC(\\u2018CNTC\\u2018id Zz LSEISMIC 124 ; 13. HARDNESS FOR ALL CS MATERIAL IN CONTANT WITH TUBE SIDE FLUID SR DANGOTE PETROLEUM REFINERY AND PETROCHEMICALS (FZE) SE A R3| SHALL BE LIMITED TO 200BHN AFTER PWHT. eg A pq 14 NON- FERROUS U-BENDS SHALL BE STRESS RELIVED AFTER BENDING. DANGOTE| PROJECT : DANGOTE REFINERY & PETROCHEMICALS 3 PROJECT (FZE) A ~ be TUBE SIDE OF THIS EXCHANGER| A Suse, aNeuaeua eT 1S IN CAUSTIC SERVICE ENGINEERS INDIA LIMITED, NEW DELHI wu \\u00a9 (A Govt. of India Undertaking) EE E.I.L. JOB NO. :\\u2014 A545 = a MANUFACTURED BY : az . Zz 4 TECHNO PROCESS Equipments (I) Pvt. Ltd. a& A A As AN ISO 9001 CERTIFIED COMPANY. Ea Vi SHANHEL VENT | 1] 3/4\\\" [SCH.XXS|300#/ASME B16.5 WNRF [SEE DRG] _ | BF. cgay ed | ENGG/ADMIN: R-261, MIDC RABALE, THANE-BELAPUR ROAD, NAVI MUMBAI-400 701 INDIA. wm} [Vv [VENT Ss 1\\u2018 |_ 1.5\\u201d [SCH.160[300#/7ASME B16.5 WNRF et tee Pe a TLE: @) PoC LDRAINIEW DETAIL |_1.5\\u201d [SCH.160|3002/7ASME B16.5 WNRF_ | 310 | | 6 [REVISED AS PER COMMENTS 17.12.2019 GENERAL ASSEMBLY & NOTES FOR MPT<MP4T MP VIEW DETAILS 5\\u201d [SCH.160|300#/ASME B16.5 WNRF aie sp PER COMMENT 11. Np Comme? [CHANNEL OUTLET a SCH.160|300#/ASME _B16.5 WNRF [SEE DRG. Dis 1D PER COMMENTS 08. CAUSTIC HEATER lal ey clases | 1 | |2\\u201d |SCH.160|300#/ASME B16.5 WNRF |SEE DRG. at 2.85 lO PER COMMENTS .O5. ITEM NO: 103\\u2014-EU\\u2014-1002 heat NZ noe L Std not | 2\\u201d |SCH.160|300#/ASME_B16.5_WNRF 120x12THK [42.85 _1D a PER COMMENTS DI, A meds Hebube SHelelv. INLET sen SCH.160[300#/ASME B16.5 WNRF 120x12THK {42.85 DJ TPE891\\u2014SPL SPARE PART LIST A\\\\ PER COMMENTS \\u00e9 DATE\\u201411.10.2017 |SCALE \\u2014 AS SHOWN tae aca DESIGN? ae SCH/THK| TYPE/FACING & RATING| PROJ. |0.D xT ees TPE891-\\u20141225-\\u201403 DAVIT DETAILS AN ISSUED FOR APPROVAL 22. 11. \\u20182017 DRAWING No. Sine With Dat 49-DEC | NOZZLES (NB FLANGES NOZzZ. |R.F. PAD TPE891 = 1225-02 DESCRIPTION TPF891\\u2014-1225-01 \\u2018ores viewer oAWANNCUMAR MAME O77 NOZZLE SCHEDULE \\u2014_ \\u2014_ toeg KS\",\n          \"\\u2018A545-101-EE -PR6170/5029 Rev.0 EQPT NAME : CRUDE/CRUDE COLUMN VAPOR EXCHANGER EQPT NO : 101-EE-1001A GODREJ PROJECT NO: 131299 raz 7 z 3 z 5 z 7 a a 70 I Ti T 7 3 = LL. = 6 NOTES: oe a an aa A &) NOTE ac ary Maal ae a Oe) 1 |aeaSeene SA Pa EEE OTHERS SR seen yer uy cht Lio 1+ _ | Eaur-secp, ror expansion 3. ror Scrat or TUDE BUNDLE AGSCMOLY REFER TO SHIECT NO. 2 OF 6. a) |) a on 4. FLOATING HEAD FASTENERS iT. NOS. 307 SHALL HAVE GROOVES OF 2mm WIDE x 0.5mm DEEP GROOVE AT co DOATON RESERORCATATON Eon Foe TO FREVENT DUD wi SEL Gowen FASTEN, | 229 | ; |= 5. GASKET TYPE/MATERL OF fT. NO. 314 SHALL BE AS PER ASVE 816.20 \\u20ac0-2012, OCTAGONAL TYPE RING GASKET ' 33g i ot Z 1 gl A (GOFT IRON, 90 BHN WAX. HARDNESS) a7 8 | 4... i i i \\u00a5 AS EMO. $10,520,521335,544,345,348 SHALL BE SUPPLED TO EXPANSION BELLOW MANUFACTURER AS FREE ISSUE i = i Ey ee 7. BASED ON THE AVALABIUTY OF THE PLATE MATERIAL, LONG. SEAM WIDTH CAN BE ADJUSTED FOR IT. NO, 322. A | | \\u00a5 | ze it] x ZX 8. ALL CS MATERIALS IN CONTACT Witt! TUBE SIDE FLUD SHALL GE COMPLIED WITH MRDIOS.& SPO472. i i | 3 hoy 7 (397) 8, INCREMENTAL/DECREMENTAL IN THE LENGTH OF CONE JT. NO. 326 SHALL BE ACCOMMODATED IN STUB SHELL | ee | aI ii} - 3 INO. 332. HOWEVER THE OVERALL LENGTH OF 1168 TO BE MAINTAINED. TT} 305) }4 _____\\u2014_] 10. AFTER ASSEMBLY, DIMENSION BETWEEN THE COLLAR ON SLEEVE (If. NO. 323) ANO GASKET FACE OF FLaNce | | 1338 | g (T..NO. 313) 1S TO. BE MEASURED THROUGH 3 HOLES 120 DEG. APART TO ENSURE THE ADEOUATE SPACE IS i 18548 H {ft & SVALAGLE FOR EXPECTED EXPANSION\\u2019 AND \\u2018CONTRACTION. | g g = | 15. i e 4 py } A 5 2 Baal A 1 1 No. 800 woue | . ERI, OFF CS so i 1 For 27 sTU0s ! [S303 | i -SEE_NOTE 6_ 3I ON ! | a REF. SHT HO. (eojeeusome 3 FLANGE sero 8) | eo y - A | | 2 A _ BOLT TORQUE _ 8 | ORIENTATION OF L$301,302,303 ieee ped. 1 o oly 4] TEM NO. \\u2018SIZE MATERIAL BOLT TORQUE | MINOR DIA. (cm) | ROOT,AREA (em?) 8 3 3 Borat PROUECT NO. 131200:302 : veo | 3) OI ty y ~J _ fect fos en Oe 2) os nr 2 68 NO. 386 HOLES, cou-seco, | | | ELEVATION A Mi & me \\u00ab(uss x | SNBS GBH | 1180 $1985 01987 a OFF CIRS. FOR USB STUDS \\\" ' ELEVATION sa94 Gein ore I | | DETAILS OF TAILING LUG. a wa7 x 3\\u00b0] SAI9S GBT 410 22055 413857 Sx 4s i SEE NOTE 6 i 194 or.2H oe ! BEE SHT NO. 6 } 16 & Si musa en iaaT : al peels cota oe epson HERTS We HF SAT Cay 780 85s 3 ! : z SLOTS OW ANGLE BELLOW (TOP SE) | sai9e crate I | I 3 ae EE ON 8 aa a u 3 ' ' | 2 A el 140 ! | ales a 8 sap i 2s}, 90 al oe | glue8 A= A rh I e100 ft M30_x 3 THOS. (24a)-\\u00a2 HOS. -18t-f < it ! akea8 | mo weet} 1502 eae ASME CERTIFICATION MARK WITH U-DESIGNATOR+NATIONAL BOARD REGISTRATION we Algo cn Ee Severe 3 @29)57 Th [ ' ee 3 Ae 3 Gan) a - \\u2018 ATS ae N | ! \\u2018TUBE SIDE \\u2014 WET H,S SERVICE#A / d 2 suetve : 30 x 5\\u00b0 HWY, HEX 2 n05. 19+ 30 we 13) SEE DETAR | i} SoS as Siors OW EH CLEATS 3 3 ' q YP. 3 a TI cae pongo 6) @) Lm y i BELLOW (BTM. SIDE \\u201c \\u00bb iss E170 ; ae ee \\u201c8 aas|4 / i Tso se ve M68) | caus o ennco he $ ee a Ae parson ~ ys \\u2018 Al AEA oF 28s [36 L. g | } atuLow R Gams a # Se\\\" [sla a8 ; \\u2014 oO Fle | Ee blSz | res 346, | LOCK NUTS. ~ [SA 194 GR au] 12 [M30 x 3P STD. = 2) PS jes. alae 3 ' = =a a ad ow [_ [ase5._ [Heavy HEX. NUTS [SA 194 GR. en] 24 [M30 x 3P STO = \\u00a7) 8 Bs | 325 al? 8 Gas | PLAN OF CLEATS FOR GUIDE OF EXPANSION BELLOW 44, | UmiT ROD FOR EXPANSION BELLOW [AIS B17L 6 [M30 x 3P x 63016. SEE-DETAL | \\u2014 | a 83 |g. elas | Ay DETAILS OF GUIDE DEVICE [As45, [stud +2 NUT ___|ssiaawsinaau| arava] wi6 x 2P x 90 LG = B) 2 3B\\\" g129 (24d) i DETAILS OF LIMIT RODS FOR EXPANSION BELLOW. A\\\\ \\\\as42_[cuine oevice fsa516 Gr70 | 4 [830 x 140 x 16 THK SEE DETAL | 56 S| os ASSEMBLY OF BELLOW ae 4 ae \\\" [Asay [cteats [sa516 Gr.70 | 4 |170 x 81 x 16 THK. 6.91 3) 8 gi53 | [Aso [PLATE FOR LIFTING TR SA516 Gr.70_| 2 [530 DIA x 30 THK. 104 | y ~ me i 25 nik Hi ME, 200 [aose [rere For uring sasie or70 | 2 | 197 eve. x 293 x 23 wR See OETA] 130] \\u201d == ro 338) (0) [A336 [PAD FOR LIFTING TRUNNION [SA516 Gr.70 2 [900 x 900 x 25 THK. SEE DETAL | 318 *6. ' [A337 [TANG Luc 'SA516 Gr.60 1 [500 x 280 x 90 THK. SEE DETAL | 65 g mo S60 On 21 | A336 | GUSSET FOR LIFTING LUG _|SAS16 Gr.70 | 16 [422 x 272 x 25 THK. SEE OETAL | 182 Je 0 eet 35 [PLATE FOR LIFTING LUG |SA516 Gr.60 | 4 [567 x 215 x 45 THK. SEE OETAL | 172 3s ae (UPTO BUTTERNG || |As34. [ANGLE (LOOSE SUPPLY) 15:2062 GR.A/B| 4 | ISA 75 x 75 x BTHK. x 778 LG 2 g : ' CuEATS sasi6 Gr70 | 4 [119 x 88 x 25 THK SEE DETAL [6.22 A 692.19 P.C.0. 28 sar. aN 4 I DELETED = - DETAIL \\u201cD2 | 3 DELETED = ! gl DELETED = + iol FUG. I 2 tS wilt Emenee | : 3 DeveteD \\u2014t = 957.00 8 3 DELETED = esti. | 3 CONE S16 Ge60_| 1 | 57 (NOW) AS PER OEY. Tai E DETAIL - D1 | i STUB SHELL 'SA516 Gr.60 1 [5325 + 171 circ. x 150 x 57 THK.| 357 Dave t | i SQ. HEADED STUD + 1 NUT [smumvisiwom|are+e| M36 x 3P__SEE OETAL 34 = ff ansicdt | Has | { i SLEEVE RING sa2v0 Grint] 1 [670 0/0 x 503 os 05 WR ME DE] 2 i . 36 DEEP TAPPED FOE || a | mene SLEEVE $a240 Gr3t7| 1 | 1720 circ. x 1095 x 65 THK. 28 og Hi 1638 10. A th 2 FOR sTUDS: i Stes ; ice ean Le [Axs21_ [STUB SHELL FOR EXPANSION BELLOW [A516 Gr.60 1 [1838 cire.. x 300+25 x 25 THK. | 108 4 wo fe }j-\\u2014saseren \\\\ are] 320 _| STUB SHELL FOR ExPMON BELLOW|SASTE Gr.60 | 1 [1838 cire. x 250 x 25 THK 30.1 ' i 2 so yo ne wowes Lt gape i (Asis. [stuo + 1 Nur a caw sew cau See804| 24 x 3P x 170 LG 3 i f 8 32.NO._270 HOLES, ann z x \\u00a2 4 ! i Bi ee ARS I i ins 318._| FLANGE \\u2018SAZ66 Gr.2 1 [960 0/0 x 560 1/0 x 128 THK; SEE oeraL | 32: 4 i | ' \\u2018 OFF CTRS. i =\\u2014s 787\\\" ZY DETAIL OF LIFTING TRUNNION. (ros omenrarion [As17. | caser SEE NOTE NO. 94[1+4+1[ 4.5 THK, SEE DETAIL = 403)-1h) | # ar | ee (Asie. [stuo + 1 NUT i BM in Gow] S2v7\\u00a54 [M24 x SP x 285 LG 30 8 ia | 3 | \\u2014_ ee oc. -v \\u00ab a = 15._ [INTERNAL FLANGE SA266 Gr.2 1 | 960 0/0 x 560 1/0 x 256 THK; Set DETAL| 903 TAPPED HOLES. \\u00a5 AA A i 3 d e al \\u00a2 on fe [oe Lae foe | soe 14. [ GASKET SOFT IRON _|14441| OCTAGONAL RING NO. 77 (SEE NOTE 5)| \\u2014 DETAIL OF CONNECTING PIECE ia, =| 3 THK, (MIN), anes fone \\u2018ALOY 825 avr 313. | INTERNAL FLANGE SA266 Gr.2 1 750 0/0 x 560 \\\\/D x 124 THK; SEE DETAIL] 225 EE. FLOATING HEAD ASSEMBLY wio- 3 5 UA I SR curren \\u2014 IA OS\\\" % 270): DETAIL OF GASKET ae | & \\u201cHID 62s puritans \\u201c7 i oy [As12. [EXPANSION BELLOWS [S-M) Ri WS n\\u00e9Gs] 1 | SEE ORAWING 131209-302-OWG-ExB| \\u2014 : as = 575 A I 2 te oo INSOE ele RTP, 5g Le 31s, [stud + 2 NUTS i GBM + 8 GN | 28+644 [M27 x SP x 260 48 ae i 3| exe rr. =F 4 ( ) \\u2018310. | INTERNAL FLANGE 'SA266 Gr.2 1 [770 0/0 x 560 1/0 x 126 THK; SEE DETAL| 165 | \\u2014 ae Ht! Ee 27a] or (aur 5 He, (soo. [caseer SEE NOTE NODA] T441[ 45 TH, SEE DETAL S f= =e et @ k A 7 | ae (eos inn veo pera west tin [wena Gene | Tg Yo WE Ts q ' le src aor HO aw x05 \\\\wss ele ale ree stus SI I WEL 307, [stud 1 2 NUTS fom oan a Gow] cor 12ie | MSS \\u00ab SP x S75 UG. 347 we se BEEP cro ROS jo} i ewe \\u20183 SUTTERROANDUELDOVERAY Cosson\\u00bb isso) 06. | case SEE NOTE nos0] +441] 6.35 THK, SEE DETAL T= TH TP. Tee ga I (By GoDRE) 3 BUTTERING AND WELD OVERLAY ITEM NO, 322 (SLEEVE) e& : (pan OF SQ. END STUD DETAIL OF STUD i olZ \\u2018 3 a) = 305 _| CONNECTING PIECE SA516 Gr.70 | 2 | 36 THK. SEE DETAL 27 | E A 36-NO. M24 x 3P_x_/ 5 \\u2014 \\u2018D | 304. | BACKING RING SA266_Gr.2 1 1932 OD x 1637 ID x 270 THK. 1782 36-DeEP TAPED HOE a2 | = DA dayrstan or cr sense\\u201d oie . j \\u2018303, | FLOATING HEAD FLANGE [A266 Gr.2 1 [1982 0/0 x 1686 1/0 x 267 THK; SEE OETA | 1406 i vee s1U0s : Bu TE } DELETED = 704K, (Now) io | ex UO \\u201c ; seme [| | an CHINN REQURED IN TS RANGE ONLY sor joe Eres = DETAIL OF SLEEVE uo ia w AAXDETAIL \\u201cD4! 7 eta SeorETON marerial | @1Y.[~] DIMENSIONS: (ue) ae lo sli} Stn 58 soowo. aurremne usr wao nuvace fae BILL OF MATERIALS poate waza, OM MRO? ele (BEFORE PUNT > wse = a ; a . dwr\\\\ THE ORANG FRE TE COPTRENTED WOR OF COORE) & BOYCE WEE CO. 1, CODREY & BOYCE W5G_O LD, RESERES \\u00a2 731 (yee - ALL RIGHTS. WHATSOEVER IN THE. DRAWINGS, \\u201cGODREJ &e BOYCE MEG. CO. LID. ASSERTS ITS RIGHTS OVER THE ORAWINGS THAT |G ol | (GETER Punt) eta HAVE BEEN CONCENED BY THE OINT OF ITS EFFORTS AND ALSO VIEWS REPROOUCTION OF THE DRAWINGS, AS 1S OR BY MAKING 9) Q o =] COSMETIC OR OTHER CHANGES, AS A VIOLATION OF ITS COPYRIGHT. NO PART OF THE DRAWINGS SHALL BE COPIED OR met (Maz o7-orzald Mate REPRODUCED WIHOUT THE WRITTEN APPROVAL OF GOORE a BOYCE MFG, CO. LID. j 8 J | ry Be eaeed c 4 8 | 8 8 |S alg ; FoR GODRE For TI yg WYER / zee BS) 8} gle &] 5) 8] gel slg 36_NO._278 HOLES, 7 i TRIMMING (499 sol 3} gle \\u201clle lel | aia THRU,_EQUI-SPACED ly L a) =lelz z| 5ldlg| 21g Suetve = Gy 2/218] G) 2) re) Pre pe, a ane al gee) le sos son oF nozzie eo. Godrej & Boyce Mfg. Co. Ltd. 13 = 3 rene alt OF GIRTH FLANGE 's 560 7 2 Process Equipment Division | TARE a @) DETAIL OF GASKET 2 wee SANS DETAIL D3\\\" MACHINING SYWBOL REMOVED ON IT. NO. 325. DORE BOC. NO. ADDED. DETAIL \\\"D3\\\" 5 [ovroxraor|imcinee, seve seuow 323. 0 wn (FRA PS | wrote, DETAILS OF TUBESHEET & FLOATING \\u2014 | pQPT. NO. 101-E5-1001 aD 5 \\u00a5 z ra u \\u00a2 24 NSE TONG. SEA ORETATON OF TSSOT IDE IOS PODED, WELD DETAIL\\\" WIO FOR HEAD_ASSLY. ee 3 2 | : y=80r Iho, 385 REVISED, HOLE. Di OF yi, SET REGED. BOLT TORQUE TAKE art \\u201cRUDE TY: 4 NO. \\u00a30PT. i 8 {| soma \\u2014 sore 4 {oayr1/2016} FeO. $35, REVSED, HOLE, DA. OF at ran | RAW M_| EQPT. NAME: CRUDE/CRUDE COLUMN VAPOR BXCHANGER| QUANTITY: No. 0H 8 i * ; = \\u201cJ TWATERDL OF T. NO. 337\\u00b0 REVISED\\u201d DETAIS OF EXPANSION BELLOW OMT RODS ine = : a a ae a aa] A tle Le Vv val POU. Mo. Ste oe A0RD, REECE Ne, TOR EAE CT, 5.0. NO.: 650691 | P.O. NO.: AGREEMENT DATED 04/11/2015] BIL JOB NO.: A545 A [1s taper \\\\unsioe, ie 7 _ _ a Noe RewSeD, AND NOTE QO. 7 ACDED. THLE FOR iT, NO. Sez REVSED. raw | ean | mw [CLIENT: DANGOTE PETROLEUM REFINERY AND PETROCHEMICALS FZEA\\\\| uN: RYO, O'S) 4 wnsioe vr Zi SS 7 \\\" j 3 [01/05/2016] ec. REGED AS MARRED, a PROLENM Unit (01) . bE Me q it i 3 RIENTATION OF TORESHEETS REVSED. THK. OF 17 NO. 326 REWSED. LG. OF CONSULTANT: UOP/EI IL PR NO:A545~L01-EE-PR~6170/5029 REV.O DT.16/10/2015 WELD DETAIL Wt\\\" 3 S \\u00a2 _ | | Siva Sut no. $39 neveeD. Tr non 301 sua wowta.70 sar? &?, CONSULTANT: UOP/EE) ___ - i A, WELD DETAIL 'W2\\\" al | ao \\\\ueon ||2 aera] Ry Magar ee ORLETED. TO, 535-3435 ADOED. ORG. REVISED: ran | RaW tw [INSPECTION AGENCY: LRA A\\\\|DORC DOC. NO.: A545-6170~-5029-VD-101-EE~1001.4~ D-003-5 WELD DETAIL 'W3\\\" = = INsiDe | ee ce oe = zZ : See % \\\\ A insive INSIDE A se aonel ND, 80351, DELETED, MN 399 500514.316.317.10.520-97 500-8 [oe Tay GODREJ g Is OF IREV 2 a WELD_DETAIL We\\\" 25/2 Une ee AS ASE, 02/01/2016] PROJECT NO. DRG. NO. _|SHT.) OF |REV [CHIP BACK TO SOUND METAL AND WELD DETAIL \\u2018WS! \\u2014 ==! WELD DETAIL'Wwe | 0 [xx/a/z016|iSSUED FoR APPROVAL pan [ ate 02/01/2016 = | REWELD ir y ul eee 2/01/2018 a % WEL WELD DETAIL 'W4' ev! DATE DESCRIPTION \\u2018auto. | cHKD. o2/or/aore| 131299302 AHE-E-848 | 3 1 I 2 3 I & 5 7 l 38 = 10 iz 14 5 16\"\n        ],\n        \"semantic_type\": \"\",\n        \"description\": \"\"\n      }\n    },\n    {\n      \"column\": \"labels\",\n      \"properties\": {\n        \"dtype\": \"number\",\n        \"std\": 0,\n        \"min\": 0,\n        \"max\": 2,\n        \"num_unique_values\": 3,\n        \"samples\": [\n          0,\n          2,\n          1\n        ],\n        \"semantic_type\": \"\",\n        \"description\": \"\"\n      }\n    }\n  ]\n}"
            }
          },
          "metadata": {},
          "execution_count": 8
        }
      ],
      "source": [
        "df.head()"
      ]
    },
    {
      "cell_type": "code",
      "execution_count": null,
      "metadata": {
        "colab": {
          "base_uri": "https://localhost:8080/"
        },
        "id": "HXkldulssMpN",
        "outputId": "e95d00f8-fb34-49d4-8019-ac614bde9fab"
      },
      "outputs": [
        {
          "output_type": "stream",
          "name": "stdout",
          "text": [
            "<class 'pandas.core.frame.DataFrame'>\n",
            "RangeIndex: 284 entries, 0 to 283\n",
            "Data columns (total 2 columns):\n",
            " #   Column          Non-Null Count  Dtype \n",
            "---  ------          --------------  ----- \n",
            " 0   extracted_text  284 non-null    object\n",
            " 1   labels          284 non-null    int64 \n",
            "dtypes: int64(1), object(1)\n",
            "memory usage: 4.6+ KB\n"
          ]
        }
      ],
      "source": [
        "df.info()"
      ]
    },
    {
      "cell_type": "markdown",
      "metadata": {
        "id": "0UU5PRA8qFE8"
      },
      "source": [
        "# Cleaning\n",
        "\n",
        "Cleaning removing stop words punctuations and some other NLP cleaning"
      ]
    },
    {
      "cell_type": "code",
      "execution_count": null,
      "metadata": {
        "colab": {
          "base_uri": "https://localhost:8080/",
          "height": 191
        },
        "id": "90ZliFJrxCKo",
        "outputId": "0843a937-40b7-4e16-c37e-257343f19ea2"
      },
      "outputs": [
        {
          "output_type": "execute_result",
          "data": {
            "text/plain": [
              "'SR CLIENT NAME: : VENDOR NAME: M/s DANGOTE OILREFINING ep CHINA PETROLEUM TECHNOLOGY DANG OTE COMPANY LTD AND DEVELOPMENT CORPORATION aoa —— SUB-VENDOR NAME: Bar Clos 2 NIA UATTED Be ee ons LTD faypce NINGBO TIANYI PETROCHEMICAL HEAVY Sees Gawaeann = . \\\\ onet EQUIPMENT MANUFACTURING CO.LTD DANGOTE REFINERY AND PETROCHEMICAL PROJECT PROJECT NO.: A545 DOC TITLE: CRUDE COLUMN -General Arrangement Drawing-101-CC-1001 PR NO.: A545-101-CC-PR-6152-5005 DOC/DRW NO.(NBTY): 2016-T-001-01-02, 2016-T-001-01-03 2016-T-001-01,2016-T-001-01-01, REV NO.:06 DOC NO.(CLIENT): A545-6152-5005-VD-101-CC-1001-013 PAGE 1 OF 6 DOCUMENT TITLE: CRUDE COLUMN-General Arrangement Drawing-101-CC-1001 Review Code 1 O No comment. Review Code 2 O Proceed with manufacture/fabrication as per commented document. Revised document required. Review Code 3 O Document does not conform to basic requirements as marked. Resubmit for review. R ORetained for records. Vv OVoid. 06 2019.1.17 ISSUE FOR REVIEM us Lit Pett ° als a 05 2018.11.14 ISSUE FOR REVIEM ae TH fete ay at HE 04 2018.9 24 ISSUE FOR REVIEM tact Te fi 4 [eg FE TE DOCUMENT REVIEW DETAILS — — 03 2018.8.27 ISSUE FOR REVIEM tae TH fe ts a at HE Wr Comments. [2 ee eee notte iononioat, DESCRIPTION PREPARED BY CHECKED BY APPROVED BY wo II Transmittal No. Page 1 of 12 | Retained for Records. |V 4 Docorerit does Not conform to basic requirements as marked. Resubmit for review. Void. Signature with Date SOWAN-201900 | Name of Reviewer USMANIS.M.SAIF UDDIN ) | =='"
            ],
            "application/vnd.google.colaboratory.intrinsic+json": {
              "type": "string"
            }
          },
          "metadata": {},
          "execution_count": 10
        }
      ],
      "source": [
        "df['extracted_text'][0]"
      ]
    },
    {
      "cell_type": "markdown",
      "metadata": {
        "id": "0mqGptEkjsGF"
      },
      "source": [
        "# Environment setup for text preprocessing"
      ]
    },
    {
      "cell_type": "markdown",
      "metadata": {
        "id": "KwryJU6sku9b"
      },
      "source": [
        "`from sklearn.feature_extraction import text:` Imports the text module for text feature extraction from scikit-learn.\n",
        "\n",
        "`import nltk:` Imports the NLTK library for natural language processing tasks.\n",
        "\n",
        "`nltk.download('wordnet'):` Downloads the WordNet corpus from NLTK for lexical analysis.\n",
        "\n",
        "**lexical analysis**:\n",
        "Lexical analysis involves processing and analyzing words and their lexical properties in text data."
      ]
    },
    {
      "cell_type": "code",
      "execution_count": null,
      "metadata": {
        "colab": {
          "base_uri": "https://localhost:8080/"
        },
        "id": "SO6Wr55SqdkL",
        "outputId": "ec962934-64bf-418d-e4ef-0a7350c21cc4"
      },
      "outputs": [
        {
          "output_type": "stream",
          "name": "stderr",
          "text": [
            "[nltk_data] Downloading package wordnet to /root/nltk_data...\n"
          ]
        },
        {
          "output_type": "execute_result",
          "data": {
            "text/plain": [
              "True"
            ]
          },
          "metadata": {},
          "execution_count": 11
        }
      ],
      "source": [
        "from sklearn.feature_extraction import text\n",
        "import nltk\n",
        "nltk.download('wordnet')"
      ]
    },
    {
      "cell_type": "markdown",
      "metadata": {
        "id": "_zmcxIB1mkWM"
      },
      "source": [
        "This snippet downloads the 'punkt' tokenizer models from NLTK, which are necessary for tokenizing text into individual words or sentences. This is a preprocessing step commonly used in natural language processing tasks like text classification, sentiment analysis, and machine translation."
      ]
    },
    {
      "cell_type": "code",
      "execution_count": null,
      "metadata": {
        "id": "XkwdVEynq9A6",
        "colab": {
          "base_uri": "https://localhost:8080/"
        },
        "outputId": "b199a660-7cbb-4cf3-a140-309e0d71fcb9"
      },
      "outputs": [
        {
          "output_type": "stream",
          "name": "stderr",
          "text": [
            "[nltk_data] Downloading package punkt to /root/nltk_data...\n",
            "[nltk_data]   Unzipping tokenizers/punkt.zip.\n"
          ]
        },
        {
          "output_type": "execute_result",
          "data": {
            "text/plain": [
              "True"
            ]
          },
          "metadata": {},
          "execution_count": 12
        }
      ],
      "source": [
        "import nltk\n",
        "nltk.download('punkt')"
      ]
    },
    {
      "cell_type": "markdown",
      "metadata": {
        "id": "x8uoPdpMrPTQ"
      },
      "source": [
        "# Lemmetization"
      ]
    },
    {
      "cell_type": "markdown",
      "metadata": {
        "id": "dtqNdXIIm2LM"
      },
      "source": [
        "`WordNetLemmatizer ` class from the NLTK library, which is used for lemmatization in natural language processing tasks.\n",
        "\n",
        "Lemmatization is the process of `reducing words to their base or dictionary` form (called lemma) while still retaining their meaning. Unlike stemming, which simply chops off the ends of words to remove prefixes or suffixes, lemmatization considers the context and part of speech of the word to ensure that the resulting lemma is a valid word.\n",
        "\n",
        "For example:\n",
        "\n",
        "Lemmatization would convert `\"running\" to \"run\" and \"better\" to \"good\".`"
      ]
    },
    {
      "cell_type": "code",
      "execution_count": null,
      "metadata": {
        "id": "WH8YJ03FrGt8"
      },
      "outputs": [],
      "source": [
        "from nltk.stem import WordNetLemmatizer\n",
        "import string\n",
        "import re"
      ]
    },
    {
      "cell_type": "markdown",
      "metadata": {
        "id": "QAj16-jsrVQk"
      },
      "source": [
        "Clean Function Custom logic: Trial and error\n",
        "\n",
        "We firstly removed Named entities(like name, place and other names but later these come to important feature for classification so we included that)."
      ]
    },
    {
      "cell_type": "code",
      "execution_count": null,
      "metadata": {
        "colab": {
          "base_uri": "https://localhost:8080/",
          "height": 191
        },
        "id": "eQ4VQpIFw_yS",
        "outputId": "2a21763f-fbb3-462a-f0eb-a76c4497993d"
      },
      "outputs": [
        {
          "output_type": "execute_result",
          "data": {
            "text/plain": [
              "'SR CLIENT NAME: : VENDOR NAME: M/s DANGOTE OILREFINING ep CHINA PETROLEUM TECHNOLOGY DANG OTE COMPANY LTD AND DEVELOPMENT CORPORATION aoa —— SUB-VENDOR NAME: Bar Clos 2 NIA UATTED Be ee ons LTD faypce NINGBO TIANYI PETROCHEMICAL HEAVY Sees Gawaeann = . \\\\ onet EQUIPMENT MANUFACTURING CO.LTD DANGOTE REFINERY AND PETROCHEMICAL PROJECT PROJECT NO.: A545 DOC TITLE: CRUDE COLUMN -General Arrangement Drawing-101-CC-1001 PR NO.: A545-101-CC-PR-6152-5005 DOC/DRW NO.(NBTY): 2016-T-001-01-02, 2016-T-001-01-03 2016-T-001-01,2016-T-001-01-01, REV NO.:06 DOC NO.(CLIENT): A545-6152-5005-VD-101-CC-1001-013 PAGE 1 OF 6 DOCUMENT TITLE: CRUDE COLUMN-General Arrangement Drawing-101-CC-1001 Review Code 1 O No comment. Review Code 2 O Proceed with manufacture/fabrication as per commented document. Revised document required. Review Code 3 O Document does not conform to basic requirements as marked. Resubmit for review. R ORetained for records. Vv OVoid. 06 2019.1.17 ISSUE FOR REVIEM us Lit Pett ° als a 05 2018.11.14 ISSUE FOR REVIEM ae TH fete ay at HE 04 2018.9 24 ISSUE FOR REVIEM tact Te fi 4 [eg FE TE DOCUMENT REVIEW DETAILS — — 03 2018.8.27 ISSUE FOR REVIEM tae TH fe ts a at HE Wr Comments. [2 ee eee notte iononioat, DESCRIPTION PREPARED BY CHECKED BY APPROVED BY wo II Transmittal No. Page 1 of 12 | Retained for Records. |V 4 Docorerit does Not conform to basic requirements as marked. Resubmit for review. Void. Signature with Date SOWAN-201900 | Name of Reviewer USMANIS.M.SAIF UDDIN ) | =='"
            ],
            "application/vnd.google.colaboratory.intrinsic+json": {
              "type": "string"
            }
          },
          "metadata": {},
          "execution_count": 14
        }
      ],
      "source": [
        "df['extracted_text'][0]"
      ]
    },
    {
      "cell_type": "markdown",
      "metadata": {
        "id": "yjJkPyH7j8nr"
      },
      "source": [
        "# Cleaning Function\n",
        "\n",
        "The cleaning process involves several steps to preprocess text data for natural language processing tasks like text classification. Here's an explanation of each step:\n",
        "\n",
        "Named Entity Removal:\n",
        "\n",
        "Named entities are specific named objects or concepts, such as people, organizations, or locations, identified by NER (Named Entity Recognition) models like SpaCy.\n",
        "\n",
        "We used SpaCy to identify named entities in the text and remove them. This is because named entities often carry specific information that may not be relevant for our text classification task.\n",
        "\n",
        "Lowercasing and Stripping: Convert the entire text to lowercase to ensure consistency (e.g., \"Word\" and \"word\" are treated the same).\n",
        "\n",
        "Strip leading and trailing whitespace to remove any unnecessary spaces. Replacing Special Characters and Digits:\n",
        "\n",
        "Remove special characters and digits from the text. Special characters and digits often do not carry significant semantic meaning and can be noise in the data. In this step, we replace special characters and digits with empty strings. Stopword Removal:\n",
        "\n",
        "Stopwords are common words like \"the,\" \"is,\" \"and,\" etc., that occur frequently in a language but often do not carry important information for text analysis. We use a predefined set of stopwords from the text.ENGLISH_STOP_WORDS set provided by scikit-learn to remove stopwords from the text. Lemmatization:\n",
        "\n",
        "Lemmatization is the process of reducing words to their base or dictionary form (i.e., lemmas). This step helps in normalizing the text by reducing inflected words to a common base form. We use the WordNet Lemmatizer from the NLTK library to perform lemmatization on the cleaned text."
      ]
    },
    {
      "cell_type": "code",
      "execution_count": null,
      "metadata": {
        "id": "esc3MugarHV7"
      },
      "outputs": [],
      "source": [
        "import spacy\n",
        "nlp = spacy.load('en_core_web_sm')\n",
        "\n",
        "stopwords = text.ENGLISH_STOP_WORDS\n",
        "lemmatizer = WordNetLemmatizer()\n",
        "\n",
        "def clean(doc):\n",
        "    # # text_no_namedentities = []\n",
        "    # document = nlp(doc)\n",
        "    # ents = [e.text for e in document.ents]\n",
        "    # for item in document:\n",
        "    #     if item.text in ents:\n",
        "    #         pass\n",
        "    #     else:\n",
        "    #         text_no_namedentities.append(item.text)\n",
        "    # doc = (\" \".join(text_no_namedentities))\n",
        "\n",
        "    doc = doc.lower().strip()\n",
        "    # doc = doc.replace(\"</br>\", \" \")\n",
        "    # doc = doc.replace(\"-\", \" \")\n",
        "    doc = \"\".join([char for char in doc if char not in string.punctuation and not char.isdigit()])\n",
        "    doc = \" \".join([token for token in doc.split() if token not in stopwords])\n",
        "    doc = \"\".join([lemmatizer.lemmatize(word) for word in doc])\n",
        "    return doc"
      ]
    },
    {
      "cell_type": "markdown",
      "metadata": {
        "id": "nEq5YFAlrjFH"
      },
      "source": [
        "After Cleaning the dataset we can see"
      ]
    },
    {
      "cell_type": "markdown",
      "metadata": {
        "id": "3vBGqoMknPPG"
      },
      "source": [
        "But after cleaning dataset and multiple iterations we are loosing information as our Industrial documents contains very important characters which can play important role in feature selection. So we modified aour Cleaning and preprocessing part."
      ]
    },
    {
      "cell_type": "code",
      "execution_count": null,
      "metadata": {
        "id": "NK7r51gCrcri"
      },
      "outputs": [],
      "source": [
        "# clean(df['extracted_text'][0])"
      ]
    },
    {
      "cell_type": "code",
      "execution_count": null,
      "metadata": {
        "id": "FxLMvo4mw0nc"
      },
      "outputs": [],
      "source": []
    },
    {
      "cell_type": "code",
      "execution_count": null,
      "metadata": {
        "colab": {
          "base_uri": "https://localhost:8080/",
          "height": 206
        },
        "id": "hYIE-LlDrgnh",
        "outputId": "60a2c0d6-493e-4fdb-bb7a-f5bd6c6b8d8f"
      },
      "outputs": [
        {
          "output_type": "execute_result",
          "data": {
            "text/plain": [
              "                                      extracted_text  labels\n",
              "0  SR CLIENT NAME: : VENDOR NAME: M/s DANGOTE OIL...       0\n",
              "1  LIST OF RELATED DRAWINGS SR. NO. DRG. NO. REV....       2\n",
              "2  1 2 3 4 5 6 7 8 9 10 \" 12 13 14 15 16 7 18 19 ...       1\n",
              "3  1 BK 8 a NOZZLE SCHEDULE TABLE DESIGN DATA FLA...       2\n",
              "4  EIL PR NO.: A545-101-EE-PR6170/5029 Rev.0 EQPT...       2"
            ],
            "text/html": [
              "\n",
              "  <div id=\"df-da5ef5b3-faa2-4690-bfaf-9109fa196d6d\" class=\"colab-df-container\">\n",
              "    <div>\n",
              "<style scoped>\n",
              "    .dataframe tbody tr th:only-of-type {\n",
              "        vertical-align: middle;\n",
              "    }\n",
              "\n",
              "    .dataframe tbody tr th {\n",
              "        vertical-align: top;\n",
              "    }\n",
              "\n",
              "    .dataframe thead th {\n",
              "        text-align: right;\n",
              "    }\n",
              "</style>\n",
              "<table border=\"1\" class=\"dataframe\">\n",
              "  <thead>\n",
              "    <tr style=\"text-align: right;\">\n",
              "      <th></th>\n",
              "      <th>extracted_text</th>\n",
              "      <th>labels</th>\n",
              "    </tr>\n",
              "  </thead>\n",
              "  <tbody>\n",
              "    <tr>\n",
              "      <th>0</th>\n",
              "      <td>SR CLIENT NAME: : VENDOR NAME: M/s DANGOTE OIL...</td>\n",
              "      <td>0</td>\n",
              "    </tr>\n",
              "    <tr>\n",
              "      <th>1</th>\n",
              "      <td>LIST OF RELATED DRAWINGS SR. NO. DRG. NO. REV....</td>\n",
              "      <td>2</td>\n",
              "    </tr>\n",
              "    <tr>\n",
              "      <th>2</th>\n",
              "      <td>1 2 3 4 5 6 7 8 9 10 \" 12 13 14 15 16 7 18 19 ...</td>\n",
              "      <td>1</td>\n",
              "    </tr>\n",
              "    <tr>\n",
              "      <th>3</th>\n",
              "      <td>1 BK 8 a NOZZLE SCHEDULE TABLE DESIGN DATA FLA...</td>\n",
              "      <td>2</td>\n",
              "    </tr>\n",
              "    <tr>\n",
              "      <th>4</th>\n",
              "      <td>EIL PR NO.: A545-101-EE-PR6170/5029 Rev.0 EQPT...</td>\n",
              "      <td>2</td>\n",
              "    </tr>\n",
              "  </tbody>\n",
              "</table>\n",
              "</div>\n",
              "    <div class=\"colab-df-buttons\">\n",
              "\n",
              "  <div class=\"colab-df-container\">\n",
              "    <button class=\"colab-df-convert\" onclick=\"convertToInteractive('df-da5ef5b3-faa2-4690-bfaf-9109fa196d6d')\"\n",
              "            title=\"Convert this dataframe to an interactive table.\"\n",
              "            style=\"display:none;\">\n",
              "\n",
              "  <svg xmlns=\"http://www.w3.org/2000/svg\" height=\"24px\" viewBox=\"0 -960 960 960\">\n",
              "    <path d=\"M120-120v-720h720v720H120Zm60-500h600v-160H180v160Zm220 220h160v-160H400v160Zm0 220h160v-160H400v160ZM180-400h160v-160H180v160Zm440 0h160v-160H620v160ZM180-180h160v-160H180v160Zm440 0h160v-160H620v160Z\"/>\n",
              "  </svg>\n",
              "    </button>\n",
              "\n",
              "  <style>\n",
              "    .colab-df-container {\n",
              "      display:flex;\n",
              "      gap: 12px;\n",
              "    }\n",
              "\n",
              "    .colab-df-convert {\n",
              "      background-color: #E8F0FE;\n",
              "      border: none;\n",
              "      border-radius: 50%;\n",
              "      cursor: pointer;\n",
              "      display: none;\n",
              "      fill: #1967D2;\n",
              "      height: 32px;\n",
              "      padding: 0 0 0 0;\n",
              "      width: 32px;\n",
              "    }\n",
              "\n",
              "    .colab-df-convert:hover {\n",
              "      background-color: #E2EBFA;\n",
              "      box-shadow: 0px 1px 2px rgba(60, 64, 67, 0.3), 0px 1px 3px 1px rgba(60, 64, 67, 0.15);\n",
              "      fill: #174EA6;\n",
              "    }\n",
              "\n",
              "    .colab-df-buttons div {\n",
              "      margin-bottom: 4px;\n",
              "    }\n",
              "\n",
              "    [theme=dark] .colab-df-convert {\n",
              "      background-color: #3B4455;\n",
              "      fill: #D2E3FC;\n",
              "    }\n",
              "\n",
              "    [theme=dark] .colab-df-convert:hover {\n",
              "      background-color: #434B5C;\n",
              "      box-shadow: 0px 1px 3px 1px rgba(0, 0, 0, 0.15);\n",
              "      filter: drop-shadow(0px 1px 2px rgba(0, 0, 0, 0.3));\n",
              "      fill: #FFFFFF;\n",
              "    }\n",
              "  </style>\n",
              "\n",
              "    <script>\n",
              "      const buttonEl =\n",
              "        document.querySelector('#df-da5ef5b3-faa2-4690-bfaf-9109fa196d6d button.colab-df-convert');\n",
              "      buttonEl.style.display =\n",
              "        google.colab.kernel.accessAllowed ? 'block' : 'none';\n",
              "\n",
              "      async function convertToInteractive(key) {\n",
              "        const element = document.querySelector('#df-da5ef5b3-faa2-4690-bfaf-9109fa196d6d');\n",
              "        const dataTable =\n",
              "          await google.colab.kernel.invokeFunction('convertToInteractive',\n",
              "                                                    [key], {});\n",
              "        if (!dataTable) return;\n",
              "\n",
              "        const docLinkHtml = 'Like what you see? Visit the ' +\n",
              "          '<a target=\"_blank\" href=https://colab.research.google.com/notebooks/data_table.ipynb>data table notebook</a>'\n",
              "          + ' to learn more about interactive tables.';\n",
              "        element.innerHTML = '';\n",
              "        dataTable['output_type'] = 'display_data';\n",
              "        await google.colab.output.renderOutput(dataTable, element);\n",
              "        const docLink = document.createElement('div');\n",
              "        docLink.innerHTML = docLinkHtml;\n",
              "        element.appendChild(docLink);\n",
              "      }\n",
              "    </script>\n",
              "  </div>\n",
              "\n",
              "\n",
              "<div id=\"df-40a59160-b9cd-4fe1-b65d-91eeeb53edf8\">\n",
              "  <button class=\"colab-df-quickchart\" onclick=\"quickchart('df-40a59160-b9cd-4fe1-b65d-91eeeb53edf8')\"\n",
              "            title=\"Suggest charts\"\n",
              "            style=\"display:none;\">\n",
              "\n",
              "<svg xmlns=\"http://www.w3.org/2000/svg\" height=\"24px\"viewBox=\"0 0 24 24\"\n",
              "     width=\"24px\">\n",
              "    <g>\n",
              "        <path d=\"M19 3H5c-1.1 0-2 .9-2 2v14c0 1.1.9 2 2 2h14c1.1 0 2-.9 2-2V5c0-1.1-.9-2-2-2zM9 17H7v-7h2v7zm4 0h-2V7h2v10zm4 0h-2v-4h2v4z\"/>\n",
              "    </g>\n",
              "</svg>\n",
              "  </button>\n",
              "\n",
              "<style>\n",
              "  .colab-df-quickchart {\n",
              "      --bg-color: #E8F0FE;\n",
              "      --fill-color: #1967D2;\n",
              "      --hover-bg-color: #E2EBFA;\n",
              "      --hover-fill-color: #174EA6;\n",
              "      --disabled-fill-color: #AAA;\n",
              "      --disabled-bg-color: #DDD;\n",
              "  }\n",
              "\n",
              "  [theme=dark] .colab-df-quickchart {\n",
              "      --bg-color: #3B4455;\n",
              "      --fill-color: #D2E3FC;\n",
              "      --hover-bg-color: #434B5C;\n",
              "      --hover-fill-color: #FFFFFF;\n",
              "      --disabled-bg-color: #3B4455;\n",
              "      --disabled-fill-color: #666;\n",
              "  }\n",
              "\n",
              "  .colab-df-quickchart {\n",
              "    background-color: var(--bg-color);\n",
              "    border: none;\n",
              "    border-radius: 50%;\n",
              "    cursor: pointer;\n",
              "    display: none;\n",
              "    fill: var(--fill-color);\n",
              "    height: 32px;\n",
              "    padding: 0;\n",
              "    width: 32px;\n",
              "  }\n",
              "\n",
              "  .colab-df-quickchart:hover {\n",
              "    background-color: var(--hover-bg-color);\n",
              "    box-shadow: 0 1px 2px rgba(60, 64, 67, 0.3), 0 1px 3px 1px rgba(60, 64, 67, 0.15);\n",
              "    fill: var(--button-hover-fill-color);\n",
              "  }\n",
              "\n",
              "  .colab-df-quickchart-complete:disabled,\n",
              "  .colab-df-quickchart-complete:disabled:hover {\n",
              "    background-color: var(--disabled-bg-color);\n",
              "    fill: var(--disabled-fill-color);\n",
              "    box-shadow: none;\n",
              "  }\n",
              "\n",
              "  .colab-df-spinner {\n",
              "    border: 2px solid var(--fill-color);\n",
              "    border-color: transparent;\n",
              "    border-bottom-color: var(--fill-color);\n",
              "    animation:\n",
              "      spin 1s steps(1) infinite;\n",
              "  }\n",
              "\n",
              "  @keyframes spin {\n",
              "    0% {\n",
              "      border-color: transparent;\n",
              "      border-bottom-color: var(--fill-color);\n",
              "      border-left-color: var(--fill-color);\n",
              "    }\n",
              "    20% {\n",
              "      border-color: transparent;\n",
              "      border-left-color: var(--fill-color);\n",
              "      border-top-color: var(--fill-color);\n",
              "    }\n",
              "    30% {\n",
              "      border-color: transparent;\n",
              "      border-left-color: var(--fill-color);\n",
              "      border-top-color: var(--fill-color);\n",
              "      border-right-color: var(--fill-color);\n",
              "    }\n",
              "    40% {\n",
              "      border-color: transparent;\n",
              "      border-right-color: var(--fill-color);\n",
              "      border-top-color: var(--fill-color);\n",
              "    }\n",
              "    60% {\n",
              "      border-color: transparent;\n",
              "      border-right-color: var(--fill-color);\n",
              "    }\n",
              "    80% {\n",
              "      border-color: transparent;\n",
              "      border-right-color: var(--fill-color);\n",
              "      border-bottom-color: var(--fill-color);\n",
              "    }\n",
              "    90% {\n",
              "      border-color: transparent;\n",
              "      border-bottom-color: var(--fill-color);\n",
              "    }\n",
              "  }\n",
              "</style>\n",
              "\n",
              "  <script>\n",
              "    async function quickchart(key) {\n",
              "      const quickchartButtonEl =\n",
              "        document.querySelector('#' + key + ' button');\n",
              "      quickchartButtonEl.disabled = true;  // To prevent multiple clicks.\n",
              "      quickchartButtonEl.classList.add('colab-df-spinner');\n",
              "      try {\n",
              "        const charts = await google.colab.kernel.invokeFunction(\n",
              "            'suggestCharts', [key], {});\n",
              "      } catch (error) {\n",
              "        console.error('Error during call to suggestCharts:', error);\n",
              "      }\n",
              "      quickchartButtonEl.classList.remove('colab-df-spinner');\n",
              "      quickchartButtonEl.classList.add('colab-df-quickchart-complete');\n",
              "    }\n",
              "    (() => {\n",
              "      let quickchartButtonEl =\n",
              "        document.querySelector('#df-40a59160-b9cd-4fe1-b65d-91eeeb53edf8 button');\n",
              "      quickchartButtonEl.style.display =\n",
              "        google.colab.kernel.accessAllowed ? 'block' : 'none';\n",
              "    })();\n",
              "  </script>\n",
              "</div>\n",
              "    </div>\n",
              "  </div>\n"
            ],
            "application/vnd.google.colaboratory.intrinsic+json": {
              "type": "dataframe",
              "summary": "{\n  \"name\": \"# df['extracted_text'][0]\",\n  \"rows\": 5,\n  \"fields\": [\n    {\n      \"column\": \"extracted_text\",\n      \"properties\": {\n        \"dtype\": \"string\",\n        \"num_unique_values\": 5,\n        \"samples\": [\n          \"LIST OF RELATED DRAWINGS SR. NO. DRG. NO. REV. NO. DESCRIP TION SHEET NO. 10450 PLIF. 1 PHEL\\u2014PL\\u2014628 0 DETAIL OF PLATFORM O02 OF 04 | 2 PHEL\\u2014PL\\u2014628 0 DETAIL OF GRATING 03 OF 04 550 1275 1500 1510 1690 1060 1315 1350 ~ |. 200 3 PHEL\\u2014PL\\u2014628 0 DETAIL OF LADDER L1 04 OF 04 x | = y |e Z. | GENERAL NOTES :- 1. ALL DIMENSION ARE IN MM. A EVELS/ELEVATIONS/COORDINATES ARE IN METERS U CL. ELEVATION OF VESSEL IS 114.800. A CONNECTIONS ARE BOLTED UNLESS NOTED OTHERWISE. K A VESSEL ENDS SHALL BE GROUND SMOOTH BEFORE WELDING. A S H A ESS NOTED OTHERWISE. FINISHED WELDS SHALL BE VISUALLY INSPECTED FOR IDENTIFICATION OF ANY TYPE OF WELD DEFECTS. PLICING OF TOE ANGLE SHALL BE DONE ONLY IF ESSENTIAL. OLES FOR BOLTS SHALL NOT BE FORMED TO BY GAS CUTTING PROCESS. LL STRUCTURAL STEEL SHALL BE OF S355JR CONFORMING TO BS EN 10025. OF BEAM FLANGE PLATES & BEAM WEB PLATES SHALL BE DONE BY FULL PENETRATION BUTT WELD,SPLICING WEB AND i | T ] 7 | FLANGE PLATE AT SAME LOCATION SHALL BE AVOIDED. FLANGE PLATE SHALL BE PREFERABLY NEAR 1/3 OF BEAM SPAN AND WEB i L| i L| L| * SPLICING CLOSE TO CENTER OF SPAN.SPLICING ON THE TOP AND BOTTOM FLANGE OF BEAM AT SAME LOCATION.THE SPICING JOINT ON PLATFORM WILL BE DECIDED BASED ON THE SIZE OF THE CONTAINER. . PROTECTIVE COATING a. FOR STRUCTURAL STEEL (BENT UP PLATES, TOP PLATFORM CHANNELS, INNER & OUTER TOE ANGLES, INTERM CHANNELS Hl ek | _2 i kt x x \\u201c|, \\\\ SURFACE PREPARATION / PRIMING / PAINTING FOR STRUCTURAL STEEL SHALL BE AS PER \\\"STANDARD SPECIFICATION FOR iM SURFACE PREPARATION AND PROTECTIVE COATING\\u201d NO. A545\\u2014000-\\u201407\\u201441\\u2014SP\\u201401121\\u201401 AS PER SL .NO.2 OF TABLE 10.0. 2 ALL CS EXTERNAL SURFACES SHALL BE BLASTED AS PER SSPC\\u2014SP-10 (BLAST CLEANED TO SA 2-1/2 FINISH)AND THEN VW \\u00a3L. 117.200 (T.0.C.) r EL. FROM CL. (+) 2400 (T.0.6.) 4 SL PNP aFAS oO \\u201d U c OQ oO mM DIATE c Sis. a 2400 PAINTED AS FOLLOWS. ae x x x x \\\"x x x x x : x > pctooeos- x - I x (.L_OF_VEBSEL a I WEL. 114.800 ! l CL. EL. (+) 0.00 PRIMER FIELD PRIMER FINISH COAT TOTAL DFT (u) 4048 0.D I I I TYPE TYPE(1st COATS) TYPE TYPE tw NO.OF COATS DFT (wu) NO.OF COATS DFT (wy) NO.OF COATS DFT (yu) NO.OF COATS DFT (yu) 2250 P6\\u2014 TWO 9-1 F9\\u2014TWO COMPONENT EPOXY F6\\u2014A-HIGH BUILD F\\u20142\\u2014TWO COMPONENT EPOXY FINISH ACRYLIC POLYUREHTAN COMPONENT |65\\u2014 ZINC PHOSPHATE =p | 2X100 345\\u2014 v 1 40 | 2 | COATING CURED 1 | FINISH PAINT,FINAL COLOUR | 40 y INORGANIC ZINC | 75 PRIMER CURED WITH POLYAMINE | =200 SHALL BE BRITISH AIRWAYS 355 g SILICATE COATING WITH POLYAMINE ERE LZ HARDENER ARDENER BLUE (RAL NO. 5011) 2050 m Ep ee 1 = | =< | | \\u00ab 7 , ! \\u2014 | I} Fl | & | l - VW_EL. 112.750 \\u2014 | t | Y_ _]} - 4 EL. FROM CL. (-) 2050 __\\u2014 XX a ol x t T J : / WEL. 112.550 1 EL. FROM CL. (\\u2014) 2250 b. FOR STRUCTURAL STEEL_(LADDER VERTICAL POSTS & RUNGS, HAND RAIL, MID RAIL, TOE RAIL, RAILING VERTICAL POSTS LADDER CAGES, LADDER HOOPS) i LADDER Li | a SURFACE PREPARATION / PRIMING / PAINTING FOR STRUCTURAL STEEL SHALL BE AS PER \\\"STANDARD SPECIFICATION FOR H 50 | SURFACE PREPARATION AND PROTECTIVE COATING\\u201d NO. A545\\u2014O000\\u201407\\u201441\\u2014SP-\\u201401121\\u201401 AS PER SL .NO.2 OF TABLE 10.0. SF | 50 ALL CS EXTERNAL SURFACES SHALL BE BLASTED AS PER SSPC\\u2014SP-\\u201410 (BLAST CLEANED TO SA 2-1/2 FINISH)AND THEN S.F PAINTED AS FOLLOWS. | L.T.L L.W.L W.L R.T.L \\u2014 Yn , + c AS PER M/S DANGOTE\\u2019 on AS PER EILS PAINTING SYSTEM RECOMMEND ATION X ly Y ly Z ly : \\u2014 PRIMER FIELD PRIMER FINISH COAT TOP COAT 3965 TYPE(1st COAT) TYPE TYPE rat aAwH ! NO.OF DFT (u) = COATS TYPE | DFT (14) NO.OF COATS DFT (u) NO.OF COATS NO.OF COATS 10000 T.L TO T.L GC P6\\u2014 TWO F9\\u2014TWO COMPONENT EPOXY ELEVATION COMPONENT ZINC PHOSPHATE INORGANIC ZINC PRIMER CURED SILICATE COATING WITH POLYAMINE HARDENER F6\\u2014A-HIGH BUILD YELLOW \\u00b0 EPOXY FINISH F COATING CURED rhe RRS ENT) \\u00a2 WITH POLYAMINE ll 1 eee (JOTUN MAKE) 65-75 40 N 2 X 100 200 545-355 c. FOR GRATINGS ALL ELECTROFORGE GRATINGS SHALL B GRATING SHALL BE AS PER EIL STANDARD. A545\\u201407\\u201468\\u2014-0697 REV.1, HOT DIP GALVANISED AS FOLLOWS mo I 2725 315 2600 -<Ny> PLTF. -<y> PLTF. -<N)> HOT DIP GALVANISING TOTAL DFT(MIN.) 1010 1715 NO. OF COATS TYPE | DFT (u) (u) AS PER BS EN ISO 1460 & TESTED AS ZINC COATING SHALL BE PER BS EN ISO 1461 & ASTM A90/A90M 900 gms./sq. mtr. 1 120 12. ALL GRATINGS SHALL BE MADE OF S275 JR. CONFIRMING TO BS EN 10025 BY ELECTR 13. OPENINGS UP TO 200mm ARE NOT SHOWN ON THE DRAWING THE SAME SHALL MADE \\u00a5 EL. 117.200 (1.0.6) AFTER ERECTION TOUCH UP FOR DAMAGED GALVANIZING SHALL ALSO BE DONE(BY OTH 14. LB INDICATES LEFT BRACKET , RB INDICATES RIGHT BRACKET. EL. FROM CL. (+) 2400 (T.0.G.) L : 15. EACH COMPONENT SHALL BE STENCILED WITH PROPER IDENTIFICATION BEFORE DELIVERY IN ACCORDANCE WITH THE MARKING | DIAGRAMS AND SHALL BEAR SUCH OTHER MARKS AS WILL FACILITATE ERECTION. ~ Lg 16. NO PIPE SHALL BE ANCHORED OR GUIDED ON PLATFORM/GRATING. FORGING PROCESS. T SITE DURING ERECTION OF PIPING. RS.) >O V \\u00a3L._117.200 (T.0.6.) a WEL. 117.200 (T.0.G.) : EL. FROM CL. (+) 2400 (T.0.c) _ E EL. FROM CL. (+) 2400 (T.0.6.)} 4 2400 SS a 2400 aN \\\\ EIL REFERENCE STANDARDS/SPECIFICATIONS \\\\\\\\ \\\\ SL.NO. TITLE STANDARD NO. ANDRAIL DETAIL A545\\u20147\\u2014-68\\u20140552 TEEL LADDER DETAIL A545\\u2014 7-68-0507 TEEL LADDER JOINT DETAILS A545\\u20147-\\u201468-0509 . ORIZONTAL PLATFORM FOR HOT VESSELS A545\\u20147-\\u201468-0540 DETAIL OF GRATINGS (TYPE-1) A545\\u20147\\u201468-0697 Rt DESIGN TEMPERATURE : 130 \\u00b0C PLATFORM SUPPORT CLIPS DETAIL A545\\u20147\\u201468\\u2014-0557 INSULATION : NIL j GENERAL NOTES,STANDARDS, SYMBOLS HH / 7 |& ABREVIATIONS FOR STRUCTURAL A545\\u2014700-16\\u201448\\u201440052 Di fi STEEL WORKS (LLOF VESSEL ceo G-LIOF_VESSEI 2400 oN \\u2014 G.LIOF_VESSEL \\\\. n n | | WEL. 114.800 | CL. EL. (+) 0.00 GL_OF VESSEL VW EL. 114.800 G.L_OF_VESSEL WEL. 114.800 ! I CL. EL. (+) 0.00 i f CL. EL. (+) 0.00 ( \\\\ \\u00e9, t | \\\\ \\\\ | & a LADDER Li vy O;/o}; |W mM] a= so, \\u201ce ot \\\\ 8, 2050 LB Ze aa et | : 6 Hy EL. 112.750 = cool | dL we EL. FROM CL. (-) 2050 _ == i Mt u th ri \\\\ ___It H IN nt ri 0 [03.12.2018 | ISSUED FOR APPROVAL. _ PCP REV. | DATE DETAILS REVISED BY.|APPD. BY N. 4@ THIS DRAWING IS THE PROPERTY OF PHILS HEAVY ENGINEERING PVT. LTD. AND MUST NOT E COPIED OR LENT WITHOUT THEIR PERMISSION IN WRITING. | > | +\\u00a9 Ly) PHILS HEAVY ENGINEERING PVT. LTD. L] ms PADGHA, THANE, MAHARASHTRA, INDIA B =. Co. _* SL Cl Le NL 7 _- PROJECT EQPT. NO. CLIENT B = \\\\ \\u2018 / i] | / \\u2018 \\\\ . REVISION @ DANGOTE REFINERY AND | 49; _yy_1903 DANGOTE PETROLEUM REFINERY AND PETROCHEMICALS PROJECT PETROCHEMICALS FREE ZONE ENTERPRISE CLIENT DOC. NO. : A545\\u2014-6002\\u20145056\\u2014VD-101\\u2014W-1003-012-0 JOB NO. SCALE CONSULTANT Soitazret 4 ENGI 2125 172024 1 : 40 see ee ORD (Aen Ra osu) (A Govt. of India Undertaking) . ; \\u2018 5 tr 7? SHEET NO. OFF EIL JOB No\\u2014A545 UNIT : 101 (CDU) VIEW X-X VIEW Y\\u2014-Y VIEW Z-Z 1 OF 4 1 NO. [REF. DRG. NO.: A545\\u2014111-16\\u201448-30750 REV1 DOCUMENT REVIEW DETAILS | P.O.NO.:\\u2014 6002 AMD. DTD.-27.02.2017 P.R.NO.: A545-111-VV\\u2014PR-6002/5056-REV.2 DTD:15/12/2016 DRAWN CHECKED APPROVED TITLE PLATFORM & LADDER GENERAL ARRANGEMENT Ww . \\u2014 vacua / tava \\u2018 . FOR PREFLASH OVHD RECEIVER [2 | eesraraiiod Sb seinhest, Hiovtned Oar \\u201cA ek 101\\u2014VV\\u20141003 [3] Demon Soap et Seniors whats equirements DRG. NO. REV. ne MA D soe PHEL\\u2014PL\\u2014628 0 Retained for Records. | \\\\ Void. 7 . 16) 15 14 13 12 11 10 9 8 7 6 5 4 3 2 1 Al Signature with Date\\u201443-DEC@-2048 ~~\\\" Transmittal No. | Page 1 of 2\",\n          \"EIL PR NO.: A545-101-EE-PR6170/5029 Rev.0 EQPT NAME : CRUDE/CRUDE COLUMN VAPOR EXCHANGER EQPT NO : 101-EE-1001A 7 F z 7 3 3 7 TORE PROTECT RO TST2F 2 7 7 z 3 a = ev NOTE := NOZZLE SCHEDULE DESIGN DATA 1. ALL DIMENSIONS ARE IN MM, UNLESS OTHERWISE SPECIFIED. NOZZLE SIZE] SCH./ [FLANGE (= wns 5 \\u00ab 6 DESIGN CODE : ASME SEC. Vill, DIV. 1 [EDITION: 2013] qry, SERVICE PROJ. \\u2018MARK NPS THK. CLASS | TYPE | FACE WIND CODE : EN 1991 1-4 2_NOS. UFTING LUG 001 1 80 |SCH. 160] 900 | SRWN| RF OUTLET 770 SEISMIC CODE : NET HORIZONTAL ACCELERATION 0.05g ATT APART vor 1 [80 [scH. 160] 900 | sRWwN| RF | VENT \\u2018SEE DETAIL | ASME CERTIFICATION MARK : YES B02 1+] 450 [257 | 900 | SRWN| RF _| MANWAY + BF. + DAUT 965 __| DESCRIPTION UNIT | VALUE Jo2 1 200 |SCH. 100] 900 | SRWN | RF INLET 820 INTERNAL DESIGN kg/em*(g) | 68 \\u2018SP1/2 2 | 50.8 1.0. = 1500 | LWN | RF | STAND PIPE 710 EXTERNAL DESIGN kg/cm*(g) NAME PLATE wos 1 [| 200 |ScH. 100{ 900 | SRWwN| RF | OUTLET 585) (OPERATING ka/em*(g) | 57.6 i MAWP @ DESIGN TEMP. kg/em*(g) | \\u2014 Tf), 1007 PART LIMITING MAWP =|= CTR. PRESSURE MAPnc (NEW \\u00e9& COLD) kg/em*(g) | \\u2014 PART LIMITING WAPne = [= ve STEAM OUT CONDITION va7em*(a) | = Ve HYDROTEST AT TOP (SHOP) kg/em*(g) | \\u2014 Mn Mr HYDROTEST AT TOP (FIELD) kg/em*(g) | - fle \\\\w \\u00e9 PNEUMATIC TEST ko/em*(a) | \\u2014 2 NOS. EARTHING LUG 2_NOS, EARTHING LUG ' DESIGN _(INT./EXT) *c_[ 490 7 190 \\u2018AT 180\\\" APART AT 180\\\" APART | OPERATING *c_| 273 TEMPERATURE [MNT \\\"co | = | MONT *c [= MIN. HYDROSTATIC TEST (MIN/MAX) *c | 17/48 OPERATING | NAME =|[- MAX. ALLOWABLE NOZZLE LOADS FLUID DENSITY kg/m - Nozzle sue] P S ve NC Me MT RADIOGRAPHY (SHELL/HEAD) =| FULL 7 SINGLE PIECE f WARK nes |W i nN) | we Ne No ORIENTATION PLAN FOR ORIENTATION PLAN FOR \\u201c9 |__| (wom) | (nem) _| (Nm) _| Toner EFRICIENGY (SHELL/HEAD) = [107 10 152-VV-1006A, 152-VV-1006B 001 (TOP_DISH_END) a = = = = = = \\u2018CORROSION ALLOWANCE mm | 30 HOS) HOLE IDSH SEND} = = = = = = POSTWELD HEAT TREATMENT (PWHT) = [Yes (SEE NOTE 14) 402 (SHELL) ze) = = = = = = INSULATION (TYPE _/ THK.) mm_| HOT _/ 75 FIRE\\u2014PROOFING =| ves ena ADDITIONAL LOADINGS PER UGW22 = [yes a 2 NOS. LIFTING LUG (BE ROUNDED OFF LETHAL/HYDROGEN/WET H2S SERVICE = [No / NO / NO SEE OFTAL) 2:1 ELUPSOIDAL DISHED END WEIGHT-={-EMPIY: tg Te '52 THK. (NOM.) ERECTION kg ae on (MIN.) OPERATING kg = FULL_OF WATER \\u00aba | = IMPACT TEST REQUIREMENT \\u2014_| Yes (SEE_NOTE 9\\u00a2) c PAINTING = [See NOTE 16 MANUFACTURER'S SERIAL NUMBER =_| 120770 NATIONAL BOARD REGISTRATION \\u2014_| REQUIRES: 7 NOT REQUIRED CRITICALITY. RATING SE HOLD LIST : |_| 1. ORIENTATION PLAN. e001, ; . 2. PIPE SUPPORT HEIGHT. | Z al | HAND GRIP. el 4 | \\u2014\\u2014 LIST OF GODREJ DRAWINGS lt WN 41200 a| 4 4 SRNO] DESCRIPTION DRGNO_]-SHT.NO. 8 gl 1 _| GENERAL ASSEMBLY & DETAILS v-e-903 | 1 or 2 |? 4 2 | DETAILS OF NOZZLES 6VL-E-903 | 2 OF 2 a a 3 1 No. 68 VENT HOLE SIDE VIEW ELEVATION Gas a Sime ter wis FOR W4 X 0.75 SCREW a ASME CERTIFICATION MARK WITH U-DESIGNATOR + NATIONAL BOARD REGISTRATION\\u00ae 174,_[ SET SCREW sS304 @ [wax 07 x 1516 02 113._| CLIENT NAME PLATE sS308 1__[ REFER DRG. NO. 120770-NP, SHT-On| 0.1 \\\" SECTIONAL ELEVATION 112. [ASME NAME PLATE \\u2018S304 1 [REFER DRG. NO. 120770-NP, SHT-02| 0.1 T11._[ NAME PLATE BRACKET SAS87 Grit Cha] 1 [764 x 240 x 10 THK. 14h 110, [PLATE FOR LIFTING LUG [SAS87 Get? cL2] 2 [497 x 200 x 12 THK. Ta7 |p 109._| PLATE sase7 Ge11 0L2] 2 [200 x 30 x 12 THK 1 3 NAME BEATE BRACKET 108. | PAD FOR LIFTING LUG A387 Gr) 0L2] 2 [300 x 180 x 10 THK. a5 107._ | EARTHING LUG sAse7 e11 oL2] 2 | 100 x 75 x 10 THK. 12 SiR WEF 106. | PIPE CAP A387 Get) cL2] 4 [101 OD. x 10 THK. 25 FOR M30 BOLTS 105._| SUPPORT BASE sAs7 G11 0L2] 4 [250 x 250 x 25 THK. 29.1 PER SUPPORT S 104. | PIPE SUPPORT SA335 PIT 4 [80 NB x SCH. XS x 2337 LG. 142.7| 103._| DISHED END SAS87 Get OL2] 1 [1233 BLANK DIA. x 52. THK, 488 H amp I 102,_| DISHED END SASG7 Grit) 02] 1 [1233 BLANK DIA. x 52 THK. 468) SECTION S2-S2 4 101 \\u2018SHELL }SA387_Gr.11 CLL 1 2959 CIRC. x 2300 x 42 THK. 2244 2 SECTION S1-S1 ITEM WT. om aa DESCRIPTION MATERIAL | QTY. DIMENSIONS a LAST WELD NUMBER + 05102 , @ vist BILL OF MATERIALS\\u2014| WEIGHT + 3459 Kp. 4 NOS. 80 8 wap | 100. 120 + W108 QTY. GEN FOR 1 NO. EQPT. EQUI-SPACED a Hae: THE DRAWINGS ARE THE COPYRIGHTED WORKS OF GODREJ & BOYCE MFG. CO. LTD. GODREJ & BOYCE MFG. CO. LTD. RESERVES ALL RIGHTS WHATSOEVER IN THE DRAWINGS. CODREI &e BOYCE. MFG. CO. LTD, ASSERTS 1S RIGHTS OVER THE DRAWINGS THAT |G HAVE BEEN CONCEIVED BY THE DINT OF TTS EFFORTS AND ALSO VIEWS REPRODUCTION OF THE DRAWINGS, AS IS_OR BY MAKING| Nos, ANG COSMETIC OR OTHER CHANGES, AS A VIOLATION OF TTS COPYRIGHT. NO\\\\PART OF THE DRAWINGS SHALL BE COPED OR wea AT 160 APART REPRODUCED WITHOUT THE WRITTEN APPROVAL OF GODREJ & BOYCE MFG. CO. LTD. . 8 FY (i) 100. . au Godrej & Boyce Mfg. Co. Ltd. DETAIL OF EARTHING LUG 1008 LEG CENTER LINE DIAMETER, eee Process Equipment Division DETAIL OF PIPE SUPPORT wre; GENERAL ARRANGEMENT AND ASSEMBLY |EQPT. No.: 6VL-E-903 EQPT. NAME: DEBUTANIZER REBOILER CONDENSATE DRUM] QUANTITY: 2 Nos. 8.0. NO.: \\u2014 Ro. NOs: \\u2014 CLIENT: DANGOTE OIL REFINERY CO. LTD, NIGERIA. \\u2018UNIT: CRUDE DISTILLATION UNIT (101) | 4 CONSULTANT: UOP / ENGINEERS INDIA LTD. _ | Rit pe ko: 456-1o.-Wo-pR-617/s0eo REVO D16/0/205 INSPECTION AGENCY: TPI ELL. JOB NO.: A545 SCALE _[1:20, N.T.S. GODREJ DRAWN | NRC [03/05/2016] PROJECT NO DRG. NO. _|SHT.| OF |REV, WELD DETAIL FOR WELD DETAIL FOR CHKD. RAVI 03/05/2016 68101 &CS102 1st DATE DESCRIPTION auto. | cHKD.| aPPDJ ppp. sc |03/05/2016| 120770 6VL\\u2014E-903 1 2) 0 10. 1 12 3 14 5 16.\",\n          \"1 2 3 4 5 6 7 8 9 10 \\\" 12 13 14 15 16 7 18 19 20 21 \\u2014- NOTES Se : CON \\u2014 MERICHEM, BECHTEL . FOR STANDARD SYMBOLS, DETAILS AND LEGEND SHEETS, SEE <6 \\u2014\\u2014 DRAWINGS: G11-Z100-001 THRU Gi1-Z100-004. lJ IN= ECI4EA | ECI2EA PSV INLET/OUTLET VALVES TO BE ORIENTED SUCH THAT VALVE STEM LW IS HORIZONTAL. of 72164 7418-BA-108-2'-EC14EA-NI 7418-BA-O91-2'-EC12EA-NI CY note 6 LP | RELIEFVALVE! TO) BE\\u2019SUPPLIED \\u2018BY, MERICHEM! AS\\u2019 LOOSE (TEM: Te FROM Z418-PSV-27 A/B OUTLET tints _ LOCATE VALVE NEAR MERICHEM SKID. \\u00a9 (SOENENTZEIOUID REDIF) SP NUMBER IS FOR INTERLOCK ONLY. ROUTE PIPING TO PROVIDE FREE DRAINING OF LIQUID IN THE DIRECTION NOTE\\u20198 SHOWN ON P&D. MINIMIZE LENGTH AND BENDS FOR PSV INLET AND OUTLET LINES. NOTE 3, 4,7 -BA-926-12\\\"- e Es TBAT2br12 qciees MI Dx nore 6 LP . REFER TO MERICHEM DOC.25194-RFZ-MSOLO1-LAC-418-B05-0002 FOR NOTE 3, 4,7 FLARE TIE-IN- SCHEDULE. 2418-105 . TIE-IN POINT BETWEEN BECHTEL AND MERICHEM IS NOZZLE R ON OXIDIZER TOWER MV-RFZ418-CO2. 2\\u00b0 4NC 6'xX4'7\\\\ [\\\\ex4\\\" y 5 Hl = z wot PZI00102 +h 2*Xnc 2. ectaca|ecize, note 2A NOTE 5 1X NOTE 2 ae Colo 7418-BA-101-6'-EC14EA-NI 2418-BA-311-6'-EC12EA-NI 2418-BA-930-2'-ECI2EA-NI iw i 28 FROM MV-RFZ418-VOl Bay TO 2418-PSV-007 A/B 5\\u00b0 INLET (NOTE 3) a gg e e az WIES NOTE 3, 4,7 ge ys ZAtGGDI-S0P- (OS ERESSN CX note 6 LP eZ FLARE ui = g6 NOTE 3, 4,7 Aigids as Ye ef = as 8 1 <I <I 2 {NC gO LO ue NOTE 2 a Gu g\\u00b0 ao g\\u00e9 : 5g PZJO0103 2 xe a ze ECI4EA,| EC12EA NOTE 2Xuo NOTE 8 \\\\ 28 a ee 7418-BA-102-6'-EC14EA-NI 7418-BA-312-6'-ECI2EA-NI 7418-BA-931-2!-ECI2EA-NI af Ee FROM MV-RFZ418: &3 0 2418-PSV-014 A BE NLET (NOTE 3) of oe 29 ___ 38 NOTE 8 - Z418-B6-928-6'-ECIZEA-NI CX note 6 LP 6 ESI2EA | EC12EA 3 EC12EA | ES12EA FLARE a8 NOTE 3, 4,7 = = NOTE '3:-4,.2 7418-105 a3 Psv 5 ux REMARKS: a oo3a/\\\\J oh EOIZEA 1. REV. 2 OF THIS P&lID (SHT 2 OF 2) IS NOW ISSUED AT REV. 4 TO an AICHE AP 3-1 2 (nc ESI2EA MATCH WITH THAT OF G41-RFZ418-O11 (SHT 10F 2) WHICH IS ne 6x3\\\" LO LO 6'X3\\\" A MODIFIED AS PER AS-BUILT COMMENTS. Pa NOTE 2 us a5 L a IGS x dl \\u201cXN 23 A ies sP | PZJ00105 = 4 2 ba TT a2 NOTE 2A NOreS aw = NOTE: 2 AA 15-0EC-12 | (RBUERANGES. 0. PREVIOUS REVISION) 20 NOTE 9 2418-PA-580-2'-ES12EA-NI 7418-PA-581-2'-ESI2EA-NI i cE fee wee bil th FROM MV-RFZ418-CO2 0 248-003 rane NLET (NOTE 3) NOTE 8 ENGINEERING DIVISION ( JEC ) 8 NOTE (28) 4,7 ate Nera CX note 6 LP THIS DRAWING IS UPDATED BY RPTL 2 on) Yue 4 PSV A\\\\ [20 wir 09 | BEEF oP HS HERRERO ED) AvJ | US | DFR | DFR 2 u \\u2018 4 004B 12 MAR 08 | RE-ISSUED FOR CONSTRUCTION AVJ PRS ss z . Al Kc 08 FEB 08] ISSUED FOR CONSTRUCTION AVI A ss DR JW MAB ZS 12\\\"*X6\\\" rs is 12*X6\\\" A LEAD PROJ Qa NOTE 2 DATE REVISION BY ENG ENG [CLIEN 5 6x4'/\\\\ L\\\\erx4\\\" = | b<H4 t\\u2014><] | = IDRAWN: CHECKED: BE wot SP | PzJ00104 4 # 2\\\" XnC APPROVALS 8 ILO NOTE 5 ILC T PIPING \\\" ENV M & QS LO. PREV START-UP on eci4ea | eci2ea NOTE 22 NOTE 2 _ Ta Te ae eT 7418-BA-109-6'-EC14EA-NI 7418-BA-314-6'-EC12EA-NI 7418-BA-932-2'-ECI2EA-NI gg FROM MV-RFZ418-V04 3 5 ue FROM MT RETAI6-H BECHTEL FRANCE S.A.8. ie INLET (NOTE 3) 2: PROJECT TITLE: 7 <a RELIANCE Qe ; z 25 NOTE 8 JAMNAGAR EXPORT REFINERY PROJECT \\u00e9 i 3 = Reliance 5 8 g 3 DRAWING TITLE: 48 PIPING AND INSTRUMENTATION DIAGRAM eg \\u00a38 PROCESS BATTERY LIMITS-OUTLET OF MERICHEM aes meee & reine STREAM TREATING SYSTEM 3 x Bz JOB No. DRAWING No. | REV. P Soe re Soy laeiaal G41-RFZ418-011 | 4 f: a3e SHEET 2 OF 2 2 Gz See 1 2 3 4 5 6 7 8 9 10 \\\" 12 13 14 15 16 17 18 | 19 | 20 21 USERNAME tvinod.rathod DESIGN FILE : c:\\\\pwase\\\\ jerp\\\\vinodr\\\\dms84400\\\\25194-G41-RFZ418-@11-SHEET 2 OF 2.pid PLOT DATE /TIME:17-DEC-2012 10:00 :56 PRINTER NAME + \\\\\\\\10.124.31.12\\\\JMRILASF1\"\n        ],\n        \"semantic_type\": \"\",\n        \"description\": \"\"\n      }\n    },\n    {\n      \"column\": \"labels\",\n      \"properties\": {\n        \"dtype\": \"number\",\n        \"std\": 0,\n        \"min\": 0,\n        \"max\": 2,\n        \"num_unique_values\": 3,\n        \"samples\": [\n          0,\n          2,\n          1\n        ],\n        \"semantic_type\": \"\",\n        \"description\": \"\"\n      }\n    }\n  ]\n}"
            }
          },
          "metadata": {},
          "execution_count": 17
        }
      ],
      "source": [
        "# df['extracted_text'] = df['extracted_text'].apply(clean)\n",
        "df.head()\n",
        "# df['extracted_text'][0]"
      ]
    },
    {
      "cell_type": "code",
      "execution_count": null,
      "metadata": {
        "colab": {
          "base_uri": "https://localhost:8080/",
          "height": 206
        },
        "id": "0DpmgTIQruZR",
        "outputId": "6799bdaa-7ff4-4a96-f90f-cfb79ea5ba11"
      },
      "outputs": [
        {
          "output_type": "execute_result",
          "data": {
            "text/plain": [
              "                                      extracted_text  labels\n",
              "0  SR CLIENT NAME: : VENDOR NAME: M/s DANGOTE OIL...       0\n",
              "1  LIST OF RELATED DRAWINGS SR. NO. DRG. NO. REV....       2\n",
              "2  1 2 3 4 5 6 7 8 9 10 \" 12 13 14 15 16 7 18 19 ...       1\n",
              "3  1 BK 8 a NOZZLE SCHEDULE TABLE DESIGN DATA FLA...       2\n",
              "4  EIL PR NO.: A545-101-EE-PR6170/5029 Rev.0 EQPT...       2"
            ],
            "text/html": [
              "\n",
              "  <div id=\"df-8f48c144-bd3b-4346-83bb-b4d32ba6e6d4\" class=\"colab-df-container\">\n",
              "    <div>\n",
              "<style scoped>\n",
              "    .dataframe tbody tr th:only-of-type {\n",
              "        vertical-align: middle;\n",
              "    }\n",
              "\n",
              "    .dataframe tbody tr th {\n",
              "        vertical-align: top;\n",
              "    }\n",
              "\n",
              "    .dataframe thead th {\n",
              "        text-align: right;\n",
              "    }\n",
              "</style>\n",
              "<table border=\"1\" class=\"dataframe\">\n",
              "  <thead>\n",
              "    <tr style=\"text-align: right;\">\n",
              "      <th></th>\n",
              "      <th>extracted_text</th>\n",
              "      <th>labels</th>\n",
              "    </tr>\n",
              "  </thead>\n",
              "  <tbody>\n",
              "    <tr>\n",
              "      <th>0</th>\n",
              "      <td>SR CLIENT NAME: : VENDOR NAME: M/s DANGOTE OIL...</td>\n",
              "      <td>0</td>\n",
              "    </tr>\n",
              "    <tr>\n",
              "      <th>1</th>\n",
              "      <td>LIST OF RELATED DRAWINGS SR. NO. DRG. NO. REV....</td>\n",
              "      <td>2</td>\n",
              "    </tr>\n",
              "    <tr>\n",
              "      <th>2</th>\n",
              "      <td>1 2 3 4 5 6 7 8 9 10 \" 12 13 14 15 16 7 18 19 ...</td>\n",
              "      <td>1</td>\n",
              "    </tr>\n",
              "    <tr>\n",
              "      <th>3</th>\n",
              "      <td>1 BK 8 a NOZZLE SCHEDULE TABLE DESIGN DATA FLA...</td>\n",
              "      <td>2</td>\n",
              "    </tr>\n",
              "    <tr>\n",
              "      <th>4</th>\n",
              "      <td>EIL PR NO.: A545-101-EE-PR6170/5029 Rev.0 EQPT...</td>\n",
              "      <td>2</td>\n",
              "    </tr>\n",
              "  </tbody>\n",
              "</table>\n",
              "</div>\n",
              "    <div class=\"colab-df-buttons\">\n",
              "\n",
              "  <div class=\"colab-df-container\">\n",
              "    <button class=\"colab-df-convert\" onclick=\"convertToInteractive('df-8f48c144-bd3b-4346-83bb-b4d32ba6e6d4')\"\n",
              "            title=\"Convert this dataframe to an interactive table.\"\n",
              "            style=\"display:none;\">\n",
              "\n",
              "  <svg xmlns=\"http://www.w3.org/2000/svg\" height=\"24px\" viewBox=\"0 -960 960 960\">\n",
              "    <path d=\"M120-120v-720h720v720H120Zm60-500h600v-160H180v160Zm220 220h160v-160H400v160Zm0 220h160v-160H400v160ZM180-400h160v-160H180v160Zm440 0h160v-160H620v160ZM180-180h160v-160H180v160Zm440 0h160v-160H620v160Z\"/>\n",
              "  </svg>\n",
              "    </button>\n",
              "\n",
              "  <style>\n",
              "    .colab-df-container {\n",
              "      display:flex;\n",
              "      gap: 12px;\n",
              "    }\n",
              "\n",
              "    .colab-df-convert {\n",
              "      background-color: #E8F0FE;\n",
              "      border: none;\n",
              "      border-radius: 50%;\n",
              "      cursor: pointer;\n",
              "      display: none;\n",
              "      fill: #1967D2;\n",
              "      height: 32px;\n",
              "      padding: 0 0 0 0;\n",
              "      width: 32px;\n",
              "    }\n",
              "\n",
              "    .colab-df-convert:hover {\n",
              "      background-color: #E2EBFA;\n",
              "      box-shadow: 0px 1px 2px rgba(60, 64, 67, 0.3), 0px 1px 3px 1px rgba(60, 64, 67, 0.15);\n",
              "      fill: #174EA6;\n",
              "    }\n",
              "\n",
              "    .colab-df-buttons div {\n",
              "      margin-bottom: 4px;\n",
              "    }\n",
              "\n",
              "    [theme=dark] .colab-df-convert {\n",
              "      background-color: #3B4455;\n",
              "      fill: #D2E3FC;\n",
              "    }\n",
              "\n",
              "    [theme=dark] .colab-df-convert:hover {\n",
              "      background-color: #434B5C;\n",
              "      box-shadow: 0px 1px 3px 1px rgba(0, 0, 0, 0.15);\n",
              "      filter: drop-shadow(0px 1px 2px rgba(0, 0, 0, 0.3));\n",
              "      fill: #FFFFFF;\n",
              "    }\n",
              "  </style>\n",
              "\n",
              "    <script>\n",
              "      const buttonEl =\n",
              "        document.querySelector('#df-8f48c144-bd3b-4346-83bb-b4d32ba6e6d4 button.colab-df-convert');\n",
              "      buttonEl.style.display =\n",
              "        google.colab.kernel.accessAllowed ? 'block' : 'none';\n",
              "\n",
              "      async function convertToInteractive(key) {\n",
              "        const element = document.querySelector('#df-8f48c144-bd3b-4346-83bb-b4d32ba6e6d4');\n",
              "        const dataTable =\n",
              "          await google.colab.kernel.invokeFunction('convertToInteractive',\n",
              "                                                    [key], {});\n",
              "        if (!dataTable) return;\n",
              "\n",
              "        const docLinkHtml = 'Like what you see? Visit the ' +\n",
              "          '<a target=\"_blank\" href=https://colab.research.google.com/notebooks/data_table.ipynb>data table notebook</a>'\n",
              "          + ' to learn more about interactive tables.';\n",
              "        element.innerHTML = '';\n",
              "        dataTable['output_type'] = 'display_data';\n",
              "        await google.colab.output.renderOutput(dataTable, element);\n",
              "        const docLink = document.createElement('div');\n",
              "        docLink.innerHTML = docLinkHtml;\n",
              "        element.appendChild(docLink);\n",
              "      }\n",
              "    </script>\n",
              "  </div>\n",
              "\n",
              "\n",
              "<div id=\"df-98a935db-393d-4ebe-a480-a1e38d4fbf41\">\n",
              "  <button class=\"colab-df-quickchart\" onclick=\"quickchart('df-98a935db-393d-4ebe-a480-a1e38d4fbf41')\"\n",
              "            title=\"Suggest charts\"\n",
              "            style=\"display:none;\">\n",
              "\n",
              "<svg xmlns=\"http://www.w3.org/2000/svg\" height=\"24px\"viewBox=\"0 0 24 24\"\n",
              "     width=\"24px\">\n",
              "    <g>\n",
              "        <path d=\"M19 3H5c-1.1 0-2 .9-2 2v14c0 1.1.9 2 2 2h14c1.1 0 2-.9 2-2V5c0-1.1-.9-2-2-2zM9 17H7v-7h2v7zm4 0h-2V7h2v10zm4 0h-2v-4h2v4z\"/>\n",
              "    </g>\n",
              "</svg>\n",
              "  </button>\n",
              "\n",
              "<style>\n",
              "  .colab-df-quickchart {\n",
              "      --bg-color: #E8F0FE;\n",
              "      --fill-color: #1967D2;\n",
              "      --hover-bg-color: #E2EBFA;\n",
              "      --hover-fill-color: #174EA6;\n",
              "      --disabled-fill-color: #AAA;\n",
              "      --disabled-bg-color: #DDD;\n",
              "  }\n",
              "\n",
              "  [theme=dark] .colab-df-quickchart {\n",
              "      --bg-color: #3B4455;\n",
              "      --fill-color: #D2E3FC;\n",
              "      --hover-bg-color: #434B5C;\n",
              "      --hover-fill-color: #FFFFFF;\n",
              "      --disabled-bg-color: #3B4455;\n",
              "      --disabled-fill-color: #666;\n",
              "  }\n",
              "\n",
              "  .colab-df-quickchart {\n",
              "    background-color: var(--bg-color);\n",
              "    border: none;\n",
              "    border-radius: 50%;\n",
              "    cursor: pointer;\n",
              "    display: none;\n",
              "    fill: var(--fill-color);\n",
              "    height: 32px;\n",
              "    padding: 0;\n",
              "    width: 32px;\n",
              "  }\n",
              "\n",
              "  .colab-df-quickchart:hover {\n",
              "    background-color: var(--hover-bg-color);\n",
              "    box-shadow: 0 1px 2px rgba(60, 64, 67, 0.3), 0 1px 3px 1px rgba(60, 64, 67, 0.15);\n",
              "    fill: var(--button-hover-fill-color);\n",
              "  }\n",
              "\n",
              "  .colab-df-quickchart-complete:disabled,\n",
              "  .colab-df-quickchart-complete:disabled:hover {\n",
              "    background-color: var(--disabled-bg-color);\n",
              "    fill: var(--disabled-fill-color);\n",
              "    box-shadow: none;\n",
              "  }\n",
              "\n",
              "  .colab-df-spinner {\n",
              "    border: 2px solid var(--fill-color);\n",
              "    border-color: transparent;\n",
              "    border-bottom-color: var(--fill-color);\n",
              "    animation:\n",
              "      spin 1s steps(1) infinite;\n",
              "  }\n",
              "\n",
              "  @keyframes spin {\n",
              "    0% {\n",
              "      border-color: transparent;\n",
              "      border-bottom-color: var(--fill-color);\n",
              "      border-left-color: var(--fill-color);\n",
              "    }\n",
              "    20% {\n",
              "      border-color: transparent;\n",
              "      border-left-color: var(--fill-color);\n",
              "      border-top-color: var(--fill-color);\n",
              "    }\n",
              "    30% {\n",
              "      border-color: transparent;\n",
              "      border-left-color: var(--fill-color);\n",
              "      border-top-color: var(--fill-color);\n",
              "      border-right-color: var(--fill-color);\n",
              "    }\n",
              "    40% {\n",
              "      border-color: transparent;\n",
              "      border-right-color: var(--fill-color);\n",
              "      border-top-color: var(--fill-color);\n",
              "    }\n",
              "    60% {\n",
              "      border-color: transparent;\n",
              "      border-right-color: var(--fill-color);\n",
              "    }\n",
              "    80% {\n",
              "      border-color: transparent;\n",
              "      border-right-color: var(--fill-color);\n",
              "      border-bottom-color: var(--fill-color);\n",
              "    }\n",
              "    90% {\n",
              "      border-color: transparent;\n",
              "      border-bottom-color: var(--fill-color);\n",
              "    }\n",
              "  }\n",
              "</style>\n",
              "\n",
              "  <script>\n",
              "    async function quickchart(key) {\n",
              "      const quickchartButtonEl =\n",
              "        document.querySelector('#' + key + ' button');\n",
              "      quickchartButtonEl.disabled = true;  // To prevent multiple clicks.\n",
              "      quickchartButtonEl.classList.add('colab-df-spinner');\n",
              "      try {\n",
              "        const charts = await google.colab.kernel.invokeFunction(\n",
              "            'suggestCharts', [key], {});\n",
              "      } catch (error) {\n",
              "        console.error('Error during call to suggestCharts:', error);\n",
              "      }\n",
              "      quickchartButtonEl.classList.remove('colab-df-spinner');\n",
              "      quickchartButtonEl.classList.add('colab-df-quickchart-complete');\n",
              "    }\n",
              "    (() => {\n",
              "      let quickchartButtonEl =\n",
              "        document.querySelector('#df-98a935db-393d-4ebe-a480-a1e38d4fbf41 button');\n",
              "      quickchartButtonEl.style.display =\n",
              "        google.colab.kernel.accessAllowed ? 'block' : 'none';\n",
              "    })();\n",
              "  </script>\n",
              "</div>\n",
              "    </div>\n",
              "  </div>\n"
            ],
            "application/vnd.google.colaboratory.intrinsic+json": {
              "type": "dataframe",
              "variable_name": "df",
              "summary": "{\n  \"name\": \"df\",\n  \"rows\": 284,\n  \"fields\": [\n    {\n      \"column\": \"extracted_text\",\n      \"properties\": {\n        \"dtype\": \"string\",\n        \"num_unique_values\": 243,\n        \"samples\": [\n          \"STEAM INLET STEAM EXHAUST WITHIN CONFINES OF COMPRESSOR UNIT START A PERMISSIVE\\u201c 0 SUCTION DISCHARGE | ie THIS DOCUMENT IS REVISED B\\u00a5_ JEC JEGMEC) _ . fE ALA PERMISSIVE ag PER Moc _JGE12012JFCC001 ; Ag <> _ ah) OF WARK UP RECEIVED FROM A AFTER GECHTEL TIRNOVER OF JERP. 1083/08/13 _RA 08/08/13 PREPARED) pave [cHecKen| are |appRoveD| DATE ME CANT CAT AeA eT EMERGENCY oe t eae a eS)\\\" |REASON FOR ISSUE: : 4 SG : Jo8/08/43[_ } | L TURNING > | OF a Ne PURGE AQlL PURIFIER 3/4\\\" ><EL LUBE OIL RUNDOWN TANK TO O'L TANK STEAM INLET ate A FO ZiNoos MOC: JGE12012JFCC001 | | | | He Gy 3/4\\\" AN ce A 3/4\\\" : 3 ELECTRIC HEATER c EARTH LUG | | AC415V>~----- | 3 Ay A oe Cp | LUBE OIL TANK EARTH LUG \\\\ SEE DETAIL *A\\u201d \\u00bb \\u2122 \\\\ f \\\\ MAIN LUBE O1L PUMP TURBINE ML al ay Loy AIAN (B&F PP) (PB) (PB) REMARKS LY MARKS SHOW THE DIVISION OF SUPPLY. : WITHIN CONFINES OF OIL CONSOLE \\\\ 602) a CoOL ING ene ao \\\\005/ \\\\006/ CUSTOMER Y MHI ee wn MOTT IGE12012JFCCO01 2.\\u20ac3 SHOWS INSTRUMENT ON LOCAL GAUGE BOARD. | / ns rT caer : A 9. UNIT CO1/C51 TAG NUMBERS WILL BE PREFIXED I ia Wozeue Kos To BE \\u2014 < ; p13. 'S TO BE pREFIXED WITH: 4.3 SHOWS INSTRUMENT ON \\\"DCS BY 4DA/4DB. 9 FOR COI | | \\\\ -CO a 6 sHeWs PLE BN THE Use A 10, CONTROL INSTRUMENTATION FOR COMPRESSER DRIVE TURBINE re, Yeas rene \\u201c 1S SHOWN ON \\\"P&ID FOR CONTROL OIL\\\":M2-U0408_ - SS FORCSI } c 6.2 SHOWS INSTRUMENT ON,OR INSIDE CABINET(UCP) = 4; Try OF OIL PUMP DRIVE TUBINE 1S mS | Aart | WITHIN PIB. DESIGNED TO BE OPERATED BY HAND 14, READ TAG NUMBERS OF PT AS, T UNAGAR PROJECT 7 --- HARD LINK 12. TANK HEATER HAS INTEGRAL CONTROL THERMOSTAT AND SAFETY tia pyaye rons nescon NOB NO. BDS66 A 8.-e SERIAL LINK TO/FROM DCS ESI 0 eT Tne belies = EQ NO.MC-RF414-CO1/C51 EER SS AT USS BS a ee ee ee ee ee ee BECHTEL 6-262475 rR REL TANCE |~ SPaR SPARE} #OSK ING 1 Ey OWNER FORM NO.A3 Surf . ms TEs peetees jrd ANGLE PROJECTION rian FORD t ae sAMEND AS CUSTOMER\\u2019S COMMENT. smi la eee oe] Le ISOM SCREW THREADS AMEND ALL INSTRUMENTS? R-4:AMEND AS CUSTMER\\u2019S COMMENT. TAG NO AMEND INSTRUMENTS\\u2019 TAG.NO, JUN.13\\u00b097 T.H T.Y OCT.6\\u00b097 =. T.H R-2:AMEND INSTRUMENTS\\u2019 TAG NO, eS SLAMENDED DEC. 4 Olle CHANGE AUX. PUMP DRIVER. - BTAMENDES. \\u201cJan.24'e) Rae PN JUL.9'97 TY TAH a STEAM TURB UNG ce le 3:CHANGE AUX PUMP DRIVER. ( si BE MAIN LUBE OIL PUMP AUG,7\\u00b097. T.Y T.H AN STEAM EXHAUST 3/a\\u00b0 | LUBE OIL FILTER >< Bechtel By: ~ URBINE ENG! eae i aE eDEPA ARTMENT OMPRESSOR CECH lel are TRB WE. DESH HG 3) Sect FON \\u2018| Ban \\u2014 y APPROVED DRAWN 7 \\\\ Zens Fond Permissicn to Proceed does not constitute acceptance or approval of design detail, Calculations,analysis,test methods or matertals developed or selected by supplier and does not relieve supplier from fuli comPliance with contractual obligations, \\u201cPofag | 1WORK way PRoceeD [| 5.FoR IWeorMar tan OnLy REVISE_AND RESUBMIT. WORK MAY PROCEED [| 2. SUBJECT TO TNCORPORATION OF CHANGES [] 8. canceLLeo/surercenen [| 3.ReviSE AND at work ay nor PRoceeD [| F. BINAL-CERTIFIED ONLY-HORK MAY Be [| 4.re Lew Nor ie WORK may PROGEED E DRAIN Rettance Petroleum Lim!ted-Jamnogar Refinery Complex Supplier Document Review eon Ep pron (aren Job No, PO No, to cat.No, | Seg.Na. Rev, 22960 [Miclofolo[| | ' [olofs} | [o]\\u00e9}+-RRo SPARE |f DESCRIPTION | MATERIAL. |S\\\" ARRANGE WORKING] SPARE [pen pce TOTAL] SEUNeKe PIEOE} \\u201cMENTS | QUANTITY PER SET| WEIGHT (Kg) A WET GAS COMPRESSOR LUBE OIL SYSTEM \\u00bb Seen HEAVY INDUSTRIES,LTB 3 TAKASAGO MACHINERY WORKS DRAWN C,CODE | C75-A10-101 TC | Cc | HO,10.7 \\u201cON ONIMVUA ZO jx l 2 O> 2 \\u00b0 oO = a ax H9.7.10 H9.4,17 R-0 R-2 . 6-262475 H9.6, 16 ORDER OR R No PHOTO, DATE a8 ae fe a 3 ann eae UE t OR\",\n          \"e \\u2019 A A ~3240 OVERAL LENGTH. ne A F |~2800 FOR 267 229 563 500 500 _ 352 A 506 156 BUNDLE REMOVE 426 A 177 A a wnt) & (a a ee i+ \\\\ 4! ws =e C.G. FOR EMPTY 3 NOS SPACER WN A OUTER PIPE FOQUl SPACE (A) Te | || A 5 (ENB x SOHO Nig A A % Py jo 5 ee eS Ct SA = 3 Fs Pa o = PE Ee) AO) SBP & El x so ee ee a Paes ok \\u2014 WS Y a E \\u00a9 LTT _| E+ E4 4 Rt oo| A H= = 270\\u00b0 L ETS 5 1 3S A Tt 2 oc 4 N O = \\u2014 = U \\u201cP . [ref 3. 7 a yi Zk eee) + Sh @ : WZ, o a N -_\\u2014\\u2014\\u2014y C7 HI E+ | SAS4 ra | \\u2014~| = = TL ! 7 5 Lui. @ = 40 THK z NAME PLATE os = INSULATION Bs INNER PIPE 2 Ie 40 THK | | A X hy y aig BY OTHERS \\\\ | 1.5\\u00b0NB x SCH.80 6] INSULATION | MVE L wly 3/5 BY OTHERS EARTHING LUG uP?) s REFER DIL\\u2014\\u2018Y\\u2019| \\u2014|<= 4i0 A 0 TPE891\\u20141225-\\u201402 | tm (D) _ TT \\u201cA FOR M\\u201424 BOLTS FOR M\\u201424 BOLTS (SCALE - 1 : 8) VIEW FROM \\u2018A-A\\u2019 X DENOTES APPLICABILITY REFERENCE DRAWINGS & STANDARDS GENERAL NOTES: = : ee LG. AA FIL STANDARDS & SPECS 1, ALL DIMENSIONS ARE IN mm, UNLESS OTHERWISE STATED. DESIGN CODE : ; 2, NOZZLE FLANGE BOLT HOLES SHALL BE STRADDLE PRINCIPAL CENTERLINE. ASME SECT. VIIl=DIV.1\\u2014 2015 ED. NO: DESCRIPTION NO: DESCRIPTION 3, FOR NOZZLES ON SHELL, PROJECTIONS ARE REFERRED TO FROM EQUIP. TEMA CLASS TEMA CLASS 'R\\u2019 2007 EDITION. X [7-15-0001] PART DETAILS X |7\\u201415-0014]/PIPE DAVIT (GUIDANCE) A CENTER LINE TO FLANGE CONTACT FACE. A SHELL SIDE | TUBE SIDE 4. ALL BUTT WELDS SHALL BE FULL PENETRATION WELDS, WHEREVER BACK CHIP 7-15-0013] LIFTING LUG DETAIL X | 4-12-8 x Sy, : | Te | nx PT] Av = H = Tt ne | oct \\u2014 in ee CT LT 1400 SUPPORT C/C (N2) A C.L. SLIDING END C.L. FIXED END 664 ED 2 NOS S0x60 ELEVATION 2 NOS. 30\\u00a2 HOLES =D (N2X D ) a lu Yn oO a] Do a uJ 5 Sl [x [7-15-0010] uAcK SCREW TAPPING RA AN) HAIR PIN TYPE 5. ALL TOLERANCES SHALL BE AS PER TEMA AND EIL STD. 7-15-0019. 02 OE CN TEMPERATURE (INT/EXT) eo 5 20/1 20 12077 4 Zs 6. FLANGE GASKET FACE SMOOTH FINISH TO 125-250 AARH. g/em2 (g Ee) (A 2AIB 0076) FARTBING [U6 x |121-976461\\u2014| LICENSOR STD FOR TUBE TO TUBE \\u201c7 04; WORKING TEMPERATURE (IN/OUT) \\u201cc |170.0/151.3 | __37.8/46.1 Bel Mc l7ciScO0T7/NAME PLATE S04 TSHT. | SHEET JOINT REQUIREMENT 7. \\u2018T\\u2019MATCH MARK FOR ASSY SHALL BE PUNCHED ON ALL GIRTH FLANGES Tae - - BAFFLE &TUBESHEET. O5| HYDROSTATIC TEST PR. (SHOP) Kg ema g 13 D =] |X |7\\u201415\\u2014O079]TOLERANCE FOR SHELL&TUBE HEAT EXCH. | PRESSURE VESSEL MONEL 8, SPARES :- FASTENERS 20% (MIN. FOUR NOS.) AND GASKET 400%. 06 MIN DESIGN METAL TEMP (MDMT S}_ |X |7-15-001 9|TOLERANCE FOR SHELLATUBE HEAT EXCH. | X |3 Ri) (SEPARATE SPARE PART DOCUMENT WILL BE SUBMITTED) MAWP(CORRODED /NEW Kg/ 9) AD e X |6-15\\u20140006/STD. SPEC. FOR U-TUBES. A\\\\ |X |3-11-8 | PRESSURE VESSEL CARBON STEEL g/em a 12 ake : ; DO Oe ee eee a enue tee tee OBTLIMITING COMPONENT (CORR/NEW) \\u00b0C /\\\\| BONNET FLG. | REDUCING FucAy 5 o X |A545\\u2014-103-02\\u2014DS\\u2014401\\u2014EU\\u20141002 FOR CAUSTIC HEADER\\u2014R3 B16.20. . . 091 CORROSION ALLOWANCE mm 3.00 3. 00(CS) C : a A R3} 10. PWHT CYCLE: (TUBE SIDE) 635+14\\u00b0C FOR 1 HR, ROC/ROH:100\\u00b0C/hr. 10| RADIOGRAPHY 100% 100% A > BR ALLOWABLE NOZZLE LOADS 11. PAINTING: ALL EXTERNAL UNMACHINED SURFACE SHALL BE SHOT BLASTED 11{POST WELD HEAT TREATMENT NIL YES (CS_ONLY)NOTE=10| \\u201cAy oy TO SA 2 V2 AND APPLY. 1 [| FORMING HEAT TREATMENT NIL NIL S6 NOZZLE| SIZE FORCE re MOMENT aa SHELL SIDE: PRIMER PAINT: ONE COAT OF INORGANIC ZINC SILICATE 13] FLUID LP STEAM 114.3 wt% CAUSTIC \\u00a9 \\u2018iB COATING (F9) @ 75 MICRONS DFT. PER COAT. {alNO, OF BESSES BNE NE no MARK | (NB) FINISH PAINT: 3 COATS OF HEAT RESISTANCE SILICONE ALUMINIUM PAINT \\u2014 Ur. Fwy (F12) @20MICRONS DFT. TOTAL DFT PER COAT. TOTAL FINAL DFT:135 5 INSULATION \\u00a2 5 iH A A Oz MICRONS 16] INSULATION (BY OTHERS 40 40 wr A TUBE SIDE: PRIMER PAINT: 1 COAT OF ea ZINC SILICATE . \\\"EN-1991-1-4:2010 ED., BASIC WIND 0 COATING (F9) @ 65-75 MICRONS DFT. PER COA Z| WIND SPECIFICATION A\\\\ |speep: 33.5M/S (FOR 10 MIN. DURATION ne INTERMEDIATE PRIMER PAINT: ONE COAT OF EPOXY ZINC PHOSPHATE O PRIMER CURED WITH POLAMINE HARDENER (P6) @ 40 MICRON DFT/COAT. 48 | SEISMIC SEISMIC FORCE CORRESPONDING 10 oO FINISH PAINT: TWO COAT OF HIGH BUILT EPOXY FINISH COATING CURED HORIZONTAL ACCELERATION OF 0.05G\\\\ eT WITH POLYAMIDE HARDENER (F-6A) @ 100 MICRON DFT/COAT + 1 COAT OF 13 EMPTY WEIGHT Kg | 630 A of FOUNDATION LOADING DATA PER SADDLE MICRON DPT) COAT (100240 = S40) NTE @ A O| WEIGHT WITH FULL OF WATER Kg _| 670 z\\u00a5 345. a TOTAL SURFACE AREA ((EFFECTIVE) m2 | 0.681 EIL PR. NO: A545-151-EE-PR-6140-5384 =z TYPE | SHEAR (Kgs)} MOMMENT (Kg\\u2014m) TOTAL FINAL DFT : 345-355 MICRONS. 7 \\u2014 OQ Cwino 7075 12. ALTERNATE DESIGN STEAM CONDITIONS AT EXCHANGER INLET IS 5.5 22|HEAT EXCHANGED 0.04294 1076.kcal/h__ AN CLIENT: A e 47 505 r3|_- Kg/om2 (g) AT 190\\u00b0C. SATURATED TEMPERATURE IS 161\\u00b0C. 23|MFGRS. SERIAL NO. (MSN) ~\\u2014~S~*~C\\u201c\\u00ab*~\\u201cC*\\u00ab~SYS:C<CTPESQI\\u2014-OD\\u2014C\\u201ddsd\\u00abs\\u00e9i\\u00abC(\\u2018CNTC\\u2018id Zz LSEISMIC 124 ; 13. HARDNESS FOR ALL CS MATERIAL IN CONTANT WITH TUBE SIDE FLUID SR DANGOTE PETROLEUM REFINERY AND PETROCHEMICALS (FZE) SE A R3| SHALL BE LIMITED TO 200BHN AFTER PWHT. eg A pq 14 NON- FERROUS U-BENDS SHALL BE STRESS RELIVED AFTER BENDING. DANGOTE| PROJECT : DANGOTE REFINERY & PETROCHEMICALS 3 PROJECT (FZE) A ~ be TUBE SIDE OF THIS EXCHANGER| A Suse, aNeuaeua eT 1S IN CAUSTIC SERVICE ENGINEERS INDIA LIMITED, NEW DELHI wu \\u00a9 (A Govt. of India Undertaking) EE E.I.L. JOB NO. :\\u2014 A545 = a MANUFACTURED BY : az . Zz 4 TECHNO PROCESS Equipments (I) Pvt. Ltd. a& A A As AN ISO 9001 CERTIFIED COMPANY. Ea Vi SHANHEL VENT | 1] 3/4\\\" [SCH.XXS|300#/ASME B16.5 WNRF [SEE DRG] _ | BF. cgay ed | ENGG/ADMIN: R-261, MIDC RABALE, THANE-BELAPUR ROAD, NAVI MUMBAI-400 701 INDIA. wm} [Vv [VENT Ss 1\\u2018 |_ 1.5\\u201d [SCH.160[300#/7ASME B16.5 WNRF et tee Pe a TLE: @) PoC LDRAINIEW DETAIL |_1.5\\u201d [SCH.160|3002/7ASME B16.5 WNRF_ | 310 | | 6 [REVISED AS PER COMMENTS 17.12.2019 GENERAL ASSEMBLY & NOTES FOR MPT<MP4T MP VIEW DETAILS 5\\u201d [SCH.160|300#/ASME B16.5 WNRF aie sp PER COMMENT 11. Np Comme? [CHANNEL OUTLET a SCH.160|300#/ASME _B16.5 WNRF [SEE DRG. Dis 1D PER COMMENTS 08. CAUSTIC HEATER lal ey clases | 1 | |2\\u201d |SCH.160|300#/ASME B16.5 WNRF |SEE DRG. at 2.85 lO PER COMMENTS .O5. ITEM NO: 103\\u2014-EU\\u2014-1002 heat NZ noe L Std not | 2\\u201d |SCH.160|300#/ASME_B16.5_WNRF 120x12THK [42.85 _1D a PER COMMENTS DI, A meds Hebube SHelelv. INLET sen SCH.160[300#/ASME B16.5 WNRF 120x12THK {42.85 DJ TPE891\\u2014SPL SPARE PART LIST A\\\\ PER COMMENTS \\u00e9 DATE\\u201411.10.2017 |SCALE \\u2014 AS SHOWN tae aca DESIGN? ae SCH/THK| TYPE/FACING & RATING| PROJ. |0.D xT ees TPE891-\\u20141225-\\u201403 DAVIT DETAILS AN ISSUED FOR APPROVAL 22. 11. \\u20182017 DRAWING No. Sine With Dat 49-DEC | NOZZLES (NB FLANGES NOZzZ. |R.F. PAD TPE891 = 1225-02 DESCRIPTION TPF891\\u2014-1225-01 \\u2018ores viewer oAWANNCUMAR MAME O77 NOZZLE SCHEDULE \\u2014_ \\u2014_ toeg KS\",\n          \"\\u2018A545-101-EE -PR6170/5029 Rev.0 EQPT NAME : CRUDE/CRUDE COLUMN VAPOR EXCHANGER EQPT NO : 101-EE-1001A GODREJ PROJECT NO: 131299 raz 7 z 3 z 5 z 7 a a 70 I Ti T 7 3 = LL. = 6 NOTES: oe a an aa A &) NOTE ac ary Maal ae a Oe) 1 |aeaSeene SA Pa EEE OTHERS SR seen yer uy cht Lio 1+ _ | Eaur-secp, ror expansion 3. ror Scrat or TUDE BUNDLE AGSCMOLY REFER TO SHIECT NO. 2 OF 6. a) |) a on 4. FLOATING HEAD FASTENERS iT. NOS. 307 SHALL HAVE GROOVES OF 2mm WIDE x 0.5mm DEEP GROOVE AT co DOATON RESERORCATATON Eon Foe TO FREVENT DUD wi SEL Gowen FASTEN, | 229 | ; |= 5. GASKET TYPE/MATERL OF fT. NO. 314 SHALL BE AS PER ASVE 816.20 \\u20ac0-2012, OCTAGONAL TYPE RING GASKET ' 33g i ot Z 1 gl A (GOFT IRON, 90 BHN WAX. HARDNESS) a7 8 | 4... i i i \\u00a5 AS EMO. $10,520,521335,544,345,348 SHALL BE SUPPLED TO EXPANSION BELLOW MANUFACTURER AS FREE ISSUE i = i Ey ee 7. BASED ON THE AVALABIUTY OF THE PLATE MATERIAL, LONG. SEAM WIDTH CAN BE ADJUSTED FOR IT. NO, 322. A | | \\u00a5 | ze it] x ZX 8. ALL CS MATERIALS IN CONTACT Witt! TUBE SIDE FLUD SHALL GE COMPLIED WITH MRDIOS.& SPO472. i i | 3 hoy 7 (397) 8, INCREMENTAL/DECREMENTAL IN THE LENGTH OF CONE JT. NO. 326 SHALL BE ACCOMMODATED IN STUB SHELL | ee | aI ii} - 3 INO. 332. HOWEVER THE OVERALL LENGTH OF 1168 TO BE MAINTAINED. TT} 305) }4 _____\\u2014_] 10. AFTER ASSEMBLY, DIMENSION BETWEEN THE COLLAR ON SLEEVE (If. NO. 323) ANO GASKET FACE OF FLaNce | | 1338 | g (T..NO. 313) 1S TO. BE MEASURED THROUGH 3 HOLES 120 DEG. APART TO ENSURE THE ADEOUATE SPACE IS i 18548 H {ft & SVALAGLE FOR EXPECTED EXPANSION\\u2019 AND \\u2018CONTRACTION. | g g = | 15. i e 4 py } A 5 2 Baal A 1 1 No. 800 woue | . ERI, OFF CS so i 1 For 27 sTU0s ! [S303 | i -SEE_NOTE 6_ 3I ON ! | a REF. SHT HO. (eojeeusome 3 FLANGE sero 8) | eo y - A | | 2 A _ BOLT TORQUE _ 8 | ORIENTATION OF L$301,302,303 ieee ped. 1 o oly 4] TEM NO. \\u2018SIZE MATERIAL BOLT TORQUE | MINOR DIA. (cm) | ROOT,AREA (em?) 8 3 3 Borat PROUECT NO. 131200:302 : veo | 3) OI ty y ~J _ fect fos en Oe 2) os nr 2 68 NO. 386 HOLES, cou-seco, | | | ELEVATION A Mi & me \\u00ab(uss x | SNBS GBH | 1180 $1985 01987 a OFF CIRS. FOR USB STUDS \\\" ' ELEVATION sa94 Gein ore I | | DETAILS OF TAILING LUG. a wa7 x 3\\u00b0] SAI9S GBT 410 22055 413857 Sx 4s i SEE NOTE 6 i 194 or.2H oe ! BEE SHT NO. 6 } 16 & Si musa en iaaT : al peels cota oe epson HERTS We HF SAT Cay 780 85s 3 ! : z SLOTS OW ANGLE BELLOW (TOP SE) | sai9e crate I | I 3 ae EE ON 8 aa a u 3 ' ' | 2 A el 140 ! | ales a 8 sap i 2s}, 90 al oe | glue8 A= A rh I e100 ft M30_x 3 THOS. (24a)-\\u00a2 HOS. -18t-f < it ! akea8 | mo weet} 1502 eae ASME CERTIFICATION MARK WITH U-DESIGNATOR+NATIONAL BOARD REGISTRATION we Algo cn Ee Severe 3 @29)57 Th [ ' ee 3 Ae 3 Gan) a - \\u2018 ATS ae N | ! \\u2018TUBE SIDE \\u2014 WET H,S SERVICE#A / d 2 suetve : 30 x 5\\u00b0 HWY, HEX 2 n05. 19+ 30 we 13) SEE DETAR | i} SoS as Siors OW EH CLEATS 3 3 ' q YP. 3 a TI cae pongo 6) @) Lm y i BELLOW (BTM. SIDE \\u201c \\u00bb iss E170 ; ae ee \\u201c8 aas|4 / i Tso se ve M68) | caus o ennco he $ ee a Ae parson ~ ys \\u2018 Al AEA oF 28s [36 L. g | } atuLow R Gams a # Se\\\" [sla a8 ; \\u2014 oO Fle | Ee blSz | res 346, | LOCK NUTS. ~ [SA 194 GR au] 12 [M30 x 3P STD. = 2) PS jes. alae 3 ' = =a a ad ow [_ [ase5._ [Heavy HEX. NUTS [SA 194 GR. en] 24 [M30 x 3P STO = \\u00a7) 8 Bs | 325 al? 8 Gas | PLAN OF CLEATS FOR GUIDE OF EXPANSION BELLOW 44, | UmiT ROD FOR EXPANSION BELLOW [AIS B17L 6 [M30 x 3P x 63016. SEE-DETAL | \\u2014 | a 83 |g. elas | Ay DETAILS OF GUIDE DEVICE [As45, [stud +2 NUT ___|ssiaawsinaau| arava] wi6 x 2P x 90 LG = B) 2 3B\\\" g129 (24d) i DETAILS OF LIMIT RODS FOR EXPANSION BELLOW. A\\\\ \\\\as42_[cuine oevice fsa516 Gr70 | 4 [830 x 140 x 16 THK SEE DETAL | 56 S| os ASSEMBLY OF BELLOW ae 4 ae \\\" [Asay [cteats [sa516 Gr.70 | 4 |170 x 81 x 16 THK. 6.91 3) 8 gi53 | [Aso [PLATE FOR LIFTING TR SA516 Gr.70_| 2 [530 DIA x 30 THK. 104 | y ~ me i 25 nik Hi ME, 200 [aose [rere For uring sasie or70 | 2 | 197 eve. x 293 x 23 wR See OETA] 130] \\u201d == ro 338) (0) [A336 [PAD FOR LIFTING TRUNNION [SA516 Gr.70 2 [900 x 900 x 25 THK. SEE DETAL | 318 *6. ' [A337 [TANG Luc 'SA516 Gr.60 1 [500 x 280 x 90 THK. SEE DETAL | 65 g mo S60 On 21 | A336 | GUSSET FOR LIFTING LUG _|SAS16 Gr.70 | 16 [422 x 272 x 25 THK. SEE OETAL | 182 Je 0 eet 35 [PLATE FOR LIFTING LUG |SA516 Gr.60 | 4 [567 x 215 x 45 THK. SEE OETAL | 172 3s ae (UPTO BUTTERNG || |As34. [ANGLE (LOOSE SUPPLY) 15:2062 GR.A/B| 4 | ISA 75 x 75 x BTHK. x 778 LG 2 g : ' CuEATS sasi6 Gr70 | 4 [119 x 88 x 25 THK SEE DETAL [6.22 A 692.19 P.C.0. 28 sar. aN 4 I DELETED = - DETAIL \\u201cD2 | 3 DELETED = ! gl DELETED = + iol FUG. I 2 tS wilt Emenee | : 3 DeveteD \\u2014t = 957.00 8 3 DELETED = esti. | 3 CONE S16 Ge60_| 1 | 57 (NOW) AS PER OEY. Tai E DETAIL - D1 | i STUB SHELL 'SA516 Gr.60 1 [5325 + 171 circ. x 150 x 57 THK.| 357 Dave t | i SQ. HEADED STUD + 1 NUT [smumvisiwom|are+e| M36 x 3P__SEE OETAL 34 = ff ansicdt | Has | { i SLEEVE RING sa2v0 Grint] 1 [670 0/0 x 503 os 05 WR ME DE] 2 i . 36 DEEP TAPPED FOE || a | mene SLEEVE $a240 Gr3t7| 1 | 1720 circ. x 1095 x 65 THK. 28 og Hi 1638 10. A th 2 FOR sTUDS: i Stes ; ice ean Le [Axs21_ [STUB SHELL FOR EXPANSION BELLOW [A516 Gr.60 1 [1838 cire.. x 300+25 x 25 THK. | 108 4 wo fe }j-\\u2014saseren \\\\ are] 320 _| STUB SHELL FOR ExPMON BELLOW|SASTE Gr.60 | 1 [1838 cire. x 250 x 25 THK 30.1 ' i 2 so yo ne wowes Lt gape i (Asis. [stuo + 1 Nur a caw sew cau See804| 24 x 3P x 170 LG 3 i f 8 32.NO._270 HOLES, ann z x \\u00a2 4 ! i Bi ee ARS I i ins 318._| FLANGE \\u2018SAZ66 Gr.2 1 [960 0/0 x 560 1/0 x 128 THK; SEE oeraL | 32: 4 i | ' \\u2018 OFF CTRS. i =\\u2014s 787\\\" ZY DETAIL OF LIFTING TRUNNION. (ros omenrarion [As17. | caser SEE NOTE NO. 94[1+4+1[ 4.5 THK, SEE DETAIL = 403)-1h) | # ar | ee (Asie. [stuo + 1 NUT i BM in Gow] S2v7\\u00a54 [M24 x SP x 285 LG 30 8 ia | 3 | \\u2014_ ee oc. -v \\u00ab a = 15._ [INTERNAL FLANGE SA266 Gr.2 1 | 960 0/0 x 560 1/0 x 256 THK; Set DETAL| 903 TAPPED HOLES. \\u00a5 AA A i 3 d e al \\u00a2 on fe [oe Lae foe | soe 14. [ GASKET SOFT IRON _|14441| OCTAGONAL RING NO. 77 (SEE NOTE 5)| \\u2014 DETAIL OF CONNECTING PIECE ia, =| 3 THK, (MIN), anes fone \\u2018ALOY 825 avr 313. | INTERNAL FLANGE SA266 Gr.2 1 750 0/0 x 560 \\\\/D x 124 THK; SEE DETAIL] 225 EE. FLOATING HEAD ASSEMBLY wio- 3 5 UA I SR curren \\u2014 IA OS\\\" % 270): DETAIL OF GASKET ae | & \\u201cHID 62s puritans \\u201c7 i oy [As12. [EXPANSION BELLOWS [S-M) Ri WS n\\u00e9Gs] 1 | SEE ORAWING 131209-302-OWG-ExB| \\u2014 : as = 575 A I 2 te oo INSOE ele RTP, 5g Le 31s, [stud + 2 NUTS i GBM + 8 GN | 28+644 [M27 x SP x 260 48 ae i 3| exe rr. =F 4 ( ) \\u2018310. | INTERNAL FLANGE 'SA266 Gr.2 1 [770 0/0 x 560 1/0 x 126 THK; SEE DETAL| 165 | \\u2014 ae Ht! Ee 27a] or (aur 5 He, (soo. [caseer SEE NOTE NODA] T441[ 45 TH, SEE DETAL S f= =e et @ k A 7 | ae (eos inn veo pera west tin [wena Gene | Tg Yo WE Ts q ' le src aor HO aw x05 \\\\wss ele ale ree stus SI I WEL 307, [stud 1 2 NUTS fom oan a Gow] cor 12ie | MSS \\u00ab SP x S75 UG. 347 we se BEEP cro ROS jo} i ewe \\u20183 SUTTERROANDUELDOVERAY Cosson\\u00bb isso) 06. | case SEE NOTE nos0] +441] 6.35 THK, SEE DETAL T= TH TP. Tee ga I (By GoDRE) 3 BUTTERING AND WELD OVERLAY ITEM NO, 322 (SLEEVE) e& : (pan OF SQ. END STUD DETAIL OF STUD i olZ \\u2018 3 a) = 305 _| CONNECTING PIECE SA516 Gr.70 | 2 | 36 THK. SEE DETAL 27 | E A 36-NO. M24 x 3P_x_/ 5 \\u2014 \\u2018D | 304. | BACKING RING SA266_Gr.2 1 1932 OD x 1637 ID x 270 THK. 1782 36-DeEP TAPED HOE a2 | = DA dayrstan or cr sense\\u201d oie . j \\u2018303, | FLOATING HEAD FLANGE [A266 Gr.2 1 [1982 0/0 x 1686 1/0 x 267 THK; SEE OETA | 1406 i vee s1U0s : Bu TE } DELETED = 704K, (Now) io | ex UO \\u201c ; seme [| | an CHINN REQURED IN TS RANGE ONLY sor joe Eres = DETAIL OF SLEEVE uo ia w AAXDETAIL \\u201cD4! 7 eta SeorETON marerial | @1Y.[~] DIMENSIONS: (ue) ae lo sli} Stn 58 soowo. aurremne usr wao nuvace fae BILL OF MATERIALS poate waza, OM MRO? ele (BEFORE PUNT > wse = a ; a . dwr\\\\ THE ORANG FRE TE COPTRENTED WOR OF COORE) & BOYCE WEE CO. 1, CODREY & BOYCE W5G_O LD, RESERES \\u00a2 731 (yee - ALL RIGHTS. WHATSOEVER IN THE. DRAWINGS, \\u201cGODREJ &e BOYCE MEG. CO. LID. ASSERTS ITS RIGHTS OVER THE ORAWINGS THAT |G ol | (GETER Punt) eta HAVE BEEN CONCENED BY THE OINT OF ITS EFFORTS AND ALSO VIEWS REPROOUCTION OF THE DRAWINGS, AS 1S OR BY MAKING 9) Q o =] COSMETIC OR OTHER CHANGES, AS A VIOLATION OF ITS COPYRIGHT. NO PART OF THE DRAWINGS SHALL BE COPIED OR met (Maz o7-orzald Mate REPRODUCED WIHOUT THE WRITTEN APPROVAL OF GOORE a BOYCE MFG, CO. LID. j 8 J | ry Be eaeed c 4 8 | 8 8 |S alg ; FoR GODRE For TI yg WYER / zee BS) 8} gle &] 5) 8] gel slg 36_NO._278 HOLES, 7 i TRIMMING (499 sol 3} gle \\u201clle lel | aia THRU,_EQUI-SPACED ly L a) =lelz z| 5ldlg| 21g Suetve = Gy 2/218] G) 2) re) Pre pe, a ane al gee) le sos son oF nozzie eo. Godrej & Boyce Mfg. Co. Ltd. 13 = 3 rene alt OF GIRTH FLANGE 's 560 7 2 Process Equipment Division | TARE a @) DETAIL OF GASKET 2 wee SANS DETAIL D3\\\" MACHINING SYWBOL REMOVED ON IT. NO. 325. DORE BOC. NO. ADDED. DETAIL \\\"D3\\\" 5 [ovroxraor|imcinee, seve seuow 323. 0 wn (FRA PS | wrote, DETAILS OF TUBESHEET & FLOATING \\u2014 | pQPT. NO. 101-E5-1001 aD 5 \\u00a5 z ra u \\u00a2 24 NSE TONG. SEA ORETATON OF TSSOT IDE IOS PODED, WELD DETAIL\\\" WIO FOR HEAD_ASSLY. ee 3 2 | : y=80r Iho, 385 REVISED, HOLE. Di OF yi, SET REGED. BOLT TORQUE TAKE art \\u201cRUDE TY: 4 NO. \\u00a30PT. i 8 {| soma \\u2014 sore 4 {oayr1/2016} FeO. $35, REVSED, HOLE, DA. OF at ran | RAW M_| EQPT. NAME: CRUDE/CRUDE COLUMN VAPOR BXCHANGER| QUANTITY: No. 0H 8 i * ; = \\u201cJ TWATERDL OF T. NO. 337\\u00b0 REVISED\\u201d DETAIS OF EXPANSION BELLOW OMT RODS ine = : a a ae a aa] A tle Le Vv val POU. Mo. Ste oe A0RD, REECE Ne, TOR EAE CT, 5.0. NO.: 650691 | P.O. NO.: AGREEMENT DATED 04/11/2015] BIL JOB NO.: A545 A [1s taper \\\\unsioe, ie 7 _ _ a Noe RewSeD, AND NOTE QO. 7 ACDED. THLE FOR iT, NO. Sez REVSED. raw | ean | mw [CLIENT: DANGOTE PETROLEUM REFINERY AND PETROCHEMICALS FZEA\\\\| uN: RYO, O'S) 4 wnsioe vr Zi SS 7 \\\" j 3 [01/05/2016] ec. REGED AS MARRED, a PROLENM Unit (01) . bE Me q it i 3 RIENTATION OF TORESHEETS REVSED. THK. OF 17 NO. 326 REWSED. LG. OF CONSULTANT: UOP/EI IL PR NO:A545~L01-EE-PR~6170/5029 REV.O DT.16/10/2015 WELD DETAIL Wt\\\" 3 S \\u00a2 _ | | Siva Sut no. $39 neveeD. Tr non 301 sua wowta.70 sar? &?, CONSULTANT: UOP/EE) ___ - i A, WELD DETAIL 'W2\\\" al | ao \\\\ueon ||2 aera] Ry Magar ee ORLETED. TO, 535-3435 ADOED. ORG. REVISED: ran | RaW tw [INSPECTION AGENCY: LRA A\\\\|DORC DOC. NO.: A545-6170~-5029-VD-101-EE~1001.4~ D-003-5 WELD DETAIL 'W3\\\" = = INsiDe | ee ce oe = zZ : See % \\\\ A insive INSIDE A se aonel ND, 80351, DELETED, MN 399 500514.316.317.10.520-97 500-8 [oe Tay GODREJ g Is OF IREV 2 a WELD_DETAIL We\\\" 25/2 Une ee AS ASE, 02/01/2016] PROJECT NO. DRG. NO. _|SHT.) OF |REV [CHIP BACK TO SOUND METAL AND WELD DETAIL \\u2018WS! \\u2014 ==! WELD DETAIL'Wwe | 0 [xx/a/z016|iSSUED FoR APPROVAL pan [ ate 02/01/2016 = | REWELD ir y ul eee 2/01/2018 a % WEL WELD DETAIL 'W4' ev! DATE DESCRIPTION \\u2018auto. | cHKD. o2/or/aore| 131299302 AHE-E-848 | 3 1 I 2 3 I & 5 7 l 38 = 10 iz 14 5 16\"\n        ],\n        \"semantic_type\": \"\",\n        \"description\": \"\"\n      }\n    },\n    {\n      \"column\": \"labels\",\n      \"properties\": {\n        \"dtype\": \"number\",\n        \"std\": 0,\n        \"min\": 0,\n        \"max\": 2,\n        \"num_unique_values\": 3,\n        \"samples\": [\n          0,\n          2,\n          1\n        ],\n        \"semantic_type\": \"\",\n        \"description\": \"\"\n      }\n    }\n  ]\n}"
            }
          },
          "metadata": {},
          "execution_count": 18
        }
      ],
      "source": [
        "df.head(5)"
      ]
    },
    {
      "cell_type": "code",
      "execution_count": null,
      "metadata": {
        "colab": {
          "base_uri": "https://localhost:8080/",
          "height": 439
        },
        "id": "v07SNbNXx46T",
        "outputId": "7f83611f-45df-4392-f985-e3c5c64b8aba"
      },
      "outputs": [
        {
          "output_type": "execute_result",
          "data": {
            "text/plain": [
              "<Axes: ylabel='labels'>"
            ]
          },
          "metadata": {},
          "execution_count": 19
        },
        {
          "output_type": "display_data",
          "data": {
            "text/plain": [
              "<Figure size 500x500 with 1 Axes>"
            ],
            "image/png": "[encoded data removed]"
          },
          "metadata": {}
        }
      ],
      "source": [
        "df.labels.value_counts().plot(kind='pie', figsize=(5,5))"
      ]
    },
    {
      "cell_type": "markdown",
      "metadata": {
        "id": "J1AQp2gbr5fT"
      },
      "source": [
        "Split dataset into train and test for tuning in our custom dataset.\n",
        "\n",
        "\n"
      ]
    },
    {
      "cell_type": "code",
      "execution_count": null,
      "metadata": {
        "colab": {
          "base_uri": "https://localhost:8080/"
        },
        "id": "7fwJc_LLr0s3",
        "outputId": "112f5956-3c1a-4ad1-e276-a031420599b7"
      },
      "outputs": [
        {
          "output_type": "execute_result",
          "data": {
            "text/plain": [
              "1      LIST OF RELATED DRAWINGS SR. NO. DRG. NO. REV....\n",
              "39     THIS P AND | DIAGRAM IS DIAGRAMMATIC ONLY. DES...\n",
              "71     Reliance Ports & Terminals Ltd. - Engg. Divisi...\n",
              "203    EQPT NAME : CRUDE/CRUDE COLUMN VAPOR EXCHANGER...\n",
              "257    NOTE: THE INFORMATION IN THIS DOCUMENT IS CONF...\n",
              "25     STEAM INLET STEAM EXHAUST WITHIN CONFINES OF C...\n",
              "161    Applicable To: CJ Proposal anufacturer IOP TH)...\n",
              "118    STEERER NOZZLE SCHEDULE MOC : JGE12013JHYD048 ...\n",
              "195    G41-RF £Z418-O19 CONFIDENTIAL DOCUMENT. THIS D...\n",
              "145    @ CAMERON PROJECT CUSTOMER PROJECT No. LOCATIO...\n",
              "Name: extracted_text, dtype: object"
            ]
          },
          "metadata": {},
          "execution_count": 20
        }
      ],
      "source": [
        "from sklearn.model_selection import train_test_split\n",
        "X_train, X_test, y_train, y_test = train_test_split(df['extracted_text'],df['labels'], stratify=df['labels'])\n",
        "X_train.head(10)"
      ]
    },
    {
      "cell_type": "code",
      "execution_count": null,
      "metadata": {
        "colab": {
          "base_uri": "https://localhost:8080/"
        },
        "id": "iG041Rair_GU",
        "outputId": "2a77894a-9e51-4413-8c73-5e5c0524b1d0"
      },
      "outputs": [
        {
          "output_type": "stream",
          "name": "stdout",
          "text": [
            "213 71 213 71\n"
          ]
        }
      ],
      "source": [
        "print(len(X_train),len(X_test),len(y_train),len(y_test))"
      ]
    },
    {
      "cell_type": "markdown",
      "metadata": {
        "id": "4SOOjUfts0oo"
      },
      "source": [
        "# Import pretrained BERT model\n",
        "from Tensorflow hub,\n",
        "There are different BERT models are available like\n",
        "\n",
        "1) bert_en_uncased\n",
        "\n",
        "2) bert_base_uncased\n",
        "\n",
        "3) bert_large_uncased\n",
        "\n",
        "difference is number of encoders layers which performs better on different datsets.\n"
      ]
    },
    {
      "cell_type": "code",
      "execution_count": null,
      "metadata": {
        "colab": {
          "base_uri": "https://localhost:8080/"
        },
        "id": "VQRRWS00sxjB",
        "outputId": "f9632e63-0b8a-477e-dfaa-15befe0e5be9"
      },
      "outputs": [
        {
          "output_type": "stream",
          "name": "stdout",
          "text": [
            "Collecting tensorflow-text\n",
            "  Downloading tensorflow_text-2.15.0-cp310-cp310-manylinux_2_17_x86_64.manylinux2014_x86_64.whl (5.2 MB)\n",
            "\u001b[2K     \u001b[90m━━━━━━━━━━━━━━━━━━━━━━━━━━━━━━━━━━━━━━━━\u001b[0m \u001b[32m5.2/5.2 MB\u001b[0m \u001b[31m17.0 MB/s\u001b[0m eta \u001b[36m0:00:00\u001b[0m\n",
            "\u001b[?25hRequirement already satisfied: tensorflow-hub>=0.13.0 in /usr/local/lib/python3.10/dist-packages (from tensorflow-text) (0.16.1)\n",
            "Requirement already satisfied: tensorflow<2.16,>=2.15.0 in /usr/local/lib/python3.10/dist-packages (from tensorflow-text) (2.15.0)\n",
            "Requirement already satisfied: absl-py>=1.0.0 in /usr/local/lib/python3.10/dist-packages (from tensorflow<2.16,>=2.15.0->tensorflow-text) (1.4.0)\n",
            "Requirement already satisfied: astunparse>=1.6.0 in /usr/local/lib/python3.10/dist-packages (from tensorflow<2.16,>=2.15.0->tensorflow-text) (1.6.3)\n",
            "Requirement already satisfied: flatbuffers>=23.5.26 in /usr/local/lib/python3.10/dist-packages (from tensorflow<2.16,>=2.15.0->tensorflow-text) (23.5.26)\n",
            "Requirement already satisfied: gast!=0.5.0,!=0.5.1,!=0.5.2,>=0.2.1 in /usr/local/lib/python3.10/dist-packages (from tensorflow<2.16,>=2.15.0->tensorflow-text) (0.5.4)\n",
            "Requirement already satisfied: google-pasta>=0.1.1 in /usr/local/lib/python3.10/dist-packages (from tensorflow<2.16,>=2.15.0->tensorflow-text) (0.2.0)\n",
            "Requirement already satisfied: h5py>=2.9.0 in /usr/local/lib/python3.10/dist-packages (from tensorflow<2.16,>=2.15.0->tensorflow-text) (3.9.0)\n",
            "Requirement already satisfied: libclang>=13.0.0 in /usr/local/lib/python3.10/dist-packages (from tensorflow<2.16,>=2.15.0->tensorflow-text) (16.0.6)\n",
            "Requirement already satisfied: ml-dtypes~=0.2.0 in /usr/local/lib/python3.10/dist-packages (from tensorflow<2.16,>=2.15.0->tensorflow-text) (0.2.0)\n",
            "Requirement already satisfied: numpy<2.0.0,>=1.23.5 in /usr/local/lib/python3.10/dist-packages (from tensorflow<2.16,>=2.15.0->tensorflow-text) (1.25.2)\n",
            "Requirement already satisfied: opt-einsum>=2.3.2 in /usr/local/lib/python3.10/dist-packages (from tensorflow<2.16,>=2.15.0->tensorflow-text) (3.3.0)\n",
            "Requirement already satisfied: packaging in /usr/local/lib/python3.10/dist-packages (from tensorflow<2.16,>=2.15.0->tensorflow-text) (23.2)\n",
            "Requirement already satisfied: protobuf!=4.21.0,!=4.21.1,!=4.21.2,!=4.21.3,!=4.21.4,!=4.21.5,<5.0.0dev,>=3.20.3 in /usr/local/lib/python3.10/dist-packages (from tensorflow<2.16,>=2.15.0->tensorflow-text) (3.20.3)\n",
            "Requirement already satisfied: setuptools in /usr/local/lib/python3.10/dist-packages (from tensorflow<2.16,>=2.15.0->tensorflow-text) (67.7.2)\n",
            "Requirement already satisfied: six>=1.12.0 in /usr/local/lib/python3.10/dist-packages (from tensorflow<2.16,>=2.15.0->tensorflow-text) (1.16.0)\n",
            "Requirement already satisfied: termcolor>=1.1.0 in /usr/local/lib/python3.10/dist-packages (from tensorflow<2.16,>=2.15.0->tensorflow-text) (2.4.0)\n",
            "Requirement already satisfied: typing-extensions>=3.6.6 in /usr/local/lib/python3.10/dist-packages (from tensorflow<2.16,>=2.15.0->tensorflow-text) (4.10.0)\n",
            "Requirement already satisfied: wrapt<1.15,>=1.11.0 in /usr/local/lib/python3.10/dist-packages (from tensorflow<2.16,>=2.15.0->tensorflow-text) (1.14.1)\n",
            "Requirement already satisfied: tensorflow-io-gcs-filesystem>=0.23.1 in /usr/local/lib/python3.10/dist-packages (from tensorflow<2.16,>=2.15.0->tensorflow-text) (0.36.0)\n",
            "Requirement already satisfied: grpcio<2.0,>=1.24.3 in /usr/local/lib/python3.10/dist-packages (from tensorflow<2.16,>=2.15.0->tensorflow-text) (1.62.0)\n",
            "Requirement already satisfied: tensorboard<2.16,>=2.15 in /usr/local/lib/python3.10/dist-packages (from tensorflow<2.16,>=2.15.0->tensorflow-text) (2.15.2)\n",
            "Requirement already satisfied: tensorflow-estimator<2.16,>=2.15.0 in /usr/local/lib/python3.10/dist-packages (from tensorflow<2.16,>=2.15.0->tensorflow-text) (2.15.0)\n",
            "Requirement already satisfied: keras<2.16,>=2.15.0 in /usr/local/lib/python3.10/dist-packages (from tensorflow<2.16,>=2.15.0->tensorflow-text) (2.15.0)\n",
            "Requirement already satisfied: tf-keras>=2.14.1 in /usr/local/lib/python3.10/dist-packages (from tensorflow-hub>=0.13.0->tensorflow-text) (2.15.0)\n",
            "Requirement already satisfied: wheel<1.0,>=0.23.0 in /usr/local/lib/python3.10/dist-packages (from astunparse>=1.6.0->tensorflow<2.16,>=2.15.0->tensorflow-text) (0.42.0)\n",
            "Requirement already satisfied: google-auth<3,>=1.6.3 in /usr/local/lib/python3.10/dist-packages (from tensorboard<2.16,>=2.15->tensorflow<2.16,>=2.15.0->tensorflow-text) (2.27.0)\n",
            "Requirement already satisfied: google-auth-oauthlib<2,>=0.5 in /usr/local/lib/python3.10/dist-packages (from tensorboard<2.16,>=2.15->tensorflow<2.16,>=2.15.0->tensorflow-text) (1.2.0)\n",
            "Requirement already satisfied: markdown>=2.6.8 in /usr/local/lib/python3.10/dist-packages (from tensorboard<2.16,>=2.15->tensorflow<2.16,>=2.15.0->tensorflow-text) (3.5.2)\n",
            "Requirement already satisfied: requests<3,>=2.21.0 in /usr/local/lib/python3.10/dist-packages (from tensorboard<2.16,>=2.15->tensorflow<2.16,>=2.15.0->tensorflow-text) (2.31.0)\n",
            "Requirement already satisfied: tensorboard-data-server<0.8.0,>=0.7.0 in /usr/local/lib/python3.10/dist-packages (from tensorboard<2.16,>=2.15->tensorflow<2.16,>=2.15.0->tensorflow-text) (0.7.2)\n",
            "Requirement already satisfied: werkzeug>=1.0.1 in /usr/local/lib/python3.10/dist-packages (from tensorboard<2.16,>=2.15->tensorflow<2.16,>=2.15.0->tensorflow-text) (3.0.1)\n",
            "Requirement already satisfied: cachetools<6.0,>=2.0.0 in /usr/local/lib/python3.10/dist-packages (from google-auth<3,>=1.6.3->tensorboard<2.16,>=2.15->tensorflow<2.16,>=2.15.0->tensorflow-text) (5.3.3)\n",
            "Requirement already satisfied: pyasn1-modules>=0.2.1 in /usr/local/lib/python3.10/dist-packages (from google-auth<3,>=1.6.3->tensorboard<2.16,>=2.15->tensorflow<2.16,>=2.15.0->tensorflow-text) (0.3.0)\n",
            "Requirement already satisfied: rsa<5,>=3.1.4 in /usr/local/lib/python3.10/dist-packages (from google-auth<3,>=1.6.3->tensorboard<2.16,>=2.15->tensorflow<2.16,>=2.15.0->tensorflow-text) (4.9)\n",
            "Requirement already satisfied: requests-oauthlib>=0.7.0 in /usr/local/lib/python3.10/dist-packages (from google-auth-oauthlib<2,>=0.5->tensorboard<2.16,>=2.15->tensorflow<2.16,>=2.15.0->tensorflow-text) (1.3.1)\n",
            "Requirement already satisfied: charset-normalizer<4,>=2 in /usr/local/lib/python3.10/dist-packages (from requests<3,>=2.21.0->tensorboard<2.16,>=2.15->tensorflow<2.16,>=2.15.0->tensorflow-text) (3.3.2)\n",
            "Requirement already satisfied: idna<4,>=2.5 in /usr/local/lib/python3.10/dist-packages (from requests<3,>=2.21.0->tensorboard<2.16,>=2.15->tensorflow<2.16,>=2.15.0->tensorflow-text) (3.6)\n",
            "Requirement already satisfied: urllib3<3,>=1.21.1 in /usr/local/lib/python3.10/dist-packages (from requests<3,>=2.21.0->tensorboard<2.16,>=2.15->tensorflow<2.16,>=2.15.0->tensorflow-text) (2.0.7)\n",
            "Requirement already satisfied: certifi>=2017.4.17 in /usr/local/lib/python3.10/dist-packages (from requests<3,>=2.21.0->tensorboard<2.16,>=2.15->tensorflow<2.16,>=2.15.0->tensorflow-text) (2024.2.2)\n",
            "Requirement already satisfied: MarkupSafe>=2.1.1 in /usr/local/lib/python3.10/dist-packages (from werkzeug>=1.0.1->tensorboard<2.16,>=2.15->tensorflow<2.16,>=2.15.0->tensorflow-text) (2.1.5)\n",
            "Requirement already satisfied: pyasn1<0.6.0,>=0.4.6 in /usr/local/lib/python3.10/dist-packages (from pyasn1-modules>=0.2.1->google-auth<3,>=1.6.3->tensorboard<2.16,>=2.15->tensorflow<2.16,>=2.15.0->tensorflow-text) (0.5.1)\n",
            "Requirement already satisfied: oauthlib>=3.0.0 in /usr/local/lib/python3.10/dist-packages (from requests-oauthlib>=0.7.0->google-auth-oauthlib<2,>=0.5->tensorboard<2.16,>=2.15->tensorflow<2.16,>=2.15.0->tensorflow-text) (3.2.2)\n",
            "Installing collected packages: tensorflow-text\n",
            "Successfully installed tensorflow-text-2.15.0\n"
          ]
        }
      ],
      "source": [
        "import tensorflow as tf\n",
        "import tensorflow_hub as hub\n",
        "!pip install tensorflow-text\n",
        "import tensorflow_text as text\n",
        "bert_preprocess = hub.KerasLayer(\"https://tfhub.dev/tensorflow/bert_en_uncased_preprocess/3\")\n",
        "bert_encoder = hub.KerasLayer(\"https://tfhub.dev/tensorflow/bert_en_uncased_L-12_H-768_A-12/4\")"
      ]
    },
    {
      "cell_type": "markdown",
      "metadata": {
        "id": "ZC2WxW8Rkbm7"
      },
      "source": [
        "# Transformers:\n",
        "\n",
        "Transformers are a class of deep learning models that have revolutionized various `natural language processing (NLP)` tasks. Unlike traditional sequence models like `recurrent neural networks (RNNs)` or `convolutional neural networks (CNNs)`, transformers rely entirely on self-attention mechanisms to draw global dependencies between input and output tokens. Key components of transformers include:"
      ]
    },
    {
      "cell_type": "code",
      "execution_count": null,
      "metadata": {
        "colab": {
          "base_uri": "https://localhost:8080/"
        },
        "id": "qALNygjltnOM",
        "outputId": "a3d77a0d-df20-4f4f-d1ed-9db740e268b2"
      },
      "outputs": [
        {
          "output_type": "stream",
          "name": "stdout",
          "text": [
            "Requirement already satisfied: transformers in /usr/local/lib/python3.10/dist-packages (4.38.1)\n",
            "Requirement already satisfied: filelock in /usr/local/lib/python3.10/dist-packages (from transformers) (3.13.1)\n",
            "Requirement already satisfied: huggingface-hub<1.0,>=0.19.3 in /usr/local/lib/python3.10/dist-packages (from transformers) (0.20.3)\n",
            "Requirement already satisfied: numpy>=1.17 in /usr/local/lib/python3.10/dist-packages (from transformers) (1.25.2)\n",
            "Requirement already satisfied: packaging>=20.0 in /usr/local/lib/python3.10/dist-packages (from transformers) (23.2)\n",
            "Requirement already satisfied: pyyaml>=5.1 in /usr/local/lib/python3.10/dist-packages (from transformers) (6.0.1)\n",
            "Requirement already satisfied: regex!=2019.12.17 in /usr/local/lib/python3.10/dist-packages (from transformers) (2023.12.25)\n",
            "Requirement already satisfied: requests in /usr/local/lib/python3.10/dist-packages (from transformers) (2.31.0)\n",
            "Requirement already satisfied: tokenizers<0.19,>=0.14 in /usr/local/lib/python3.10/dist-packages (from transformers) (0.15.2)\n",
            "Requirement already satisfied: safetensors>=0.4.1 in /usr/local/lib/python3.10/dist-packages (from transformers) (0.4.2)\n",
            "Requirement already satisfied: tqdm>=4.27 in /usr/local/lib/python3.10/dist-packages (from transformers) (4.66.2)\n",
            "Requirement already satisfied: fsspec>=2023.5.0 in /usr/local/lib/python3.10/dist-packages (from huggingface-hub<1.0,>=0.19.3->transformers) (2023.6.0)\n",
            "Requirement already satisfied: typing-extensions>=3.7.4.3 in /usr/local/lib/python3.10/dist-packages (from huggingface-hub<1.0,>=0.19.3->transformers) (4.10.0)\n",
            "Requirement already satisfied: charset-normalizer<4,>=2 in /usr/local/lib/python3.10/dist-packages (from requests->transformers) (3.3.2)\n",
            "Requirement already satisfied: idna<4,>=2.5 in /usr/local/lib/python3.10/dist-packages (from requests->transformers) (3.6)\n",
            "Requirement already satisfied: urllib3<3,>=1.21.1 in /usr/local/lib/python3.10/dist-packages (from requests->transformers) (2.0.7)\n",
            "Requirement already satisfied: certifi>=2017.4.17 in /usr/local/lib/python3.10/dist-packages (from requests->transformers) (2024.2.2)\n"
          ]
        }
      ],
      "source": [
        "!pip install transformers"
      ]
    },
    {
      "cell_type": "markdown",
      "metadata": {
        "id": "aCaKdO2Rt8Pw"
      },
      "source": [
        "Preprocessing and BERT model layer input and output defining"
      ]
    },
    {
      "cell_type": "code",
      "execution_count": null,
      "metadata": {
        "id": "-o_sCZictt1A"
      },
      "outputs": [],
      "source": [
        "text_input = tf.keras.layers.Input(shape=(), dtype=tf.string, name='text')\n",
        "preprocessed_text = bert_preprocess(text_input)\n",
        "outputs = bert_encoder(preprocessed_text)\n",
        "# Neural network layers\n",
        "# l = tf.keras.layers.Dropout(0.1, name=\"dropout\")(outputs['pooled_output'])"
      ]
    },
    {
      "cell_type": "markdown",
      "metadata": {
        "id": "eHXv7ecCuIG1"
      },
      "source": [
        "# Model Architecture\n",
        "Dense Layers and other parameters to define model."
      ]
    },
    {
      "cell_type": "markdown",
      "metadata": {
        "id": "_eXKqM1gocuc"
      },
      "source": [
        "output = tf.keras.layers.Dense(256, activation='relu')(outputs['pooled_output']):\n",
        "\n",
        "This line adds a `dense (fully connected) layer with 256 units and ReLU activation function` on top of the input outputs['pooled_output'].\n",
        "\n",
        "The output of this layer is stored in the variable output.\n",
        "`output = tf.keras.layers.Dropout(0.2)(output)`:\n",
        "\n",
        "This line adds a dropout layer with a dropout rate of 0.2 to help prevent overfitting by randomly setting 20% of input units to 0 during training.\n",
        "\n",
        "The output of this layer is stored back in the variable output.\n",
        "`output = tf.keras.layers.Dense(32, activation='relu')(output)`:\n",
        "\n",
        "This line adds another dense layer with 32 units and ReLU activation function on top of the output from the dropout layer.\n",
        "The output of this layer is stored\n",
        "\n",
        "`output = tf.keras.layers.Dense(3, activation='softmax')(output):`\n",
        "\n",
        "This line adds the final dense layer with 3 units (as it's a multi-class classification task) and `softmax activation function`."
      ]
    },
    {
      "cell_type": "code",
      "execution_count": null,
      "metadata": {
        "id": "_2bUCo50uEu8"
      },
      "outputs": [],
      "source": [
        "output = tf.keras.layers.Dense(256,activation='relu')(outputs['pooled_output'])\n",
        "output = tf.keras.layers.Dropout(0.2)(output)\n",
        "output = tf.keras.layers.Dense(32,activation='relu')(output)\n",
        "output = tf.keras.layers.Dense(3,activation='softmax')(output)"
      ]
    },
    {
      "cell_type": "code",
      "execution_count": null,
      "metadata": {
        "id": "C_L5Sx-2ua94"
      },
      "outputs": [],
      "source": [
        "model = tf.keras.Model(inputs=[text_input], outputs = [output])"
      ]
    },
    {
      "cell_type": "markdown",
      "metadata": {
        "id": "p53YITkLuoAL"
      },
      "source": [
        "# Summary"
      ]
    },
    {
      "cell_type": "code",
      "execution_count": null,
      "metadata": {
        "colab": {
          "base_uri": "https://localhost:8080/"
        },
        "id": "BdkfA_4Gukye",
        "outputId": "a800b7fd-b03f-4850-f699-031c440bccc2"
      },
      "outputs": [
        {
          "output_type": "stream",
          "name": "stdout",
          "text": [
            "Model: \"model\"\n",
            "__________________________________________________________________________________________________\n",
            " Layer (type)                Output Shape                 Param #   Connected to                  \n",
            "==================================================================================================\n",
            " text (InputLayer)           [(None,)]                    0         []                            \n",
            "                                                                                                  \n",
            " keras_layer (KerasLayer)    {'input_mask': (None, 128)   0         ['text[0][0]']                \n",
            "                             , 'input_word_ids': (None,                                           \n",
            "                              128),                                                               \n",
            "                              'input_type_ids': (None,                                            \n",
            "                             128)}                                                                \n",
            "                                                                                                  \n",
            " keras_layer_1 (KerasLayer)  {'encoder_outputs': [(None   1094822   ['keras_layer[0][0]',         \n",
            "                             , 128, 768),                 41         'keras_layer[0][1]',         \n",
            "                              (None, 128, 768),                      'keras_layer[0][2]']         \n",
            "                              (None, 128, 768),                                                   \n",
            "                              (None, 128, 768),                                                   \n",
            "                              (None, 128, 768),                                                   \n",
            "                              (None, 128, 768),                                                   \n",
            "                              (None, 128, 768),                                                   \n",
            "                              (None, 128, 768),                                                   \n",
            "                              (None, 128, 768),                                                   \n",
            "                              (None, 128, 768),                                                   \n",
            "                              (None, 128, 768),                                                   \n",
            "                              (None, 128, 768)],                                                  \n",
            "                              'default': (None, 768),                                             \n",
            "                              'pooled_output': (None, 7                                           \n",
            "                             68),                                                                 \n",
            "                              'sequence_output': (None,                                           \n",
            "                              128, 768)}                                                          \n",
            "                                                                                                  \n",
            " dense (Dense)               (None, 256)                  196864    ['keras_layer_1[0][13]']      \n",
            "                                                                                                  \n",
            " dropout (Dropout)           (None, 256)                  0         ['dense[0][0]']               \n",
            "                                                                                                  \n",
            " dense_1 (Dense)             (None, 32)                   8224      ['dropout[0][0]']             \n",
            "                                                                                                  \n",
            " dense_2 (Dense)             (None, 3)                    99        ['dense_1[0][0]']             \n",
            "                                                                                                  \n",
            "==================================================================================================\n",
            "Total params: 109687428 (418.42 MB)\n",
            "Trainable params: 205187 (801.51 KB)\n",
            "Non-trainable params: 109482241 (417.64 MB)\n",
            "__________________________________________________________________________________________________\n"
          ]
        }
      ],
      "source": [
        "model.summary()"
      ]
    },
    {
      "cell_type": "markdown",
      "metadata": {
        "id": "2cw_iDwYvC8d"
      },
      "source": [
        "# Model Training\n",
        "with required parameters and Batch size"
      ]
    },
    {
      "cell_type": "code",
      "execution_count": null,
      "metadata": {
        "colab": {
          "base_uri": "https://localhost:8080/"
        },
        "id": "xc2_bySyuq8z",
        "outputId": "9d80a3dc-cfc5-4369-dc71-904a654f5377"
      },
      "outputs": [
        {
          "output_type": "stream",
          "name": "stdout",
          "text": [
            "Epoch 1/18\n",
            "14/14 [==============================] - 17s 187ms/step - loss: 1.2048 - accuracy: 0.3521\n",
            "Epoch 2/18\n",
            "14/14 [==============================] - 3s 226ms/step - loss: 1.0403 - accuracy: 0.4460\n",
            "Epoch 3/18\n",
            "14/14 [==============================] - 3s 186ms/step - loss: 0.9163 - accuracy: 0.6009\n",
            "Epoch 4/18\n",
            "14/14 [==============================] - 3s 184ms/step - loss: 0.8954 - accuracy: 0.5962\n",
            "Epoch 5/18\n",
            "14/14 [==============================] - 3s 186ms/step - loss: 0.8211 - accuracy: 0.6338\n",
            "Epoch 6/18\n",
            "14/14 [==============================] - 3s 203ms/step - loss: 0.7680 - accuracy: 0.6667\n",
            "Epoch 7/18\n",
            "14/14 [==============================] - 3s 205ms/step - loss: 0.7201 - accuracy: 0.6901\n",
            "Epoch 8/18\n",
            "14/14 [==============================] - 3s 186ms/step - loss: 0.6979 - accuracy: 0.7230\n",
            "Epoch 9/18\n",
            "14/14 [==============================] - 3s 188ms/step - loss: 0.6342 - accuracy: 0.7089\n",
            "Epoch 10/18\n",
            "14/14 [==============================] - 3s 192ms/step - loss: 0.6237 - accuracy: 0.7324\n",
            "Epoch 11/18\n",
            "14/14 [==============================] - 3s 229ms/step - loss: 0.5758 - accuracy: 0.7746\n",
            "Epoch 12/18\n",
            "14/14 [==============================] - 3s 190ms/step - loss: 0.5527 - accuracy: 0.7700\n",
            "Epoch 13/18\n",
            "14/14 [==============================] - 3s 186ms/step - loss: 0.6044 - accuracy: 0.7700\n",
            "Epoch 14/18\n",
            "14/14 [==============================] - 3s 192ms/step - loss: 0.5338 - accuracy: 0.7700\n",
            "Epoch 15/18\n",
            "14/14 [==============================] - 3s 217ms/step - loss: 0.5197 - accuracy: 0.7840\n",
            "Epoch 16/18\n",
            "14/14 [==============================] - 3s 197ms/step - loss: 0.4601 - accuracy: 0.8122\n",
            "Epoch 17/18\n",
            "14/14 [==============================] - 3s 191ms/step - loss: 0.4632 - accuracy: 0.8310\n",
            "Epoch 18/18\n",
            "14/14 [==============================] - 3s 192ms/step - loss: 0.4961 - accuracy: 0.7793\n"
          ]
        },
        {
          "output_type": "execute_result",
          "data": {
            "text/plain": [
              "<keras.src.callbacks.History at 0x7b95912a9840>"
            ]
          },
          "metadata": {},
          "execution_count": 28
        }
      ],
      "source": [
        "model.compile(optimizer='adam', loss=tf.keras.losses.SparseCategoricalCrossentropy(), metrics=['accuracy'])\n",
        "model.fit(X_train, y_train, epochs=18, batch_size = 16)"
      ]
    },
    {
      "cell_type": "code",
      "execution_count": null,
      "metadata": {
        "colab": {
          "base_uri": "https://localhost:8080/"
        },
        "id": "Ob0Doybsyjca",
        "outputId": "01812362-71a0-4e57-f9c5-18f8b40b3d0c"
      },
      "outputs": [
        {
          "name": "stdout",
          "output_type": "stream",
          "text": [
            "3/3 [==============================] - 1s 369ms/step\n"
          ]
        }
      ],
      "source": [
        "# Get predicted labels for test data\n",
        "import numpy as np\n",
        "from sklearn.metrics import confusion_matrix\n",
        "predicted_labels = model.predict(X_test)\n",
        "predicted_labels = np.argmax(predicted_labels, axis=1)  # Convert softmax probabilities to class labels\n",
        "\n",
        "cm = confusion_matrix(y_test, predicted_labels)"
      ]
    },
    {
      "cell_type": "code",
      "execution_count": null,
      "metadata": {
        "colab": {
          "base_uri": "https://localhost:8080/"
        },
        "id": "Cw7OHfDCdAJD",
        "outputId": "8e823f7c-9b2e-45ed-c9ae-8efa1f1c06f1"
      },
      "outputs": [
        {
          "name": "stdout",
          "output_type": "stream",
          "text": [
            "Confusion Matrix for BERT\n"
          ]
        }
      ],
      "source": [
        "print (\"Confusion Matrix for BERT\")"
      ]
    },
    {
      "cell_type": "markdown",
      "metadata": {
        "id": "MqMKuDhmdf67"
      },
      "source": [
        "# Confusion Matrix\n",
        "\n",
        "Confusion matrix is a tabular representation of actual vs. predicted classes in a classification task, showing true positives, true negatives, false positives, and false negatives."
      ]
    },
    {
      "cell_type": "code",
      "execution_count": null,
      "metadata": {
        "colab": {
          "base_uri": "https://localhost:8080/"
        },
        "id": "uou0dpuB-dLe",
        "outputId": "3b914c4b-ac57-4d46-ea63-c627ab6dc3a8"
      },
      "outputs": [
        {
          "name": "stdout",
          "output_type": "stream",
          "text": [
            "[[22  2  0]\n",
            " [ 8 15  1]\n",
            " [ 4 10  9]]\n"
          ]
        }
      ],
      "source": [
        "print(cm)"
      ]
    },
    {
      "cell_type": "code",
      "source": [
        "import numpy as np\n",
        "\n",
        "# Example confusion matrix array\n",
        "confusion_matrix_array = np.array([[22, 2, 0],\n",
        "                                   [8, 15, 1],\n",
        "                                   [4, 10, 9]])\n",
        "\n",
        "print(confusion_matrix_array)"
      ],
      "metadata": {
        "colab": {
          "base_uri": "https://localhost:8080/"
        },
        "id": "u2O4kWL9zJs-",
        "outputId": "a62a9e8d-6853-4866-ce09-88546a7314e4"
      },
      "execution_count": null,
      "outputs": [
        {
          "output_type": "stream",
          "name": "stdout",
          "text": [
            "[[22  2  0]\n",
            " [ 8 15  1]\n",
            " [ 4 10  9]]\n"
          ]
        }
      ]
    },
    {
      "cell_type": "code",
      "source": [
        "import numpy as np\n",
        "\n",
        "# Given confusion matrix\n",
        "confusion_matrix = np.array([[22, 2, 0],\n",
        "                             [8, 15, 1],\n",
        "                             [4, 10, 9]])\n",
        "\n",
        "# Calculate precision, recall, and F1-score for each class\n",
        "precision = np.diag(confusion_matrix) / np.sum(confusion_matrix, axis=0)\n",
        "recall = np.diag(confusion_matrix) / np.sum(confusion_matrix, axis=1)\n",
        "f1_score = 2 * (precision * recall) / (precision + recall)\n",
        "\n",
        "# Print the results\n",
        "print(\"Precision    Recall    F1-score\")\n",
        "for i in range(len(precision)):\n",
        "    print(f\"Class {i}:   {precision[i]:.2f}      {recall[i]:.2f}      {f1_score[i]:.2f}\")\n"
      ],
      "metadata": {
        "colab": {
          "base_uri": "https://localhost:8080/"
        },
        "id": "y6iOrwcbwjC4",
        "outputId": "115b5df1-7667-4e97-d55f-f63b2dcb78b2"
      },
      "execution_count": null,
      "outputs": [
        {
          "output_type": "stream",
          "name": "stdout",
          "text": [
            "Precision    Recall    F1-score\n",
            "Class 0:   0.65      0.92      0.76\n",
            "Class 1:   0.56      0.62      0.59\n",
            "Class 2:   0.90      0.39      0.55\n"
          ]
        }
      ]
    },
    {
      "cell_type": "code",
      "source": [
        "from sklearn.metrics import classification_report\n",
        "\n",
        "# Precision, Recall, and F1-score for each class\n",
        "precision = [0.65, 0.56, 0.90]\n",
        "recall = [0.92, 0.62, 0.39]\n",
        "f1_score = [0.76, 0.59, 0.55]\n",
        "\n",
        "# True labels and predicted labels (assuming they are the same for all classes)\n",
        "true_labels = [0, 1, 2]\n",
        "predicted_labels = [0, 1, 2]\n",
        "\n",
        "# Construct classification report string\n",
        "report_str = \"              Precision    Recall  F1-score\\n\"\n",
        "for i in range(len(true_labels)):\n",
        "    report_str += f\"Class {true_labels[i]}:   {precision[i]:.2f}      {recall[i]:.2f}      {f1_score[i]:.2f}\\n\"\n",
        "\n",
        "# Print classification report\n",
        "print(report_str)\n"
      ],
      "metadata": {
        "colab": {
          "base_uri": "https://localhost:8080/"
        },
        "id": "JwhS3TelxOhF",
        "outputId": "e6d94b8f-dee3-4dd5-c9bb-b7ab8315f432"
      },
      "execution_count": null,
      "outputs": [
        {
          "output_type": "stream",
          "name": "stdout",
          "text": [
            "              Precision    Recall  F1-score\n",
            "Class 0:   0.65      0.92      0.76\n",
            "Class 1:   0.56      0.62      0.59\n",
            "Class 2:   0.90      0.39      0.55\n",
            "\n"
          ]
        }
      ]
    },
    {
      "cell_type": "code",
      "source": [
        "import seaborn as sns\n",
        "import matplotlib.pyplot as plt\n",
        "\n",
        "# Plot confusion matrix as heatmap\n",
        "plt.figure(figsize=(6, 4))\n",
        "sns.heatmap(confusion_matrix_array, annot=True, cmap='Blues', fmt='d', cbar=False)\n",
        "plt.xlabel('Predicted labels')\n",
        "plt.ylabel('True labels')\n",
        "plt.title('Confusion Matrix for BERT')\n",
        "plt.show()"
      ],
      "metadata": {
        "colab": {
          "base_uri": "https://localhost:8080/",
          "height": 410
        },
        "id": "8GixHRUUzWAI",
        "outputId": "d7c15418-8f24-4423-cc6c-61a3f62a8f41"
      },
      "execution_count": null,
      "outputs": [
        {
          "output_type": "display_data",
          "data": {
            "text/plain": [
              "<Figure size 600x400 with 1 Axes>"
            ],
            "image/png": "[encoded data removed]"
          },
          "metadata": {}
        }
      ]
    }
  ],
  "metadata": {
    "accelerator": "GPU",
    "colab": {
      "gpuType": "T4",
      "provenance": []
    },
    "kernelspec": {
      "display_name": "Python 3",
      "name": "python3"
    },
    "language_info": {
      "name": "python"
    }
  },
  "nbformat": 4,
  "nbformat_minor": 0
}